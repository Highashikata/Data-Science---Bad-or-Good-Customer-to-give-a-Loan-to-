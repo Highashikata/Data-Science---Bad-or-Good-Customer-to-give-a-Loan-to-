{
  "nbformat": 4,
  "nbformat_minor": 0,
  "metadata": {
    "colab": {
      "name": "Data Science - Good or Bad Customer to give a loan to.ipynb",
      "provenance": [],
      "collapsed_sections": [],
      "authorship_tag": "ABX9TyMABi5vw8h+7J3ukCLrSn1f",
      "include_colab_link": true
    },
    "kernelspec": {
      "name": "python3",
      "display_name": "Python 3"
    },
    "language_info": {
      "name": "python"
    }
  },
  "cells": [
    {
      "cell_type": "markdown",
      "metadata": {
        "id": "view-in-github",
        "colab_type": "text"
      },
      "source": [
        "<a href=\"https://colab.research.google.com/github/Highashikata/Data-Science---Bad-or-Good-Customer-to-give-a-Loan-to-/blob/main/Data_Science_Good_or_Bad_Customer_to_give_a_loan_to.ipynb\" target=\"_parent\"><img src=\"https://colab.research.google.com/assets/colab-badge.svg\" alt=\"Open In Colab\"/></a>"
      ]
    },
    {
      "cell_type": "markdown",
      "source": [
        "### **Project : Prediction if a Customer is Good or Bad to give a loan to**.\n",
        "\n",
        "Based on same basic bank raw data, we will be analyzing the dataset by going through all the crucial steps of a Data Science Project, from preparing the Data to Building the Machine Learning Model, in order to validate it to have it as a reference for a bank or any financial institution that preoccupy to give loans to its customers.\n",
        "\n",
        "And in this project we will try to build ultimately a Logistic Regression Model and understand the hyper parameters that can allow us to optimize our choices for a an optimal model."
      ],
      "metadata": {
        "id": "0ZXMWtMZK6fh"
      }
    },
    {
      "cell_type": "markdown",
      "source": [
        "### **Importing & Installing Packages**"
      ],
      "metadata": {
        "id": "d7m7CL67OkdR"
      }
    },
    {
      "cell_type": "code",
      "execution_count": 1,
      "metadata": {
        "id": "KtYLkSZ9KwBB"
      },
      "outputs": [],
      "source": [
        "import pandas as pd\n",
        "import numpy as np\n",
        "import matplotlib.pyplot as plt\n",
        "import seaborn as sns\n",
        "\n",
        "from sklearn.linear_model import LinearRegression\n",
        "from sklearn.linear_model import LogisticRegression\n",
        "from sklearn.tree import DecisionTreeClassifier\n",
        "from sklearn.model_selection import train_test_split\n",
        "from sklearn.metrics import r2_score, explained_variance_score, confusion_matrix, accuracy_score, classification_report, log_loss\n",
        "\n",
        "\n",
        "%matplotlib inline\n",
        "\n",
        "# Increase the size of seaborn plots\n",
        "sns.set(rc = {'figure.figsize': (8, 8)})\n",
        "\n",
        "# !conda list check the packages installed"
      ]
    },
    {
      "cell_type": "markdown",
      "source": [
        "#### **Step 1 : Getting the Data**"
      ],
      "metadata": {
        "id": "IEtMMK09QD6l"
      }
    },
    {
      "cell_type": "code",
      "source": [
        "# Loading the data to google colab\n",
        "from google.colab import files\n",
        "uploaded = files.upload()"
      ],
      "metadata": {
        "colab": {
          "resources": {
            "http://localhost:8080/nbextensions/google.colab/files.js": {
              "data": "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",
              "ok": true,
              "headers": [
                [
                  "content-type",
                  "application/javascript"
                ]
              ],
              "status": 200,
              "status_text": ""
            }
          },
          "base_uri": "https://localhost:8080/",
          "height": 74
        },
        "id": "5Q6uiYF9K36-",
        "outputId": "be475718-7191-4523-c9ae-bff3e90f15c9"
      },
      "execution_count": 2,
      "outputs": [
        {
          "output_type": "display_data",
          "data": {
            "text/html": [
              "\n",
              "     <input type=\"file\" id=\"files-1d6450c0-6dae-4498-8658-4be3de8ccd04\" name=\"files[]\" multiple disabled\n",
              "        style=\"border:none\" />\n",
              "     <output id=\"result-1d6450c0-6dae-4498-8658-4be3de8ccd04\">\n",
              "      Upload widget is only available when the cell has been executed in the\n",
              "      current browser session. Please rerun this cell to enable.\n",
              "      </output>\n",
              "      <script src=\"/nbextensions/google.colab/files.js\"></script> "
            ],
            "text/plain": [
              "<IPython.core.display.HTML object>"
            ]
          },
          "metadata": {}
        },
        {
          "output_type": "stream",
          "name": "stdout",
          "text": [
            "Saving Raw_Data.csv to Raw_Data.csv\n"
          ]
        }
      ]
    },
    {
      "cell_type": "code",
      "source": [
        "raw_data = pd.read_csv(\"Raw_Data.csv\")\n",
        "\n",
        "# Displaying the First Rows of the Data\n",
        "display(raw_data.head(10), \"The Shape of the DataSet is {}\".format(raw_data.shape))"
      ],
      "metadata": {
        "id": "mZy2ScYkK39t",
        "colab": {
          "base_uri": "https://localhost:8080/",
          "height": 513
        },
        "outputId": "cf2910cf-20e6-4976-cefe-abb143f8c997"
      },
      "execution_count": 3,
      "outputs": [
        {
          "output_type": "display_data",
          "data": {
            "text/html": [
              "\n",
              "  <div id=\"df-30efb185-5550-4e92-bc9e-7505494691e3\">\n",
              "    <div class=\"colab-df-container\">\n",
              "      <div>\n",
              "<style scoped>\n",
              "    .dataframe tbody tr th:only-of-type {\n",
              "        vertical-align: middle;\n",
              "    }\n",
              "\n",
              "    .dataframe tbody tr th {\n",
              "        vertical-align: top;\n",
              "    }\n",
              "\n",
              "    .dataframe thead th {\n",
              "        text-align: right;\n",
              "    }\n",
              "</style>\n",
              "<table border=\"1\" class=\"dataframe\">\n",
              "  <thead>\n",
              "    <tr style=\"text-align: right;\">\n",
              "      <th></th>\n",
              "      <th>Type of Account</th>\n",
              "      <th>Account History</th>\n",
              "      <th>Reason for the Loan</th>\n",
              "      <th>Loan Amount</th>\n",
              "      <th>Account Savings</th>\n",
              "      <th>Employment History</th>\n",
              "      <th>Individual Stauts</th>\n",
              "      <th>Other Loans</th>\n",
              "      <th>Security / Collateral</th>\n",
              "      <th>Age</th>\n",
              "      <th>Residence Status</th>\n",
              "      <th>Job</th>\n",
              "      <th>Completed Other loan?</th>\n",
              "      <th>Good Loan</th>\n",
              "    </tr>\n",
              "  </thead>\n",
              "  <tbody>\n",
              "    <tr>\n",
              "      <th>0</th>\n",
              "      <td>No Data</td>\n",
              "      <td>critical</td>\n",
              "      <td>Learning / Edu purposes</td>\n",
              "      <td>2116.0</td>\n",
              "      <td>0-200</td>\n",
              "      <td>5-7 Years</td>\n",
              "      <td>Male</td>\n",
              "      <td>No</td>\n",
              "      <td>Property - Real Estate</td>\n",
              "      <td>47.0</td>\n",
              "      <td>House Owner</td>\n",
              "      <td>Services</td>\n",
              "      <td>No</td>\n",
              "      <td>No</td>\n",
              "    </tr>\n",
              "    <tr>\n",
              "      <th>1</th>\n",
              "      <td>No Data</td>\n",
              "      <td>critical</td>\n",
              "      <td>TV</td>\n",
              "      <td>2438.0</td>\n",
              "      <td>No Data</td>\n",
              "      <td>7+ Years</td>\n",
              "      <td>Male</td>\n",
              "      <td>No</td>\n",
              "      <td>Savings Account</td>\n",
              "      <td>52.0</td>\n",
              "      <td>House Owner</td>\n",
              "      <td>Skilled Labor</td>\n",
              "      <td>No</td>\n",
              "      <td>No</td>\n",
              "    </tr>\n",
              "    <tr>\n",
              "      <th>2</th>\n",
              "      <td>No Data</td>\n",
              "      <td>critical</td>\n",
              "      <td>Buying a New Car</td>\n",
              "      <td>2144.0</td>\n",
              "      <td>0-200</td>\n",
              "      <td>2-5 Years</td>\n",
              "      <td>Male</td>\n",
              "      <td>No</td>\n",
              "      <td>Vehicle</td>\n",
              "      <td>48.0</td>\n",
              "      <td>House Owner</td>\n",
              "      <td>Skilled Labor</td>\n",
              "      <td>No</td>\n",
              "      <td>No</td>\n",
              "    </tr>\n",
              "    <tr>\n",
              "      <th>3</th>\n",
              "      <td>No Data</td>\n",
              "      <td>critical</td>\n",
              "      <td>Home furniture</td>\n",
              "      <td>2073.0</td>\n",
              "      <td>No Data</td>\n",
              "      <td>2-5 Years</td>\n",
              "      <td>Married</td>\n",
              "      <td>No</td>\n",
              "      <td>Vehicle</td>\n",
              "      <td>25.0</td>\n",
              "      <td>House Owner</td>\n",
              "      <td>Skilled Labor</td>\n",
              "      <td>Yes</td>\n",
              "      <td>No</td>\n",
              "    </tr>\n",
              "    <tr>\n",
              "      <th>4</th>\n",
              "      <td>No Data</td>\n",
              "      <td>critical</td>\n",
              "      <td>Support for Business</td>\n",
              "      <td>1276.0</td>\n",
              "      <td>No Data</td>\n",
              "      <td>7+ Years</td>\n",
              "      <td>Male</td>\n",
              "      <td>No</td>\n",
              "      <td>No Security</td>\n",
              "      <td>59.0</td>\n",
              "      <td>Renting</td>\n",
              "      <td>Services</td>\n",
              "      <td>No</td>\n",
              "      <td>No</td>\n",
              "    </tr>\n",
              "    <tr>\n",
              "      <th>5</th>\n",
              "      <td>No Data</td>\n",
              "      <td>critical</td>\n",
              "      <td>Learning / Edu purposes</td>\n",
              "      <td>6130.0</td>\n",
              "      <td>0-200</td>\n",
              "      <td>2-5 Years</td>\n",
              "      <td>Male</td>\n",
              "      <td>No</td>\n",
              "      <td>No Security</td>\n",
              "      <td>30.0</td>\n",
              "      <td>Free</td>\n",
              "      <td>Skilled Labor</td>\n",
              "      <td>No</td>\n",
              "      <td>No</td>\n",
              "    </tr>\n",
              "    <tr>\n",
              "      <th>6</th>\n",
              "      <td>No Data</td>\n",
              "      <td>critical</td>\n",
              "      <td>Buying a New Car</td>\n",
              "      <td>1394.0</td>\n",
              "      <td>0-200</td>\n",
              "      <td>0-2 Years</td>\n",
              "      <td>Female</td>\n",
              "      <td>No</td>\n",
              "      <td>Vehicle</td>\n",
              "      <td>37.0</td>\n",
              "      <td>House Owner</td>\n",
              "      <td>Professional / Management</td>\n",
              "      <td>No</td>\n",
              "      <td>No</td>\n",
              "    </tr>\n",
              "    <tr>\n",
              "      <th>7</th>\n",
              "      <td>No Data</td>\n",
              "      <td>critical</td>\n",
              "      <td>Buying a New Car</td>\n",
              "      <td>7242.0</td>\n",
              "      <td>0-200</td>\n",
              "      <td>2-5 Years</td>\n",
              "      <td>Male</td>\n",
              "      <td>No</td>\n",
              "      <td>Savings Account</td>\n",
              "      <td>41.0</td>\n",
              "      <td>House Owner</td>\n",
              "      <td>Services</td>\n",
              "      <td>No</td>\n",
              "      <td>No</td>\n",
              "    </tr>\n",
              "    <tr>\n",
              "      <th>8</th>\n",
              "      <td>No Data</td>\n",
              "      <td>critical</td>\n",
              "      <td>TV</td>\n",
              "      <td>9581.0</td>\n",
              "      <td>0-200</td>\n",
              "      <td>2-5 Years</td>\n",
              "      <td>Female</td>\n",
              "      <td>No</td>\n",
              "      <td>Vehicle</td>\n",
              "      <td>31.0</td>\n",
              "      <td>House Owner</td>\n",
              "      <td>Skilled Labor</td>\n",
              "      <td>No</td>\n",
              "      <td>No</td>\n",
              "    </tr>\n",
              "    <tr>\n",
              "      <th>9</th>\n",
              "      <td>No Data</td>\n",
              "      <td>critical</td>\n",
              "      <td>TV</td>\n",
              "      <td>734.0</td>\n",
              "      <td>No Data</td>\n",
              "      <td>7+ Years</td>\n",
              "      <td>Male</td>\n",
              "      <td>No</td>\n",
              "      <td>Savings Account</td>\n",
              "      <td>44.0</td>\n",
              "      <td>Renting</td>\n",
              "      <td>Services</td>\n",
              "      <td>No</td>\n",
              "      <td>No</td>\n",
              "    </tr>\n",
              "  </tbody>\n",
              "</table>\n",
              "</div>\n",
              "      <button class=\"colab-df-convert\" onclick=\"convertToInteractive('df-30efb185-5550-4e92-bc9e-7505494691e3')\"\n",
              "              title=\"Convert this dataframe to an interactive table.\"\n",
              "              style=\"display:none;\">\n",
              "        \n",
              "  <svg xmlns=\"http://www.w3.org/2000/svg\" height=\"24px\"viewBox=\"0 0 24 24\"\n",
              "       width=\"24px\">\n",
              "    <path d=\"M0 0h24v24H0V0z\" fill=\"none\"/>\n",
              "    <path d=\"M18.56 5.44l.94 2.06.94-2.06 2.06-.94-2.06-.94-.94-2.06-.94 2.06-2.06.94zm-11 1L8.5 8.5l.94-2.06 2.06-.94-2.06-.94L8.5 2.5l-.94 2.06-2.06.94zm10 10l.94 2.06.94-2.06 2.06-.94-2.06-.94-.94-2.06-.94 2.06-2.06.94z\"/><path d=\"M17.41 7.96l-1.37-1.37c-.4-.4-.92-.59-1.43-.59-.52 0-1.04.2-1.43.59L10.3 9.45l-7.72 7.72c-.78.78-.78 2.05 0 2.83L4 21.41c.39.39.9.59 1.41.59.51 0 1.02-.2 1.41-.59l7.78-7.78 2.81-2.81c.8-.78.8-2.07 0-2.86zM5.41 20L4 18.59l7.72-7.72 1.47 1.35L5.41 20z\"/>\n",
              "  </svg>\n",
              "      </button>\n",
              "      \n",
              "  <style>\n",
              "    .colab-df-container {\n",
              "      display:flex;\n",
              "      flex-wrap:wrap;\n",
              "      gap: 12px;\n",
              "    }\n",
              "\n",
              "    .colab-df-convert {\n",
              "      background-color: #E8F0FE;\n",
              "      border: none;\n",
              "      border-radius: 50%;\n",
              "      cursor: pointer;\n",
              "      display: none;\n",
              "      fill: #1967D2;\n",
              "      height: 32px;\n",
              "      padding: 0 0 0 0;\n",
              "      width: 32px;\n",
              "    }\n",
              "\n",
              "    .colab-df-convert:hover {\n",
              "      background-color: #E2EBFA;\n",
              "      box-shadow: 0px 1px 2px rgba(60, 64, 67, 0.3), 0px 1px 3px 1px rgba(60, 64, 67, 0.15);\n",
              "      fill: #174EA6;\n",
              "    }\n",
              "\n",
              "    [theme=dark] .colab-df-convert {\n",
              "      background-color: #3B4455;\n",
              "      fill: #D2E3FC;\n",
              "    }\n",
              "\n",
              "    [theme=dark] .colab-df-convert:hover {\n",
              "      background-color: #434B5C;\n",
              "      box-shadow: 0px 1px 3px 1px rgba(0, 0, 0, 0.15);\n",
              "      filter: drop-shadow(0px 1px 2px rgba(0, 0, 0, 0.3));\n",
              "      fill: #FFFFFF;\n",
              "    }\n",
              "  </style>\n",
              "\n",
              "      <script>\n",
              "        const buttonEl =\n",
              "          document.querySelector('#df-30efb185-5550-4e92-bc9e-7505494691e3 button.colab-df-convert');\n",
              "        buttonEl.style.display =\n",
              "          google.colab.kernel.accessAllowed ? 'block' : 'none';\n",
              "\n",
              "        async function convertToInteractive(key) {\n",
              "          const element = document.querySelector('#df-30efb185-5550-4e92-bc9e-7505494691e3');\n",
              "          const dataTable =\n",
              "            await google.colab.kernel.invokeFunction('convertToInteractive',\n",
              "                                                     [key], {});\n",
              "          if (!dataTable) return;\n",
              "\n",
              "          const docLinkHtml = 'Like what you see? Visit the ' +\n",
              "            '<a target=\"_blank\" href=https://colab.research.google.com/notebooks/data_table.ipynb>data table notebook</a>'\n",
              "            + ' to learn more about interactive tables.';\n",
              "          element.innerHTML = '';\n",
              "          dataTable['output_type'] = 'display_data';\n",
              "          await google.colab.output.renderOutput(dataTable, element);\n",
              "          const docLink = document.createElement('div');\n",
              "          docLink.innerHTML = docLinkHtml;\n",
              "          element.appendChild(docLink);\n",
              "        }\n",
              "      </script>\n",
              "    </div>\n",
              "  </div>\n",
              "  "
            ],
            "text/plain": [
              "  Type of Account Account History  ... Completed Other loan?  Good Loan\n",
              "0         No Data        critical  ...                    No         No\n",
              "1         No Data        critical  ...                    No         No\n",
              "2         No Data        critical  ...                    No         No\n",
              "3         No Data        critical  ...                   Yes         No\n",
              "4         No Data        critical  ...                    No         No\n",
              "5         No Data        critical  ...                    No         No\n",
              "6         No Data        critical  ...                    No         No\n",
              "7         No Data        critical  ...                    No         No\n",
              "8         No Data        critical  ...                    No         No\n",
              "9         No Data        critical  ...                    No         No\n",
              "\n",
              "[10 rows x 14 columns]"
            ]
          },
          "metadata": {}
        },
        {
          "output_type": "display_data",
          "data": {
            "application/vnd.google.colaboratory.intrinsic+json": {
              "type": "string"
            },
            "text/plain": [
              "'The Shape of the DataSet is (1006, 14)'"
            ]
          },
          "metadata": {}
        }
      ]
    },
    {
      "cell_type": "code",
      "source": [
        "# Copying the Data in order to proceed to benchmarking when we finish analyzing the Data \n",
        "df = raw_data.copy()"
      ],
      "metadata": {
        "id": "t01thkpwSWe_"
      },
      "execution_count": 4,
      "outputs": []
    },
    {
      "cell_type": "markdown",
      "source": [
        "#### **Step 2 : Data Preprocessing**"
      ],
      "metadata": {
        "id": "IMn0_6aPssau"
      }
    },
    {
      "cell_type": "code",
      "source": [
        "# Exploring the Data\n",
        "display(\"The Features of the DataSet are \", df.columns)"
      ],
      "metadata": {
        "colab": {
          "base_uri": "https://localhost:8080/",
          "height": 127
        },
        "id": "y45X2YtbK4AC",
        "outputId": "9570d2a1-bd87-49c5-edf3-6dd531a155f6"
      },
      "execution_count": 5,
      "outputs": [
        {
          "output_type": "display_data",
          "data": {
            "application/vnd.google.colaboratory.intrinsic+json": {
              "type": "string"
            },
            "text/plain": [
              "'The Features of the DataSet are '"
            ]
          },
          "metadata": {}
        },
        {
          "output_type": "display_data",
          "data": {
            "text/plain": [
              "Index(['Type of Account', 'Account History', 'Reason for the Loan',\n",
              "       'Loan Amount', 'Account Savings', 'Employment History',\n",
              "       'Individual Stauts', 'Other Loans', 'Security / Collateral', 'Age',\n",
              "       'Residence Status', 'Job', 'Completed Other loan?', 'Good Loan'],\n",
              "      dtype='object')"
            ]
          },
          "metadata": {}
        }
      ]
    },
    {
      "cell_type": "code",
      "source": [
        "# Exploring the DataTypes of our Features\n",
        "df.dtypes"
      ],
      "metadata": {
        "colab": {
          "base_uri": "https://localhost:8080/"
        },
        "id": "lul8zipXK4Cr",
        "outputId": "67386ce7-92bd-4fd3-f09d-1c3ebecb2b56"
      },
      "execution_count": 6,
      "outputs": [
        {
          "output_type": "execute_result",
          "data": {
            "text/plain": [
              "Type of Account           object\n",
              "Account History           object\n",
              "Reason for the Loan       object\n",
              "Loan Amount              float64\n",
              "Account Savings           object\n",
              "Employment History        object\n",
              "Individual Stauts         object\n",
              "Other Loans               object\n",
              "Security / Collateral     object\n",
              "Age                      float64\n",
              "Residence Status          object\n",
              "Job                       object\n",
              "Completed Other loan?     object\n",
              "Good Loan                 object\n",
              "dtype: object"
            ]
          },
          "metadata": {},
          "execution_count": 6
        }
      ]
    },
    {
      "cell_type": "markdown",
      "source": [
        "So apparently, we have only two features with purely numeric data the *Loan Amount* & *Age* columns. And for the rest of the Data, the type that we have is the *Object*. \n",
        "At all events, we will convert our data to dummy one in order to build the Model."
      ],
      "metadata": {
        "id": "SeHbNL9_TlGK"
      }
    },
    {
      "cell_type": "code",
      "source": [
        "# Displaying the Unique Values of each columns\n",
        "for column in df:\n",
        "  if len(df[column].unique()) < 10:\n",
        "    print('The Number of Values for the Feature {} : {} ---- {}'.format(column, df[column].unique(), len(df[column].unique())))\n",
        "  else:\n",
        "    print('The Number of values for the Feature {} : {}'.format(column, len(df[column].unique())))\n"
      ],
      "metadata": {
        "id": "m4o0W2i7K4FG",
        "colab": {
          "base_uri": "https://localhost:8080/"
        },
        "outputId": "b1e9f7ab-ec8d-43d9-bf53-8d172ef91688"
      },
      "execution_count": 7,
      "outputs": [
        {
          "output_type": "stream",
          "name": "stdout",
          "text": [
            "The Number of Values for the Feature Type of Account : ['No Data' 'Type A' 'Type B' 'Type C' nan] ---- 5\n",
            "The Number of Values for the Feature Account History : ['critical' 'Average (known delays)' 'Good' nan] ---- 4\n",
            "The Number of values for the Feature Reason for the Loan : 11\n",
            "The Number of values for the Feature Loan Amount : 914\n",
            "The Number of Values for the Feature Account Savings : ['0-200' 'No Data' '200-500' '1000+' '500-1000' nan '0-201'] ---- 7\n",
            "The Number of Values for the Feature Employment History : ['5-7 Years' '7+ Years' '2-5 Years' '0-2 Years' 'Unemployed' nan] ---- 6\n",
            "The Number of Values for the Feature Individual Stauts : ['Male' 'Married' 'Female' 'Divorced' 'Female_' nan] ---- 6\n",
            "The Number of Values for the Feature Other Loans : ['No' 'Yes' nan] ---- 3\n",
            "The Number of Values for the Feature Security / Collateral : ['Property - Real Estate' 'Savings Account' 'Vehicle' 'No Security' nan] ---- 5\n",
            "The Number of values for the Feature Age : 58\n",
            "The Number of Values for the Feature Residence Status : ['House Owner' 'Renting' 'Free' nan] ---- 4\n",
            "The Number of Values for the Feature Job : ['Services' 'Skilled Labor' 'Professional / Management' 'Not Employed' nan] ---- 5\n",
            "The Number of Values for the Feature Completed Other loan? : ['No' 'Yes' nan] ---- 3\n",
            "The Number of Values for the Feature Good Loan : ['No' 'Yes' nan] ---- 3\n"
          ]
        }
      ]
    },
    {
      "cell_type": "code",
      "source": [
        "# Describing the Data \n",
        "df.describe()"
      ],
      "metadata": {
        "colab": {
          "base_uri": "https://localhost:8080/",
          "height": 300
        },
        "id": "96v3Rh2AK4IL",
        "outputId": "51ff9d7a-1476-45d2-b34d-e785e93fc889"
      },
      "execution_count": 10,
      "outputs": [
        {
          "output_type": "execute_result",
          "data": {
            "text/html": [
              "\n",
              "  <div id=\"df-7c835ef6-3495-4ea5-a0b8-72bb6458848d\">\n",
              "    <div class=\"colab-df-container\">\n",
              "      <div>\n",
              "<style scoped>\n",
              "    .dataframe tbody tr th:only-of-type {\n",
              "        vertical-align: middle;\n",
              "    }\n",
              "\n",
              "    .dataframe tbody tr th {\n",
              "        vertical-align: top;\n",
              "    }\n",
              "\n",
              "    .dataframe thead th {\n",
              "        text-align: right;\n",
              "    }\n",
              "</style>\n",
              "<table border=\"1\" class=\"dataframe\">\n",
              "  <thead>\n",
              "    <tr style=\"text-align: right;\">\n",
              "      <th></th>\n",
              "      <th>Loan Amount</th>\n",
              "      <th>Age</th>\n",
              "    </tr>\n",
              "  </thead>\n",
              "  <tbody>\n",
              "    <tr>\n",
              "      <th>count</th>\n",
              "      <td>1.003000e+03</td>\n",
              "      <td>1002.000000</td>\n",
              "    </tr>\n",
              "    <tr>\n",
              "      <th>mean</th>\n",
              "      <td>-5.436215e+05</td>\n",
              "      <td>35.841317</td>\n",
              "    </tr>\n",
              "    <tr>\n",
              "      <th>std</th>\n",
              "      <td>1.732054e+07</td>\n",
              "      <td>14.657180</td>\n",
              "    </tr>\n",
              "    <tr>\n",
              "      <th>min</th>\n",
              "      <td>-5.485413e+08</td>\n",
              "      <td>18.000000</td>\n",
              "    </tr>\n",
              "    <tr>\n",
              "      <th>25%</th>\n",
              "      <td>1.374500e+03</td>\n",
              "      <td>27.000000</td>\n",
              "    </tr>\n",
              "    <tr>\n",
              "      <th>50%</th>\n",
              "      <td>2.326000e+03</td>\n",
              "      <td>33.000000</td>\n",
              "    </tr>\n",
              "    <tr>\n",
              "      <th>75%</th>\n",
              "      <td>3.981500e+03</td>\n",
              "      <td>42.000000</td>\n",
              "    </tr>\n",
              "    <tr>\n",
              "      <th>max</th>\n",
              "      <td>1.842700e+04</td>\n",
              "      <td>327.000000</td>\n",
              "    </tr>\n",
              "  </tbody>\n",
              "</table>\n",
              "</div>\n",
              "      <button class=\"colab-df-convert\" onclick=\"convertToInteractive('df-7c835ef6-3495-4ea5-a0b8-72bb6458848d')\"\n",
              "              title=\"Convert this dataframe to an interactive table.\"\n",
              "              style=\"display:none;\">\n",
              "        \n",
              "  <svg xmlns=\"http://www.w3.org/2000/svg\" height=\"24px\"viewBox=\"0 0 24 24\"\n",
              "       width=\"24px\">\n",
              "    <path d=\"M0 0h24v24H0V0z\" fill=\"none\"/>\n",
              "    <path d=\"M18.56 5.44l.94 2.06.94-2.06 2.06-.94-2.06-.94-.94-2.06-.94 2.06-2.06.94zm-11 1L8.5 8.5l.94-2.06 2.06-.94-2.06-.94L8.5 2.5l-.94 2.06-2.06.94zm10 10l.94 2.06.94-2.06 2.06-.94-2.06-.94-.94-2.06-.94 2.06-2.06.94z\"/><path d=\"M17.41 7.96l-1.37-1.37c-.4-.4-.92-.59-1.43-.59-.52 0-1.04.2-1.43.59L10.3 9.45l-7.72 7.72c-.78.78-.78 2.05 0 2.83L4 21.41c.39.39.9.59 1.41.59.51 0 1.02-.2 1.41-.59l7.78-7.78 2.81-2.81c.8-.78.8-2.07 0-2.86zM5.41 20L4 18.59l7.72-7.72 1.47 1.35L5.41 20z\"/>\n",
              "  </svg>\n",
              "      </button>\n",
              "      \n",
              "  <style>\n",
              "    .colab-df-container {\n",
              "      display:flex;\n",
              "      flex-wrap:wrap;\n",
              "      gap: 12px;\n",
              "    }\n",
              "\n",
              "    .colab-df-convert {\n",
              "      background-color: #E8F0FE;\n",
              "      border: none;\n",
              "      border-radius: 50%;\n",
              "      cursor: pointer;\n",
              "      display: none;\n",
              "      fill: #1967D2;\n",
              "      height: 32px;\n",
              "      padding: 0 0 0 0;\n",
              "      width: 32px;\n",
              "    }\n",
              "\n",
              "    .colab-df-convert:hover {\n",
              "      background-color: #E2EBFA;\n",
              "      box-shadow: 0px 1px 2px rgba(60, 64, 67, 0.3), 0px 1px 3px 1px rgba(60, 64, 67, 0.15);\n",
              "      fill: #174EA6;\n",
              "    }\n",
              "\n",
              "    [theme=dark] .colab-df-convert {\n",
              "      background-color: #3B4455;\n",
              "      fill: #D2E3FC;\n",
              "    }\n",
              "\n",
              "    [theme=dark] .colab-df-convert:hover {\n",
              "      background-color: #434B5C;\n",
              "      box-shadow: 0px 1px 3px 1px rgba(0, 0, 0, 0.15);\n",
              "      filter: drop-shadow(0px 1px 2px rgba(0, 0, 0, 0.3));\n",
              "      fill: #FFFFFF;\n",
              "    }\n",
              "  </style>\n",
              "\n",
              "      <script>\n",
              "        const buttonEl =\n",
              "          document.querySelector('#df-7c835ef6-3495-4ea5-a0b8-72bb6458848d button.colab-df-convert');\n",
              "        buttonEl.style.display =\n",
              "          google.colab.kernel.accessAllowed ? 'block' : 'none';\n",
              "\n",
              "        async function convertToInteractive(key) {\n",
              "          const element = document.querySelector('#df-7c835ef6-3495-4ea5-a0b8-72bb6458848d');\n",
              "          const dataTable =\n",
              "            await google.colab.kernel.invokeFunction('convertToInteractive',\n",
              "                                                     [key], {});\n",
              "          if (!dataTable) return;\n",
              "\n",
              "          const docLinkHtml = 'Like what you see? Visit the ' +\n",
              "            '<a target=\"_blank\" href=https://colab.research.google.com/notebooks/data_table.ipynb>data table notebook</a>'\n",
              "            + ' to learn more about interactive tables.';\n",
              "          element.innerHTML = '';\n",
              "          dataTable['output_type'] = 'display_data';\n",
              "          await google.colab.output.renderOutput(dataTable, element);\n",
              "          const docLink = document.createElement('div');\n",
              "          docLink.innerHTML = docLinkHtml;\n",
              "          element.appendChild(docLink);\n",
              "        }\n",
              "      </script>\n",
              "    </div>\n",
              "  </div>\n",
              "  "
            ],
            "text/plain": [
              "        Loan Amount          Age\n",
              "count  1.003000e+03  1002.000000\n",
              "mean  -5.436215e+05    35.841317\n",
              "std    1.732054e+07    14.657180\n",
              "min   -5.485413e+08    18.000000\n",
              "25%    1.374500e+03    27.000000\n",
              "50%    2.326000e+03    33.000000\n",
              "75%    3.981500e+03    42.000000\n",
              "max    1.842700e+04   327.000000"
            ]
          },
          "metadata": {},
          "execution_count": 10
        }
      ]
    },
    {
      "cell_type": "code",
      "source": [
        "# Displaying the Kurtosis and the Skewness of the Data\n",
        "display(\"The Kurtosis of the DataSet is {}\".format(df.kurtosis()))\n",
        "\n",
        "display(\"The Skewness of the DataSet is {}\".format(df.skew()))"
      ],
      "metadata": {
        "colab": {
          "base_uri": "https://localhost:8080/",
          "height": 148
        },
        "id": "CIkgOdZ2-4mE",
        "outputId": "9a6de7c0-13a8-44c0-c14f-08ef9f5b01f6"
      },
      "execution_count": 16,
      "outputs": [
        {
          "output_type": "stream",
          "name": "stderr",
          "text": [
            "/usr/local/lib/python3.7/dist-packages/ipykernel_launcher.py:2: FutureWarning: Dropping of nuisance columns in DataFrame reductions (with 'numeric_only=None') is deprecated; in a future version this will raise TypeError.  Select only valid columns before calling the reduction.\n",
            "  \n"
          ]
        },
        {
          "output_type": "display_data",
          "data": {
            "application/vnd.google.colaboratory.intrinsic+json": {
              "type": "string"
            },
            "text/plain": [
              "'The Kurtosis of the DataSet is Loan Amount    1002.999947\\nAge             154.752052\\ndtype: float64'"
            ]
          },
          "metadata": {}
        },
        {
          "output_type": "stream",
          "name": "stderr",
          "text": [
            "/usr/local/lib/python3.7/dist-packages/ipykernel_launcher.py:4: FutureWarning: Dropping of nuisance columns in DataFrame reductions (with 'numeric_only=None') is deprecated; in a future version this will raise TypeError.  Select only valid columns before calling the reduction.\n",
            "  after removing the cwd from sys.path.\n"
          ]
        },
        {
          "output_type": "display_data",
          "data": {
            "application/vnd.google.colaboratory.intrinsic+json": {
              "type": "string"
            },
            "text/plain": [
              "'The Skewness of the DataSet is Loan Amount   -31.670174\\nAge             8.278180\\ndtype: float64'"
            ]
          },
          "metadata": {}
        }
      ]
    },
    {
      "cell_type": "markdown",
      "source": [
        "After descring the Data, we observe some for example some aberrant data in both the Loan Amount and the Age features.\n",
        "For instance, the minimum Loan amount as stated above is **-5.485413e+08**, which is cannot be possible for a loan to be negative, so we need to drop some data later on.\n",
        "At the same time, by looking at the Age column, wa can figure out that some data is also false, like the the max Age that is 327 years old, effectively a human being cannot surpass 150 years, except LEGENDS THAT CAN LIVE FOREVER, JUST KIDDING, let's get back to work."
      ],
      "metadata": {
        "id": "NqCNJ6XbWapZ"
      }
    },
    {
      "cell_type": "code",
      "source": [
        "df.info"
      ],
      "metadata": {
        "colab": {
          "base_uri": "https://localhost:8080/"
        },
        "id": "kuRxBzrmK4M7",
        "outputId": "98506b84-231e-4a6f-970e-c553e8fca5e7"
      },
      "execution_count": 18,
      "outputs": [
        {
          "output_type": "execute_result",
          "data": {
            "text/plain": [
              "<bound method DataFrame.info of      Type of Account         Account History  ... Completed Other loan?  Good Loan\n",
              "0            No Data                critical  ...                    No         No\n",
              "1            No Data                critical  ...                    No         No\n",
              "2            No Data                critical  ...                    No         No\n",
              "3            No Data                critical  ...                   Yes         No\n",
              "4            No Data                critical  ...                    No         No\n",
              "...              ...                     ...  ...                   ...        ...\n",
              "1001          Type C  Average (known delays)  ...                    No        Yes\n",
              "1002          Type C  Average (known delays)  ...                    No         No\n",
              "1003          Type C  Average (known delays)  ...                    No        Yes\n",
              "1004             NaN                     NaN  ...                    No        NaN\n",
              "1005             NaN                     NaN  ...                   NaN        NaN\n",
              "\n",
              "[1006 rows x 14 columns]>"
            ]
          },
          "metadata": {},
          "execution_count": 18
        }
      ]
    },
    {
      "cell_type": "code",
      "source": [
        "### Data Pre-processing\n",
        "## Determining the Unique Values in the Dataset\n",
        "\n",
        "for column in df:\n",
        "  if len(df[column].unique()) < 7:\n",
        "    print('The Number of Values for the Feature \"{}\" : {} ---- {}'.format(column, df[column].unique(), len(df[column].unique())))\n",
        "  else:\n",
        "    print('The Number of values for the Feature \"{}\" : {}'.format(column, len(df[column].unique())))\n",
        "\n"
      ],
      "metadata": {
        "colab": {
          "base_uri": "https://localhost:8080/"
        },
        "id": "hLolNjbYK4Qn",
        "outputId": "9cb5ecbe-0215-4398-94b3-94f028926732"
      },
      "execution_count": 19,
      "outputs": [
        {
          "output_type": "stream",
          "name": "stdout",
          "text": [
            "The Number of Values for the Feature \"Type of Account\" : ['No Data' 'Type A' 'Type B' 'Type C' nan] ---- 5\n",
            "The Number of Values for the Feature \"Account History\" : ['critical' 'Average (known delays)' 'Good' nan] ---- 4\n",
            "The Number of values for the Feature \"Reason for the Loan\" : 11\n",
            "The Number of values for the Feature \"Loan Amount\" : 914\n",
            "The Number of values for the Feature \"Account Savings\" : 7\n",
            "The Number of Values for the Feature \"Employment History\" : ['5-7 Years' '7+ Years' '2-5 Years' '0-2 Years' 'Unemployed' nan] ---- 6\n",
            "The Number of Values for the Feature \"Individual Stauts\" : ['Male' 'Married' 'Female' 'Divorced' 'Female_' nan] ---- 6\n",
            "The Number of Values for the Feature \"Other Loans\" : ['No' 'Yes' nan] ---- 3\n",
            "The Number of Values for the Feature \"Security / Collateral\" : ['Property - Real Estate' 'Savings Account' 'Vehicle' 'No Security' nan] ---- 5\n",
            "The Number of values for the Feature \"Age\" : 58\n",
            "The Number of Values for the Feature \"Residence Status\" : ['House Owner' 'Renting' 'Free' nan] ---- 4\n",
            "The Number of Values for the Feature \"Job\" : ['Services' 'Skilled Labor' 'Professional / Management' 'Not Employed' nan] ---- 5\n",
            "The Number of Values for the Feature \"Completed Other loan?\" : ['No' 'Yes' nan] ---- 3\n",
            "The Number of Values for the Feature \"Good Loan\" : ['No' 'Yes' nan] ---- 3\n"
          ]
        }
      ]
    },
    {
      "cell_type": "code",
      "source": [
        "# Rename the column \"Individual Stauts\", cause there's a miss spelling\n",
        "df.rename(columns = {\"Individual Stauts\": 'Individual Status'}, inplace = True)"
      ],
      "metadata": {
        "id": "TrToDby1K4Uo"
      },
      "execution_count": 20,
      "outputs": []
    },
    {
      "cell_type": "markdown",
      "source": [
        "**Reminder** : Among the steps in the EDA process, we have the **Outliers Indentification**, but in our case, we don't have relevant numeric Data, so we will pass by this step."
      ],
      "metadata": {
        "id": "fFL_9uMmqH3w"
      }
    },
    {
      "cell_type": "markdown",
      "source": [
        "##### Dropping Duplicate Rows"
      ],
      "metadata": {
        "id": "j0388T38qtCo"
      }
    },
    {
      "cell_type": "code",
      "source": [
        "### Checking for the DataSet shape before removing the Data\n",
        "print(\"The Shape of the Data Before removing duplicate rows is {}\".format(df.shape))\n",
        "\n",
        "### The Code to remove the duplicate rows\n",
        "duplicate_rows_df = df[df.duplicated()]\n",
        "\n",
        "### Displaying the Duplicate rows DataFrame\n",
        "display(\"The Shape of the Duplicate Rows DataFrame is {}\".format(duplicate_rows_df.shape))"
      ],
      "metadata": {
        "colab": {
          "base_uri": "https://localhost:8080/",
          "height": 54
        },
        "id": "g6wrEynjK4X8",
        "outputId": "1cdeb25d-ab56-4947-e768-0b9133f7f3e4"
      },
      "execution_count": 21,
      "outputs": [
        {
          "output_type": "stream",
          "name": "stdout",
          "text": [
            "The Shape of the Data Before removing duplicate rows is (1006, 14)\n"
          ]
        },
        {
          "output_type": "display_data",
          "data": {
            "application/vnd.google.colaboratory.intrinsic+json": {
              "type": "string"
            },
            "text/plain": [
              "'The Shape of the Duplicate Rows DataFrame is (0, 14)'"
            ]
          },
          "metadata": {}
        }
      ]
    },
    {
      "cell_type": "markdown",
      "source": [
        "**Comment** : The Number of Rows of the Duplicated DataFrame is ZERO, so we don't have any duplicant rows."
      ],
      "metadata": {
        "id": "lZesd7t9q2YO"
      }
    },
    {
      "cell_type": "markdown",
      "source": [
        "##### Checking for any missing Data"
      ],
      "metadata": {
        "id": "yEIjuhK2sG_H"
      }
    },
    {
      "cell_type": "code",
      "source": [
        "df.isnull().sum()"
      ],
      "metadata": {
        "colab": {
          "base_uri": "https://localhost:8080/"
        },
        "id": "QCsh5lbuK4bY",
        "outputId": "88a32230-ef97-4eb8-c2ce-142daad728c7"
      },
      "execution_count": 22,
      "outputs": [
        {
          "output_type": "execute_result",
          "data": {
            "text/plain": [
              "Type of Account          2\n",
              "Account History          2\n",
              "Reason for the Loan      3\n",
              "Loan Amount              3\n",
              "Account Savings          4\n",
              "Employment History       5\n",
              "Individual Status        5\n",
              "Other Loans              5\n",
              "Security / Collateral    5\n",
              "Age                      4\n",
              "Residence Status         4\n",
              "Job                      4\n",
              "Completed Other loan?    4\n",
              "Good Loan                5\n",
              "dtype: int64"
            ]
          },
          "metadata": {},
          "execution_count": 22
        }
      ]
    },
    {
      "cell_type": "markdown",
      "source": [
        "**Comment** : apparently, every feature of the DataSet, have some missing Data to be looking at to decide what if it would be reasonable to keep them, or just drop them from the DataSet."
      ],
      "metadata": {
        "id": "WtPVhZ-ZsM9l"
      }
    },
    {
      "cell_type": "markdown",
      "source": [
        "#### **Step 3 : Data Vizualisation**"
      ],
      "metadata": {
        "id": "vbmkqBMRs9kl"
      }
    },
    {
      "cell_type": "markdown",
      "source": [
        "Visualizing misisng values graphicaly"
      ],
      "metadata": {
        "id": "N24JKcpeyk4N"
      }
    },
    {
      "cell_type": "code",
      "source": [
        "import seaborn as sns\n",
        "fig, ax = plt.subplots(figsize=(8,8))\n",
        "sns.heatmap(df.isnull(), cbar = False, yticklabels = False, vmin=0.5, vmax=0.7, ax = ax)"
      ],
      "metadata": {
        "colab": {
          "base_uri": "https://localhost:8080/",
          "height": 622
        },
        "id": "G6RrfuE_K4dc",
        "outputId": "ccf8a9eb-f335-4188-ea3b-4b5cf1fc224c"
      },
      "execution_count": 23,
      "outputs": [
        {
          "output_type": "execute_result",
          "data": {
            "text/plain": [
              "<matplotlib.axes._subplots.AxesSubplot at 0x7f87eddcd310>"
            ]
          },
          "metadata": {},
          "execution_count": 23
        },
        {
          "output_type": "display_data",
          "data": {
            "image/png": "[encoded data removed]",
            "text/plain": [
              "<Figure size 576x576 with 1 Axes>"
            ]
          },
          "metadata": {
            "needs_background": "light"
          }
        }
      ]
    },
    {
      "cell_type": "markdown",
      "source": [
        "By looking at the heatmap, we perceive that we effectively have some missing data, that we can visualize"
      ],
      "metadata": {
        "id": "lVx47liNtkh_"
      }
    },
    {
      "cell_type": "markdown",
      "source": [
        "To visualize the exact missing lines, we need to do a filter on one of the columns with the missing values.\n",
        "\n",
        "For example, we will choose **Individual Status** feature."
      ],
      "metadata": {
        "id": "SBsxLr7qvgzb"
      }
    },
    {
      "cell_type": "code",
      "source": [
        "# Viz the Missing Rows based on the Individual Status\n",
        "df[df['Individual Status'].isnull()]"
      ],
      "metadata": {
        "colab": {
          "base_uri": "https://localhost:8080/",
          "height": 214
        },
        "id": "HeIzjroaK4er",
        "outputId": "d341acf2-4b5f-42e6-8c39-d32400547e5d"
      },
      "execution_count": 24,
      "outputs": [
        {
          "output_type": "execute_result",
          "data": {
            "text/html": [
              "\n",
              "  <div id=\"df-53481d6b-10e5-447f-b059-61c66bd9b4f5\">\n",
              "    <div class=\"colab-df-container\">\n",
              "      <div>\n",
              "<style scoped>\n",
              "    .dataframe tbody tr th:only-of-type {\n",
              "        vertical-align: middle;\n",
              "    }\n",
              "\n",
              "    .dataframe tbody tr th {\n",
              "        vertical-align: top;\n",
              "    }\n",
              "\n",
              "    .dataframe thead th {\n",
              "        text-align: right;\n",
              "    }\n",
              "</style>\n",
              "<table border=\"1\" class=\"dataframe\">\n",
              "  <thead>\n",
              "    <tr style=\"text-align: right;\">\n",
              "      <th></th>\n",
              "      <th>Type of Account</th>\n",
              "      <th>Account History</th>\n",
              "      <th>Reason for the Loan</th>\n",
              "      <th>Loan Amount</th>\n",
              "      <th>Account Savings</th>\n",
              "      <th>Employment History</th>\n",
              "      <th>Individual Status</th>\n",
              "      <th>Other Loans</th>\n",
              "      <th>Security / Collateral</th>\n",
              "      <th>Age</th>\n",
              "      <th>Residence Status</th>\n",
              "      <th>Job</th>\n",
              "      <th>Completed Other loan?</th>\n",
              "      <th>Good Loan</th>\n",
              "    </tr>\n",
              "  </thead>\n",
              "  <tbody>\n",
              "    <tr>\n",
              "      <th>686</th>\n",
              "      <td>Type C</td>\n",
              "      <td>Good</td>\n",
              "      <td>Buying a New Car</td>\n",
              "      <td>NaN</td>\n",
              "      <td>NaN</td>\n",
              "      <td>NaN</td>\n",
              "      <td>NaN</td>\n",
              "      <td>NaN</td>\n",
              "      <td>NaN</td>\n",
              "      <td>NaN</td>\n",
              "      <td>NaN</td>\n",
              "      <td>NaN</td>\n",
              "      <td>NaN</td>\n",
              "      <td>NaN</td>\n",
              "    </tr>\n",
              "    <tr>\n",
              "      <th>721</th>\n",
              "      <td>Type C</td>\n",
              "      <td>critical</td>\n",
              "      <td>Home furniture</td>\n",
              "      <td>5387.0</td>\n",
              "      <td>NaN</td>\n",
              "      <td>NaN</td>\n",
              "      <td>NaN</td>\n",
              "      <td>NaN</td>\n",
              "      <td>NaN</td>\n",
              "      <td>NaN</td>\n",
              "      <td>NaN</td>\n",
              "      <td>NaN</td>\n",
              "      <td>NaN</td>\n",
              "      <td>NaN</td>\n",
              "    </tr>\n",
              "    <tr>\n",
              "      <th>737</th>\n",
              "      <td>Type C</td>\n",
              "      <td>Good</td>\n",
              "      <td>NaN</td>\n",
              "      <td>NaN</td>\n",
              "      <td>NaN</td>\n",
              "      <td>NaN</td>\n",
              "      <td>NaN</td>\n",
              "      <td>NaN</td>\n",
              "      <td>NaN</td>\n",
              "      <td>NaN</td>\n",
              "      <td>NaN</td>\n",
              "      <td>NaN</td>\n",
              "      <td>NaN</td>\n",
              "      <td>NaN</td>\n",
              "    </tr>\n",
              "    <tr>\n",
              "      <th>1004</th>\n",
              "      <td>NaN</td>\n",
              "      <td>NaN</td>\n",
              "      <td>NaN</td>\n",
              "      <td>NaN</td>\n",
              "      <td>NaN</td>\n",
              "      <td>NaN</td>\n",
              "      <td>NaN</td>\n",
              "      <td>NaN</td>\n",
              "      <td>NaN</td>\n",
              "      <td>43.0</td>\n",
              "      <td>House Owner</td>\n",
              "      <td>Services</td>\n",
              "      <td>No</td>\n",
              "      <td>NaN</td>\n",
              "    </tr>\n",
              "    <tr>\n",
              "      <th>1005</th>\n",
              "      <td>NaN</td>\n",
              "      <td>NaN</td>\n",
              "      <td>NaN</td>\n",
              "      <td>1765.0</td>\n",
              "      <td>0-201</td>\n",
              "      <td>NaN</td>\n",
              "      <td>NaN</td>\n",
              "      <td>NaN</td>\n",
              "      <td>NaN</td>\n",
              "      <td>NaN</td>\n",
              "      <td>NaN</td>\n",
              "      <td>NaN</td>\n",
              "      <td>NaN</td>\n",
              "      <td>NaN</td>\n",
              "    </tr>\n",
              "  </tbody>\n",
              "</table>\n",
              "</div>\n",
              "      <button class=\"colab-df-convert\" onclick=\"convertToInteractive('df-53481d6b-10e5-447f-b059-61c66bd9b4f5')\"\n",
              "              title=\"Convert this dataframe to an interactive table.\"\n",
              "              style=\"display:none;\">\n",
              "        \n",
              "  <svg xmlns=\"http://www.w3.org/2000/svg\" height=\"24px\"viewBox=\"0 0 24 24\"\n",
              "       width=\"24px\">\n",
              "    <path d=\"M0 0h24v24H0V0z\" fill=\"none\"/>\n",
              "    <path d=\"M18.56 5.44l.94 2.06.94-2.06 2.06-.94-2.06-.94-.94-2.06-.94 2.06-2.06.94zm-11 1L8.5 8.5l.94-2.06 2.06-.94-2.06-.94L8.5 2.5l-.94 2.06-2.06.94zm10 10l.94 2.06.94-2.06 2.06-.94-2.06-.94-.94-2.06-.94 2.06-2.06.94z\"/><path d=\"M17.41 7.96l-1.37-1.37c-.4-.4-.92-.59-1.43-.59-.52 0-1.04.2-1.43.59L10.3 9.45l-7.72 7.72c-.78.78-.78 2.05 0 2.83L4 21.41c.39.39.9.59 1.41.59.51 0 1.02-.2 1.41-.59l7.78-7.78 2.81-2.81c.8-.78.8-2.07 0-2.86zM5.41 20L4 18.59l7.72-7.72 1.47 1.35L5.41 20z\"/>\n",
              "  </svg>\n",
              "      </button>\n",
              "      \n",
              "  <style>\n",
              "    .colab-df-container {\n",
              "      display:flex;\n",
              "      flex-wrap:wrap;\n",
              "      gap: 12px;\n",
              "    }\n",
              "\n",
              "    .colab-df-convert {\n",
              "      background-color: #E8F0FE;\n",
              "      border: none;\n",
              "      border-radius: 50%;\n",
              "      cursor: pointer;\n",
              "      display: none;\n",
              "      fill: #1967D2;\n",
              "      height: 32px;\n",
              "      padding: 0 0 0 0;\n",
              "      width: 32px;\n",
              "    }\n",
              "\n",
              "    .colab-df-convert:hover {\n",
              "      background-color: #E2EBFA;\n",
              "      box-shadow: 0px 1px 2px rgba(60, 64, 67, 0.3), 0px 1px 3px 1px rgba(60, 64, 67, 0.15);\n",
              "      fill: #174EA6;\n",
              "    }\n",
              "\n",
              "    [theme=dark] .colab-df-convert {\n",
              "      background-color: #3B4455;\n",
              "      fill: #D2E3FC;\n",
              "    }\n",
              "\n",
              "    [theme=dark] .colab-df-convert:hover {\n",
              "      background-color: #434B5C;\n",
              "      box-shadow: 0px 1px 3px 1px rgba(0, 0, 0, 0.15);\n",
              "      filter: drop-shadow(0px 1px 2px rgba(0, 0, 0, 0.3));\n",
              "      fill: #FFFFFF;\n",
              "    }\n",
              "  </style>\n",
              "\n",
              "      <script>\n",
              "        const buttonEl =\n",
              "          document.querySelector('#df-53481d6b-10e5-447f-b059-61c66bd9b4f5 button.colab-df-convert');\n",
              "        buttonEl.style.display =\n",
              "          google.colab.kernel.accessAllowed ? 'block' : 'none';\n",
              "\n",
              "        async function convertToInteractive(key) {\n",
              "          const element = document.querySelector('#df-53481d6b-10e5-447f-b059-61c66bd9b4f5');\n",
              "          const dataTable =\n",
              "            await google.colab.kernel.invokeFunction('convertToInteractive',\n",
              "                                                     [key], {});\n",
              "          if (!dataTable) return;\n",
              "\n",
              "          const docLinkHtml = 'Like what you see? Visit the ' +\n",
              "            '<a target=\"_blank\" href=https://colab.research.google.com/notebooks/data_table.ipynb>data table notebook</a>'\n",
              "            + ' to learn more about interactive tables.';\n",
              "          element.innerHTML = '';\n",
              "          dataTable['output_type'] = 'display_data';\n",
              "          await google.colab.output.renderOutput(dataTable, element);\n",
              "          const docLink = document.createElement('div');\n",
              "          docLink.innerHTML = docLinkHtml;\n",
              "          element.appendChild(docLink);\n",
              "        }\n",
              "      </script>\n",
              "    </div>\n",
              "  </div>\n",
              "  "
            ],
            "text/plain": [
              "     Type of Account Account History  ... Completed Other loan?  Good Loan\n",
              "686           Type C            Good  ...                   NaN        NaN\n",
              "721           Type C        critical  ...                   NaN        NaN\n",
              "737           Type C            Good  ...                   NaN        NaN\n",
              "1004             NaN             NaN  ...                    No        NaN\n",
              "1005             NaN             NaN  ...                   NaN        NaN\n",
              "\n",
              "[5 rows x 14 columns]"
            ]
          },
          "metadata": {},
          "execution_count": 24
        }
      ]
    },
    {
      "cell_type": "code",
      "source": [
        "# Printing the shape of the DataFrame before removing any missing value\n",
        "print(\"The Num of Rows of the Original DataFrame\",df.shape[0])\n",
        "\n",
        "# Removing the Missing values\n",
        "df = df.dropna(subset = ['Individual Status'])"
      ],
      "metadata": {
        "colab": {
          "base_uri": "https://localhost:8080/"
        },
        "id": "uK-vzRTnK4hO",
        "outputId": "e1c7adee-ff74-492d-c8d6-5451abbe7547"
      },
      "execution_count": null,
      "outputs": [
        {
          "output_type": "stream",
          "name": "stdout",
          "text": [
            "The Num of Rows of the Original DataFrame 1006\n"
          ]
        }
      ]
    },
    {
      "cell_type": "code",
      "source": [
        "df.isnull().sum()"
      ],
      "metadata": {
        "id": "6z8upZeVK4nc",
        "colab": {
          "base_uri": "https://localhost:8080/"
        },
        "outputId": "26ca4ba2-3238-4a68-c950-a984e556ed45"
      },
      "execution_count": null,
      "outputs": [
        {
          "output_type": "execute_result",
          "data": {
            "text/plain": [
              "Type of Account          0\n",
              "Account History          0\n",
              "Reason for the Loan      0\n",
              "Loan Amount              0\n",
              "Account Savings          0\n",
              "Employment History       0\n",
              "Individual Status        0\n",
              "Other Loans              0\n",
              "Security / Collateral    0\n",
              "Age                      0\n",
              "Residence Status         0\n",
              "Job                      0\n",
              "Completed Other loan?    0\n",
              "Good Loan                0\n",
              "dtype: int64"
            ]
          },
          "metadata": {},
          "execution_count": 58
        }
      ]
    },
    {
      "cell_type": "markdown",
      "source": [
        "So we have cleaned our data, and we don't have missing values anymore."
      ],
      "metadata": {
        "id": "IsdMmxOK1I6O"
      }
    },
    {
      "cell_type": "code",
      "source": [
        "sns.pairplot(df, hue = 'Individual Status')\n",
        "sns.pairplot(df, hue = 'Employment History')"
      ],
      "metadata": {
        "id": "qwUEy79iK4rp",
        "colab": {
          "base_uri": "https://localhost:8080/",
          "height": 749
        },
        "outputId": "f4555a43-73bb-4c9a-eec9-8b591bd64bed"
      },
      "execution_count": 25,
      "outputs": [
        {
          "output_type": "execute_result",
          "data": {
            "text/plain": [
              "<seaborn.axisgrid.PairGrid at 0x7f87edd39110>"
            ]
          },
          "metadata": {},
          "execution_count": 25
        },
        {
          "output_type": "display_data",
          "data": {
            "image/png": "[encoded data removed]",
            "text/plain": [
              "<Figure size 469.925x360 with 6 Axes>"
            ]
          },
          "metadata": {
            "needs_background": "light"
          }
        },
        {
          "output_type": "display_data",
          "data": {
            "image/png": "[encoded data removed]",
            "text/plain": [
              "<Figure size 491.675x360 with 6 Axes>"
            ]
          },
          "metadata": {
            "needs_background": "light"
          }
        }
      ]
    },
    {
      "cell_type": "markdown",
      "source": [
        "**Comment** : By looking at either of the pairplots above, we can find that we have outliers like we've mentionned before of an age beyond 300 years, and a negative loan amount."
      ],
      "metadata": {
        "id": "M0EAKrWG3g-t"
      }
    },
    {
      "cell_type": "markdown",
      "source": [
        "#### **Step 4 : Data Cleansing**"
      ],
      "metadata": {
        "id": "DDnKmO2J4oMM"
      }
    },
    {
      "cell_type": "markdown",
      "source": [
        "Deleting the Outliers"
      ],
      "metadata": {
        "id": "QkJJd-zY4rv-"
      }
    },
    {
      "cell_type": "code",
      "source": [
        "# Wa can eliminate the outliers, by applying some filters\n",
        "df = df[df['Age'] < 100] \n",
        "\n",
        "# Eliminate the negative Loan Amounts\n",
        "df = df[df[\"Loan Amount\"] > 0]"
      ],
      "metadata": {
        "id": "UJbzBFCqK4uR"
      },
      "execution_count": 26,
      "outputs": []
    },
    {
      "cell_type": "code",
      "source": [
        "# Rerunning the pairplots\n",
        "sns.pairplot(df, hue  = 'Individual Status')"
      ],
      "metadata": {
        "colab": {
          "base_uri": "https://localhost:8080/",
          "height": 392
        },
        "id": "IN40qv7v3fm1",
        "outputId": "d9a6fff9-7540-4182-f134-c6129753e173"
      },
      "execution_count": 27,
      "outputs": [
        {
          "output_type": "execute_result",
          "data": {
            "text/plain": [
              "<seaborn.axisgrid.PairGrid at 0x7f87eea6f290>"
            ]
          },
          "metadata": {},
          "execution_count": 27
        },
        {
          "output_type": "display_data",
          "data": {
            "image/png": "[encoded data removed]",
            "text/plain": [
              "<Figure size 469.925x360 with 6 Axes>"
            ]
          },
          "metadata": {
            "needs_background": "light"
          }
        }
      ]
    },
    {
      "cell_type": "code",
      "source": [
        "sns.pairplot(df)"
      ],
      "metadata": {
        "colab": {
          "base_uri": "https://localhost:8080/",
          "height": 392
        },
        "id": "o3hSj1un3fpL",
        "outputId": "b04bc5a2-ead4-44cb-aad0-a2923adb5b1a"
      },
      "execution_count": 28,
      "outputs": [
        {
          "output_type": "execute_result",
          "data": {
            "text/plain": [
              "<seaborn.axisgrid.PairGrid at 0x7f87e8dae450>"
            ]
          },
          "metadata": {},
          "execution_count": 28
        },
        {
          "output_type": "display_data",
          "data": {
            "image/png": "[encoded data removed]",
            "text/plain": [
              "<Figure size 360x360 with 6 Axes>"
            ]
          },
          "metadata": {
            "needs_background": "light"
          }
        }
      ]
    },
    {
      "cell_type": "code",
      "source": [
        "sns.pairplot(df, hue = 'Good Loan')"
      ],
      "metadata": {
        "colab": {
          "base_uri": "https://localhost:8080/",
          "height": 392
        },
        "id": "6zNjh8jf3frk",
        "outputId": "6bff60a9-268a-4e16-a28a-35fbe85d3fe5"
      },
      "execution_count": 29,
      "outputs": [
        {
          "output_type": "execute_result",
          "data": {
            "text/plain": [
              "<seaborn.axisgrid.PairGrid at 0x7f87e7312450>"
            ]
          },
          "metadata": {},
          "execution_count": 29
        },
        {
          "output_type": "display_data",
          "data": {
            "image/png": "[encoded data removed]",
            "text/plain": [
              "<Figure size 432.8x360 with 6 Axes>"
            ]
          },
          "metadata": {
            "needs_background": "light"
          }
        }
      ]
    },
    {
      "cell_type": "markdown",
      "source": [
        "Investigating the distribution of y"
      ],
      "metadata": {
        "id": "qo_LyEpQpNLn"
      }
    },
    {
      "cell_type": "code",
      "source": [
        "sns.countplot(x = 'Good Loan', data = df, palette = \"Set1\")"
      ],
      "metadata": {
        "id": "3aLCAORi3ft_",
        "colab": {
          "base_uri": "https://localhost:8080/",
          "height": 303
        },
        "outputId": "fe83d239-a16e-41fa-f55d-f79a80254aca"
      },
      "execution_count": 30,
      "outputs": [
        {
          "output_type": "execute_result",
          "data": {
            "text/plain": [
              "<matplotlib.axes._subplots.AxesSubplot at 0x7f87e730abd0>"
            ]
          },
          "metadata": {},
          "execution_count": 30
        },
        {
          "output_type": "display_data",
          "data": {
            "image/png": "[encoded data removed]",
            "text/plain": [
              "<Figure size 432x288 with 1 Axes>"
            ]
          },
          "metadata": {
            "needs_background": "light"
          }
        }
      ]
    },
    {
      "cell_type": "code",
      "source": [
        "sns.countplot(x = 'Good Loan', data = df, palette = \"Set1\", hue = 'Reason for the Loan')"
      ],
      "metadata": {
        "id": "xdeBbQ_M3fwW",
        "colab": {
          "base_uri": "https://localhost:8080/",
          "height": 303
        },
        "outputId": "4b1b9ed3-2e90-4bea-863d-359001303ca8"
      },
      "execution_count": 31,
      "outputs": [
        {
          "output_type": "execute_result",
          "data": {
            "text/plain": [
              "<matplotlib.axes._subplots.AxesSubplot at 0x7f87eb4c2210>"
            ]
          },
          "metadata": {},
          "execution_count": 31
        },
        {
          "output_type": "display_data",
          "data": {
            "image/png": "[encoded data removed]",
            "text/plain": [
              "<Figure size 432x288 with 1 Axes>"
            ]
          },
          "metadata": {
            "needs_background": "light"
          }
        }
      ]
    },
    {
      "cell_type": "code",
      "source": [
        "sns.countplot(y = 'Reason for the Loan', data = df, palette = \"Set1\", hue = \"Good Loan\")"
      ],
      "metadata": {
        "id": "j0aFraIe3f1N",
        "colab": {
          "base_uri": "https://localhost:8080/",
          "height": 303
        },
        "outputId": "f5cb32c6-7af7-4c70-fe77-45bf6f35100b"
      },
      "execution_count": 32,
      "outputs": [
        {
          "output_type": "execute_result",
          "data": {
            "text/plain": [
              "<matplotlib.axes._subplots.AxesSubplot at 0x7f87eb3b3cd0>"
            ]
          },
          "metadata": {},
          "execution_count": 32
        },
        {
          "output_type": "display_data",
          "data": {
            "image/png": "[encoded data removed]",
            "text/plain": [
              "<Figure size 432x288 with 1 Axes>"
            ]
          },
          "metadata": {
            "needs_background": "light"
          }
        }
      ]
    },
    {
      "cell_type": "markdown",
      "source": [
        "if we look closely at the graph, we observe that for every *Reason to Buy a Loan* the answer NO is more than the answer YES, so based on this dataset the bank normaly take caution before approving a loan.\n",
        "However for the *Advance Edu/training* we notice that the answer YES is way more than the answer NO, and the same goes for *Buying a Used Car*.\n",
        "So from now on we need to enthral on attention on this."
      ],
      "metadata": {
        "id": "6lYV1KyEqXgB"
      }
    },
    {
      "cell_type": "code",
      "source": [
        "sns.countplot(y ='Individual Status', data = df,color=\"salmon\", facecolor=(0, 0, 0, 0),\n",
        "                   linewidth=5,\n",
        "                   edgecolor=sns.color_palette(\"BrBG\", 2), hue = \"Good Loan\")"
      ],
      "metadata": {
        "colab": {
          "base_uri": "https://localhost:8080/",
          "height": 303
        },
        "id": "rVdOKStEqWP5",
        "outputId": "bc1d47b7-be0d-4843-d5cd-120534d498a1"
      },
      "execution_count": 33,
      "outputs": [
        {
          "output_type": "execute_result",
          "data": {
            "text/plain": [
              "<matplotlib.axes._subplots.AxesSubplot at 0x7f87eb3a2410>"
            ]
          },
          "metadata": {},
          "execution_count": 33
        },
        {
          "output_type": "display_data",
          "data": {
            "image/png": "[encoded data removed]",
            "text/plain": [
              "<Figure size 432x288 with 1 Axes>"
            ]
          },
          "metadata": {
            "needs_background": "light"
          }
        }
      ]
    },
    {
      "cell_type": "code",
      "source": [
        "# sns.set(rc={'figure.figsize':(18,18)})\n",
        "# sns.violinplot(y = \"Age\", x = 'Loan Amount', data = df, hue = \"Good Loan\")"
      ],
      "metadata": {
        "id": "-aukYCxdqWSy"
      },
      "execution_count": null,
      "outputs": []
    },
    {
      "cell_type": "code",
      "source": [
        "df.dtypes"
      ],
      "metadata": {
        "colab": {
          "base_uri": "https://localhost:8080/"
        },
        "id": "gjkmHk7kqWVl",
        "outputId": "feacbd0a-4805-44a6-b4e5-2c46ca7e98d4"
      },
      "execution_count": 34,
      "outputs": [
        {
          "output_type": "execute_result",
          "data": {
            "text/plain": [
              "Type of Account           object\n",
              "Account History           object\n",
              "Reason for the Loan       object\n",
              "Loan Amount              float64\n",
              "Account Savings           object\n",
              "Employment History        object\n",
              "Individual Status         object\n",
              "Other Loans               object\n",
              "Security / Collateral     object\n",
              "Age                      float64\n",
              "Residence Status          object\n",
              "Job                       object\n",
              "Completed Other loan?     object\n",
              "Good Loan                 object\n",
              "dtype: object"
            ]
          },
          "metadata": {},
          "execution_count": 34
        }
      ]
    },
    {
      "cell_type": "code",
      "source": [
        "# Applying the countplot for every non numeric feature\n",
        "features = [\n",
        "       'Type of Account', 'Account History', 'Reason for the Loan',\n",
        "       'Account Savings', 'Employment History',\n",
        "       'Individual Status', 'Security / Collateral',\n",
        "       'Residence Status', 'Job', 'Completed Other loan?'\n",
        "]\n",
        "\n",
        "for feature in features:\n",
        "  sns.set(rc = {'figure.figsize': (6, 6)})\n",
        "  sns.countplot(y = feature, data = df, hue = \"Good Loan\", palette = \"Set1\")\n",
        "  plt.show()"
      ],
      "metadata": {
        "colab": {
          "base_uri": "https://localhost:8080/",
          "height": 1000
        },
        "id": "KbTl--NpqWYp",
        "outputId": "f4ec9107-88cd-4955-a044-cf2a0f2e03e9"
      },
      "execution_count": 35,
      "outputs": [
        {
          "output_type": "display_data",
          "data": {
            "image/png": "[encoded data removed]",
            "text/plain": [
              "<Figure size 432x432 with 1 Axes>"
            ]
          },
          "metadata": {}
        },
        {
          "output_type": "display_data",
          "data": {
            "image/png": "[encoded data removed]",
            "text/plain": [
              "<Figure size 432x432 with 1 Axes>"
            ]
          },
          "metadata": {}
        },
        {
          "output_type": "display_data",
          "data": {
            "image/png": "[encoded data removed]",
            "text/plain": [
              "<Figure size 432x432 with 1 Axes>"
            ]
          },
          "metadata": {}
        },
        {
          "output_type": "display_data",
          "data": {
            "image/png": "[encoded data removed]",
            "text/plain": [
              "<Figure size 432x432 with 1 Axes>"
            ]
          },
          "metadata": {}
        },
        {
          "output_type": "display_data",
          "data": {
            "image/png": "[encoded data removed]",
            "text/plain": [
              "<Figure size 432x432 with 1 Axes>"
            ]
          },
          "metadata": {}
        },
        {
          "output_type": "display_data",
          "data": {
            "image/png": "[encoded data removed]",
            "text/plain": [
              "<Figure size 432x432 with 1 Axes>"
            ]
          },
          "metadata": {}
        },
        {
          "output_type": "display_data",
          "data": {
            "image/png": "[encoded data removed]",
            "text/plain": [
              "<Figure size 432x432 with 1 Axes>"
            ]
          },
          "metadata": {}
        },
        {
          "output_type": "display_data",
          "data": {
            "image/png": "[encoded data removed]",
            "text/plain": [
              "<Figure size 432x432 with 1 Axes>"
            ]
          },
          "metadata": {}
        },
        {
          "output_type": "display_data",
          "data": {
            "image/png": "[encoded data removed]",
            "text/plain": [
              "<Figure size 432x432 with 1 Axes>"
            ]
          },
          "metadata": {}
        },
        {
          "output_type": "display_data",
          "data": {
            "image/png": "[encoded data removed]",
            "text/plain": [
              "<Figure size 432x432 with 1 Axes>"
            ]
          },
          "metadata": {}
        }
      ]
    },
    {
      "cell_type": "markdown",
      "source": [
        "Encoding the Data from categorical to numeric data"
      ],
      "metadata": {
        "id": "PsWMcEaU44uT"
      }
    },
    {
      "cell_type": "code",
      "source": [
        "# Encoding the Data \n",
        "# df = pd.get_dummies(df, columns = features)\n",
        "\n",
        "# changing the Good Loan Values from Y/N to 1s & 0s\n",
        "df['Good Loan'][df['Good Loan'] == \"Yes\"] = 1\n",
        "df['Good Loan'][df['Good Loan'] == \"No\"] = 0\n",
        "\n",
        "df['Other Loans'][df['Other Loans'] == \"Yes\"] = 1\n",
        "df['Other Loans'][df['Other Loans'] == \"No\"] = 0\n",
        "\n",
        "# Displaying the Data\n",
        "df\n",
        "\n"
      ],
      "metadata": {
        "colab": {
          "base_uri": "https://localhost:8080/",
          "height": 921
        },
        "id": "Dy9vDB_gqWcA",
        "outputId": "95b36836-5fb9-4559-fde2-90ef794e9644"
      },
      "execution_count": 37,
      "outputs": [
        {
          "output_type": "stream",
          "name": "stderr",
          "text": [
            "/usr/local/lib/python3.7/dist-packages/ipykernel_launcher.py:5: SettingWithCopyWarning: \n",
            "A value is trying to be set on a copy of a slice from a DataFrame\n",
            "\n",
            "See the caveats in the documentation: https://pandas.pydata.org/pandas-docs/stable/user_guide/indexing.html#returning-a-view-versus-a-copy\n",
            "  \"\"\"\n",
            "/usr/local/lib/python3.7/dist-packages/ipykernel_launcher.py:6: SettingWithCopyWarning: \n",
            "A value is trying to be set on a copy of a slice from a DataFrame\n",
            "\n",
            "See the caveats in the documentation: https://pandas.pydata.org/pandas-docs/stable/user_guide/indexing.html#returning-a-view-versus-a-copy\n",
            "  \n",
            "/usr/local/lib/python3.7/dist-packages/ipykernel_launcher.py:8: SettingWithCopyWarning: \n",
            "A value is trying to be set on a copy of a slice from a DataFrame\n",
            "\n",
            "See the caveats in the documentation: https://pandas.pydata.org/pandas-docs/stable/user_guide/indexing.html#returning-a-view-versus-a-copy\n",
            "  \n",
            "/usr/local/lib/python3.7/dist-packages/ipykernel_launcher.py:9: SettingWithCopyWarning: \n",
            "A value is trying to be set on a copy of a slice from a DataFrame\n",
            "\n",
            "See the caveats in the documentation: https://pandas.pydata.org/pandas-docs/stable/user_guide/indexing.html#returning-a-view-versus-a-copy\n",
            "  if __name__ == '__main__':\n"
          ]
        },
        {
          "output_type": "execute_result",
          "data": {
            "text/html": [
              "\n",
              "  <div id=\"df-29c16948-da76-4d7f-80e3-291965b21b13\">\n",
              "    <div class=\"colab-df-container\">\n",
              "      <div>\n",
              "<style scoped>\n",
              "    .dataframe tbody tr th:only-of-type {\n",
              "        vertical-align: middle;\n",
              "    }\n",
              "\n",
              "    .dataframe tbody tr th {\n",
              "        vertical-align: top;\n",
              "    }\n",
              "\n",
              "    .dataframe thead th {\n",
              "        text-align: right;\n",
              "    }\n",
              "</style>\n",
              "<table border=\"1\" class=\"dataframe\">\n",
              "  <thead>\n",
              "    <tr style=\"text-align: right;\">\n",
              "      <th></th>\n",
              "      <th>Loan Amount</th>\n",
              "      <th>Other Loans</th>\n",
              "      <th>Age</th>\n",
              "      <th>Good Loan</th>\n",
              "      <th>Type of Account_No Data</th>\n",
              "      <th>Type of Account_Type A</th>\n",
              "      <th>Type of Account_Type B</th>\n",
              "      <th>Type of Account_Type C</th>\n",
              "      <th>Account History_Average (known delays)</th>\n",
              "      <th>Account History_Good</th>\n",
              "      <th>Account History_critical</th>\n",
              "      <th>Reason for the Loan_Advance Edu/training</th>\n",
              "      <th>Reason for the Loan_All other</th>\n",
              "      <th>Reason for the Loan_Buying a New Car</th>\n",
              "      <th>Reason for the Loan_Buying a Used Car</th>\n",
              "      <th>Reason for the Loan_Home Devices</th>\n",
              "      <th>Reason for the Loan_Home furniture</th>\n",
              "      <th>Reason for the Loan_Learning / Edu purposes</th>\n",
              "      <th>Reason for the Loan_Renovation</th>\n",
              "      <th>Reason for the Loan_Support for Business</th>\n",
              "      <th>Reason for the Loan_TV</th>\n",
              "      <th>Account Savings_0-200</th>\n",
              "      <th>Account Savings_1000+</th>\n",
              "      <th>Account Savings_200-500</th>\n",
              "      <th>Account Savings_500-1000</th>\n",
              "      <th>Account Savings_No Data</th>\n",
              "      <th>Employment History_0-2 Years</th>\n",
              "      <th>Employment History_2-5 Years</th>\n",
              "      <th>Employment History_5-7 Years</th>\n",
              "      <th>Employment History_7+ Years</th>\n",
              "      <th>Employment History_Unemployed</th>\n",
              "      <th>Individual Status_Divorced</th>\n",
              "      <th>Individual Status_Female</th>\n",
              "      <th>Individual Status_Male</th>\n",
              "      <th>Individual Status_Married</th>\n",
              "      <th>Security / Collateral_No Security</th>\n",
              "      <th>Security / Collateral_Property - Real Estate</th>\n",
              "      <th>Security / Collateral_Savings Account</th>\n",
              "      <th>Security / Collateral_Vehicle</th>\n",
              "      <th>Residence Status_Free</th>\n",
              "      <th>Residence Status_House Owner</th>\n",
              "      <th>Residence Status_Renting</th>\n",
              "      <th>Job_Not Employed</th>\n",
              "      <th>Job_Professional / Management</th>\n",
              "      <th>Job_Services</th>\n",
              "      <th>Job_Skilled Labor</th>\n",
              "      <th>Completed Other loan?_No</th>\n",
              "      <th>Completed Other loan?_Yes</th>\n",
              "    </tr>\n",
              "  </thead>\n",
              "  <tbody>\n",
              "    <tr>\n",
              "      <th>0</th>\n",
              "      <td>2116.0</td>\n",
              "      <td>0</td>\n",
              "      <td>47.0</td>\n",
              "      <td>0</td>\n",
              "      <td>1</td>\n",
              "      <td>0</td>\n",
              "      <td>0</td>\n",
              "      <td>0</td>\n",
              "      <td>0</td>\n",
              "      <td>0</td>\n",
              "      <td>1</td>\n",
              "      <td>0</td>\n",
              "      <td>0</td>\n",
              "      <td>0</td>\n",
              "      <td>0</td>\n",
              "      <td>0</td>\n",
              "      <td>0</td>\n",
              "      <td>1</td>\n",
              "      <td>0</td>\n",
              "      <td>0</td>\n",
              "      <td>0</td>\n",
              "      <td>1</td>\n",
              "      <td>0</td>\n",
              "      <td>0</td>\n",
              "      <td>0</td>\n",
              "      <td>0</td>\n",
              "      <td>0</td>\n",
              "      <td>0</td>\n",
              "      <td>1</td>\n",
              "      <td>0</td>\n",
              "      <td>0</td>\n",
              "      <td>0</td>\n",
              "      <td>0</td>\n",
              "      <td>1</td>\n",
              "      <td>0</td>\n",
              "      <td>0</td>\n",
              "      <td>1</td>\n",
              "      <td>0</td>\n",
              "      <td>0</td>\n",
              "      <td>0</td>\n",
              "      <td>1</td>\n",
              "      <td>0</td>\n",
              "      <td>0</td>\n",
              "      <td>0</td>\n",
              "      <td>1</td>\n",
              "      <td>0</td>\n",
              "      <td>1</td>\n",
              "      <td>0</td>\n",
              "    </tr>\n",
              "    <tr>\n",
              "      <th>1</th>\n",
              "      <td>2438.0</td>\n",
              "      <td>0</td>\n",
              "      <td>52.0</td>\n",
              "      <td>0</td>\n",
              "      <td>1</td>\n",
              "      <td>0</td>\n",
              "      <td>0</td>\n",
              "      <td>0</td>\n",
              "      <td>0</td>\n",
              "      <td>0</td>\n",
              "      <td>1</td>\n",
              "      <td>0</td>\n",
              "      <td>0</td>\n",
              "      <td>0</td>\n",
              "      <td>0</td>\n",
              "      <td>0</td>\n",
              "      <td>0</td>\n",
              "      <td>0</td>\n",
              "      <td>0</td>\n",
              "      <td>0</td>\n",
              "      <td>1</td>\n",
              "      <td>0</td>\n",
              "      <td>0</td>\n",
              "      <td>0</td>\n",
              "      <td>0</td>\n",
              "      <td>1</td>\n",
              "      <td>0</td>\n",
              "      <td>0</td>\n",
              "      <td>0</td>\n",
              "      <td>1</td>\n",
              "      <td>0</td>\n",
              "      <td>0</td>\n",
              "      <td>0</td>\n",
              "      <td>1</td>\n",
              "      <td>0</td>\n",
              "      <td>0</td>\n",
              "      <td>0</td>\n",
              "      <td>1</td>\n",
              "      <td>0</td>\n",
              "      <td>0</td>\n",
              "      <td>1</td>\n",
              "      <td>0</td>\n",
              "      <td>0</td>\n",
              "      <td>0</td>\n",
              "      <td>0</td>\n",
              "      <td>1</td>\n",
              "      <td>1</td>\n",
              "      <td>0</td>\n",
              "    </tr>\n",
              "    <tr>\n",
              "      <th>2</th>\n",
              "      <td>2144.0</td>\n",
              "      <td>0</td>\n",
              "      <td>48.0</td>\n",
              "      <td>0</td>\n",
              "      <td>1</td>\n",
              "      <td>0</td>\n",
              "      <td>0</td>\n",
              "      <td>0</td>\n",
              "      <td>0</td>\n",
              "      <td>0</td>\n",
              "      <td>1</td>\n",
              "      <td>0</td>\n",
              "      <td>0</td>\n",
              "      <td>1</td>\n",
              "      <td>0</td>\n",
              "      <td>0</td>\n",
              "      <td>0</td>\n",
              "      <td>0</td>\n",
              "      <td>0</td>\n",
              "      <td>0</td>\n",
              "      <td>0</td>\n",
              "      <td>1</td>\n",
              "      <td>0</td>\n",
              "      <td>0</td>\n",
              "      <td>0</td>\n",
              "      <td>0</td>\n",
              "      <td>0</td>\n",
              "      <td>1</td>\n",
              "      <td>0</td>\n",
              "      <td>0</td>\n",
              "      <td>0</td>\n",
              "      <td>0</td>\n",
              "      <td>0</td>\n",
              "      <td>1</td>\n",
              "      <td>0</td>\n",
              "      <td>0</td>\n",
              "      <td>0</td>\n",
              "      <td>0</td>\n",
              "      <td>1</td>\n",
              "      <td>0</td>\n",
              "      <td>1</td>\n",
              "      <td>0</td>\n",
              "      <td>0</td>\n",
              "      <td>0</td>\n",
              "      <td>0</td>\n",
              "      <td>1</td>\n",
              "      <td>1</td>\n",
              "      <td>0</td>\n",
              "    </tr>\n",
              "    <tr>\n",
              "      <th>3</th>\n",
              "      <td>2073.0</td>\n",
              "      <td>0</td>\n",
              "      <td>25.0</td>\n",
              "      <td>0</td>\n",
              "      <td>1</td>\n",
              "      <td>0</td>\n",
              "      <td>0</td>\n",
              "      <td>0</td>\n",
              "      <td>0</td>\n",
              "      <td>0</td>\n",
              "      <td>1</td>\n",
              "      <td>0</td>\n",
              "      <td>0</td>\n",
              "      <td>0</td>\n",
              "      <td>0</td>\n",
              "      <td>0</td>\n",
              "      <td>1</td>\n",
              "      <td>0</td>\n",
              "      <td>0</td>\n",
              "      <td>0</td>\n",
              "      <td>0</td>\n",
              "      <td>0</td>\n",
              "      <td>0</td>\n",
              "      <td>0</td>\n",
              "      <td>0</td>\n",
              "      <td>1</td>\n",
              "      <td>0</td>\n",
              "      <td>1</td>\n",
              "      <td>0</td>\n",
              "      <td>0</td>\n",
              "      <td>0</td>\n",
              "      <td>0</td>\n",
              "      <td>0</td>\n",
              "      <td>0</td>\n",
              "      <td>1</td>\n",
              "      <td>0</td>\n",
              "      <td>0</td>\n",
              "      <td>0</td>\n",
              "      <td>1</td>\n",
              "      <td>0</td>\n",
              "      <td>1</td>\n",
              "      <td>0</td>\n",
              "      <td>0</td>\n",
              "      <td>0</td>\n",
              "      <td>0</td>\n",
              "      <td>1</td>\n",
              "      <td>0</td>\n",
              "      <td>1</td>\n",
              "    </tr>\n",
              "    <tr>\n",
              "      <th>4</th>\n",
              "      <td>1276.0</td>\n",
              "      <td>0</td>\n",
              "      <td>59.0</td>\n",
              "      <td>0</td>\n",
              "      <td>1</td>\n",
              "      <td>0</td>\n",
              "      <td>0</td>\n",
              "      <td>0</td>\n",
              "      <td>0</td>\n",
              "      <td>0</td>\n",
              "      <td>1</td>\n",
              "      <td>0</td>\n",
              "      <td>0</td>\n",
              "      <td>0</td>\n",
              "      <td>0</td>\n",
              "      <td>0</td>\n",
              "      <td>0</td>\n",
              "      <td>0</td>\n",
              "      <td>0</td>\n",
              "      <td>1</td>\n",
              "      <td>0</td>\n",
              "      <td>0</td>\n",
              "      <td>0</td>\n",
              "      <td>0</td>\n",
              "      <td>0</td>\n",
              "      <td>1</td>\n",
              "      <td>0</td>\n",
              "      <td>0</td>\n",
              "      <td>0</td>\n",
              "      <td>1</td>\n",
              "      <td>0</td>\n",
              "      <td>0</td>\n",
              "      <td>0</td>\n",
              "      <td>1</td>\n",
              "      <td>0</td>\n",
              "      <td>1</td>\n",
              "      <td>0</td>\n",
              "      <td>0</td>\n",
              "      <td>0</td>\n",
              "      <td>0</td>\n",
              "      <td>0</td>\n",
              "      <td>1</td>\n",
              "      <td>0</td>\n",
              "      <td>0</td>\n",
              "      <td>1</td>\n",
              "      <td>0</td>\n",
              "      <td>1</td>\n",
              "      <td>0</td>\n",
              "    </tr>\n",
              "    <tr>\n",
              "      <th>...</th>\n",
              "      <td>...</td>\n",
              "      <td>...</td>\n",
              "      <td>...</td>\n",
              "      <td>...</td>\n",
              "      <td>...</td>\n",
              "      <td>...</td>\n",
              "      <td>...</td>\n",
              "      <td>...</td>\n",
              "      <td>...</td>\n",
              "      <td>...</td>\n",
              "      <td>...</td>\n",
              "      <td>...</td>\n",
              "      <td>...</td>\n",
              "      <td>...</td>\n",
              "      <td>...</td>\n",
              "      <td>...</td>\n",
              "      <td>...</td>\n",
              "      <td>...</td>\n",
              "      <td>...</td>\n",
              "      <td>...</td>\n",
              "      <td>...</td>\n",
              "      <td>...</td>\n",
              "      <td>...</td>\n",
              "      <td>...</td>\n",
              "      <td>...</td>\n",
              "      <td>...</td>\n",
              "      <td>...</td>\n",
              "      <td>...</td>\n",
              "      <td>...</td>\n",
              "      <td>...</td>\n",
              "      <td>...</td>\n",
              "      <td>...</td>\n",
              "      <td>...</td>\n",
              "      <td>...</td>\n",
              "      <td>...</td>\n",
              "      <td>...</td>\n",
              "      <td>...</td>\n",
              "      <td>...</td>\n",
              "      <td>...</td>\n",
              "      <td>...</td>\n",
              "      <td>...</td>\n",
              "      <td>...</td>\n",
              "      <td>...</td>\n",
              "      <td>...</td>\n",
              "      <td>...</td>\n",
              "      <td>...</td>\n",
              "      <td>...</td>\n",
              "      <td>...</td>\n",
              "    </tr>\n",
              "    <tr>\n",
              "      <th>999</th>\n",
              "      <td>3602.0</td>\n",
              "      <td>0</td>\n",
              "      <td>47.0</td>\n",
              "      <td>0</td>\n",
              "      <td>0</td>\n",
              "      <td>0</td>\n",
              "      <td>0</td>\n",
              "      <td>1</td>\n",
              "      <td>1</td>\n",
              "      <td>0</td>\n",
              "      <td>0</td>\n",
              "      <td>0</td>\n",
              "      <td>0</td>\n",
              "      <td>0</td>\n",
              "      <td>1</td>\n",
              "      <td>0</td>\n",
              "      <td>0</td>\n",
              "      <td>0</td>\n",
              "      <td>0</td>\n",
              "      <td>0</td>\n",
              "      <td>0</td>\n",
              "      <td>1</td>\n",
              "      <td>0</td>\n",
              "      <td>0</td>\n",
              "      <td>0</td>\n",
              "      <td>0</td>\n",
              "      <td>1</td>\n",
              "      <td>0</td>\n",
              "      <td>0</td>\n",
              "      <td>0</td>\n",
              "      <td>0</td>\n",
              "      <td>0</td>\n",
              "      <td>1</td>\n",
              "      <td>0</td>\n",
              "      <td>0</td>\n",
              "      <td>0</td>\n",
              "      <td>0</td>\n",
              "      <td>1</td>\n",
              "      <td>0</td>\n",
              "      <td>0</td>\n",
              "      <td>1</td>\n",
              "      <td>0</td>\n",
              "      <td>0</td>\n",
              "      <td>0</td>\n",
              "      <td>1</td>\n",
              "      <td>0</td>\n",
              "      <td>1</td>\n",
              "      <td>0</td>\n",
              "    </tr>\n",
              "    <tr>\n",
              "      <th>1000</th>\n",
              "      <td>4473.0</td>\n",
              "      <td>0</td>\n",
              "      <td>35.0</td>\n",
              "      <td>0</td>\n",
              "      <td>0</td>\n",
              "      <td>0</td>\n",
              "      <td>0</td>\n",
              "      <td>1</td>\n",
              "      <td>1</td>\n",
              "      <td>0</td>\n",
              "      <td>0</td>\n",
              "      <td>0</td>\n",
              "      <td>0</td>\n",
              "      <td>0</td>\n",
              "      <td>0</td>\n",
              "      <td>0</td>\n",
              "      <td>0</td>\n",
              "      <td>0</td>\n",
              "      <td>0</td>\n",
              "      <td>0</td>\n",
              "      <td>1</td>\n",
              "      <td>1</td>\n",
              "      <td>0</td>\n",
              "      <td>0</td>\n",
              "      <td>0</td>\n",
              "      <td>0</td>\n",
              "      <td>0</td>\n",
              "      <td>1</td>\n",
              "      <td>0</td>\n",
              "      <td>0</td>\n",
              "      <td>0</td>\n",
              "      <td>0</td>\n",
              "      <td>1</td>\n",
              "      <td>0</td>\n",
              "      <td>0</td>\n",
              "      <td>0</td>\n",
              "      <td>1</td>\n",
              "      <td>0</td>\n",
              "      <td>0</td>\n",
              "      <td>0</td>\n",
              "      <td>1</td>\n",
              "      <td>0</td>\n",
              "      <td>0</td>\n",
              "      <td>0</td>\n",
              "      <td>0</td>\n",
              "      <td>1</td>\n",
              "      <td>1</td>\n",
              "      <td>0</td>\n",
              "    </tr>\n",
              "    <tr>\n",
              "      <th>1001</th>\n",
              "      <td>12759.0</td>\n",
              "      <td>0</td>\n",
              "      <td>38.0</td>\n",
              "      <td>1</td>\n",
              "      <td>0</td>\n",
              "      <td>0</td>\n",
              "      <td>0</td>\n",
              "      <td>1</td>\n",
              "      <td>1</td>\n",
              "      <td>0</td>\n",
              "      <td>0</td>\n",
              "      <td>0</td>\n",
              "      <td>0</td>\n",
              "      <td>0</td>\n",
              "      <td>0</td>\n",
              "      <td>0</td>\n",
              "      <td>0</td>\n",
              "      <td>0</td>\n",
              "      <td>0</td>\n",
              "      <td>0</td>\n",
              "      <td>1</td>\n",
              "      <td>0</td>\n",
              "      <td>0</td>\n",
              "      <td>0</td>\n",
              "      <td>1</td>\n",
              "      <td>0</td>\n",
              "      <td>0</td>\n",
              "      <td>0</td>\n",
              "      <td>1</td>\n",
              "      <td>0</td>\n",
              "      <td>0</td>\n",
              "      <td>0</td>\n",
              "      <td>0</td>\n",
              "      <td>1</td>\n",
              "      <td>0</td>\n",
              "      <td>0</td>\n",
              "      <td>0</td>\n",
              "      <td>0</td>\n",
              "      <td>1</td>\n",
              "      <td>0</td>\n",
              "      <td>1</td>\n",
              "      <td>0</td>\n",
              "      <td>0</td>\n",
              "      <td>1</td>\n",
              "      <td>0</td>\n",
              "      <td>0</td>\n",
              "      <td>1</td>\n",
              "      <td>0</td>\n",
              "    </tr>\n",
              "    <tr>\n",
              "      <th>1002</th>\n",
              "      <td>2551.0</td>\n",
              "      <td>0</td>\n",
              "      <td>47.0</td>\n",
              "      <td>0</td>\n",
              "      <td>0</td>\n",
              "      <td>0</td>\n",
              "      <td>0</td>\n",
              "      <td>1</td>\n",
              "      <td>1</td>\n",
              "      <td>0</td>\n",
              "      <td>0</td>\n",
              "      <td>0</td>\n",
              "      <td>0</td>\n",
              "      <td>1</td>\n",
              "      <td>0</td>\n",
              "      <td>0</td>\n",
              "      <td>0</td>\n",
              "      <td>0</td>\n",
              "      <td>0</td>\n",
              "      <td>0</td>\n",
              "      <td>0</td>\n",
              "      <td>1</td>\n",
              "      <td>0</td>\n",
              "      <td>0</td>\n",
              "      <td>0</td>\n",
              "      <td>0</td>\n",
              "      <td>0</td>\n",
              "      <td>0</td>\n",
              "      <td>0</td>\n",
              "      <td>1</td>\n",
              "      <td>0</td>\n",
              "      <td>0</td>\n",
              "      <td>0</td>\n",
              "      <td>1</td>\n",
              "      <td>0</td>\n",
              "      <td>0</td>\n",
              "      <td>0</td>\n",
              "      <td>0</td>\n",
              "      <td>1</td>\n",
              "      <td>0</td>\n",
              "      <td>1</td>\n",
              "      <td>0</td>\n",
              "      <td>0</td>\n",
              "      <td>0</td>\n",
              "      <td>1</td>\n",
              "      <td>0</td>\n",
              "      <td>1</td>\n",
              "      <td>0</td>\n",
              "    </tr>\n",
              "    <tr>\n",
              "      <th>1003</th>\n",
              "      <td>1587.0</td>\n",
              "      <td>0</td>\n",
              "      <td>35.0</td>\n",
              "      <td>1</td>\n",
              "      <td>0</td>\n",
              "      <td>0</td>\n",
              "      <td>0</td>\n",
              "      <td>1</td>\n",
              "      <td>1</td>\n",
              "      <td>0</td>\n",
              "      <td>0</td>\n",
              "      <td>0</td>\n",
              "      <td>0</td>\n",
              "      <td>0</td>\n",
              "      <td>0</td>\n",
              "      <td>0</td>\n",
              "      <td>0</td>\n",
              "      <td>0</td>\n",
              "      <td>0</td>\n",
              "      <td>0</td>\n",
              "      <td>1</td>\n",
              "      <td>0</td>\n",
              "      <td>0</td>\n",
              "      <td>1</td>\n",
              "      <td>0</td>\n",
              "      <td>0</td>\n",
              "      <td>0</td>\n",
              "      <td>0</td>\n",
              "      <td>0</td>\n",
              "      <td>1</td>\n",
              "      <td>0</td>\n",
              "      <td>0</td>\n",
              "      <td>0</td>\n",
              "      <td>1</td>\n",
              "      <td>0</td>\n",
              "      <td>0</td>\n",
              "      <td>0</td>\n",
              "      <td>0</td>\n",
              "      <td>1</td>\n",
              "      <td>0</td>\n",
              "      <td>1</td>\n",
              "      <td>0</td>\n",
              "      <td>0</td>\n",
              "      <td>0</td>\n",
              "      <td>1</td>\n",
              "      <td>0</td>\n",
              "      <td>1</td>\n",
              "      <td>0</td>\n",
              "    </tr>\n",
              "  </tbody>\n",
              "</table>\n",
              "<p>1000 rows × 48 columns</p>\n",
              "</div>\n",
              "      <button class=\"colab-df-convert\" onclick=\"convertToInteractive('df-29c16948-da76-4d7f-80e3-291965b21b13')\"\n",
              "              title=\"Convert this dataframe to an interactive table.\"\n",
              "              style=\"display:none;\">\n",
              "        \n",
              "  <svg xmlns=\"http://www.w3.org/2000/svg\" height=\"24px\"viewBox=\"0 0 24 24\"\n",
              "       width=\"24px\">\n",
              "    <path d=\"M0 0h24v24H0V0z\" fill=\"none\"/>\n",
              "    <path d=\"M18.56 5.44l.94 2.06.94-2.06 2.06-.94-2.06-.94-.94-2.06-.94 2.06-2.06.94zm-11 1L8.5 8.5l.94-2.06 2.06-.94-2.06-.94L8.5 2.5l-.94 2.06-2.06.94zm10 10l.94 2.06.94-2.06 2.06-.94-2.06-.94-.94-2.06-.94 2.06-2.06.94z\"/><path d=\"M17.41 7.96l-1.37-1.37c-.4-.4-.92-.59-1.43-.59-.52 0-1.04.2-1.43.59L10.3 9.45l-7.72 7.72c-.78.78-.78 2.05 0 2.83L4 21.41c.39.39.9.59 1.41.59.51 0 1.02-.2 1.41-.59l7.78-7.78 2.81-2.81c.8-.78.8-2.07 0-2.86zM5.41 20L4 18.59l7.72-7.72 1.47 1.35L5.41 20z\"/>\n",
              "  </svg>\n",
              "      </button>\n",
              "      \n",
              "  <style>\n",
              "    .colab-df-container {\n",
              "      display:flex;\n",
              "      flex-wrap:wrap;\n",
              "      gap: 12px;\n",
              "    }\n",
              "\n",
              "    .colab-df-convert {\n",
              "      background-color: #E8F0FE;\n",
              "      border: none;\n",
              "      border-radius: 50%;\n",
              "      cursor: pointer;\n",
              "      display: none;\n",
              "      fill: #1967D2;\n",
              "      height: 32px;\n",
              "      padding: 0 0 0 0;\n",
              "      width: 32px;\n",
              "    }\n",
              "\n",
              "    .colab-df-convert:hover {\n",
              "      background-color: #E2EBFA;\n",
              "      box-shadow: 0px 1px 2px rgba(60, 64, 67, 0.3), 0px 1px 3px 1px rgba(60, 64, 67, 0.15);\n",
              "      fill: #174EA6;\n",
              "    }\n",
              "\n",
              "    [theme=dark] .colab-df-convert {\n",
              "      background-color: #3B4455;\n",
              "      fill: #D2E3FC;\n",
              "    }\n",
              "\n",
              "    [theme=dark] .colab-df-convert:hover {\n",
              "      background-color: #434B5C;\n",
              "      box-shadow: 0px 1px 3px 1px rgba(0, 0, 0, 0.15);\n",
              "      filter: drop-shadow(0px 1px 2px rgba(0, 0, 0, 0.3));\n",
              "      fill: #FFFFFF;\n",
              "    }\n",
              "  </style>\n",
              "\n",
              "      <script>\n",
              "        const buttonEl =\n",
              "          document.querySelector('#df-29c16948-da76-4d7f-80e3-291965b21b13 button.colab-df-convert');\n",
              "        buttonEl.style.display =\n",
              "          google.colab.kernel.accessAllowed ? 'block' : 'none';\n",
              "\n",
              "        async function convertToInteractive(key) {\n",
              "          const element = document.querySelector('#df-29c16948-da76-4d7f-80e3-291965b21b13');\n",
              "          const dataTable =\n",
              "            await google.colab.kernel.invokeFunction('convertToInteractive',\n",
              "                                                     [key], {});\n",
              "          if (!dataTable) return;\n",
              "\n",
              "          const docLinkHtml = 'Like what you see? Visit the ' +\n",
              "            '<a target=\"_blank\" href=https://colab.research.google.com/notebooks/data_table.ipynb>data table notebook</a>'\n",
              "            + ' to learn more about interactive tables.';\n",
              "          element.innerHTML = '';\n",
              "          dataTable['output_type'] = 'display_data';\n",
              "          await google.colab.output.renderOutput(dataTable, element);\n",
              "          const docLink = document.createElement('div');\n",
              "          docLink.innerHTML = docLinkHtml;\n",
              "          element.appendChild(docLink);\n",
              "        }\n",
              "      </script>\n",
              "    </div>\n",
              "  </div>\n",
              "  "
            ],
            "text/plain": [
              "      Loan Amount  ... Completed Other loan?_Yes\n",
              "0          2116.0  ...                         0\n",
              "1          2438.0  ...                         0\n",
              "2          2144.0  ...                         0\n",
              "3          2073.0  ...                         1\n",
              "4          1276.0  ...                         0\n",
              "...           ...  ...                       ...\n",
              "999        3602.0  ...                         0\n",
              "1000       4473.0  ...                         0\n",
              "1001      12759.0  ...                         0\n",
              "1002       2551.0  ...                         0\n",
              "1003       1587.0  ...                         0\n",
              "\n",
              "[1000 rows x 48 columns]"
            ]
          },
          "metadata": {},
          "execution_count": 37
        }
      ]
    },
    {
      "cell_type": "code",
      "source": [
        "# Checking to see the number of rows that corresponds to \"Other Laons\" values\n",
        "\n",
        "display(df[df[\"Other Loans\"] == 0].value_counts)\n",
        "\n",
        "print(\"~\"*100)\n",
        "\n",
        "display(df[df[\"Other Loans\"] == 1].value_counts)"
      ],
      "metadata": {
        "colab": {
          "base_uri": "https://localhost:8080/",
          "height": 546
        },
        "id": "OP4wiX5BBqYK",
        "outputId": "1b0de11b-2bf5-4fc8-bfa1-4d758833031a"
      },
      "execution_count": 44,
      "outputs": [
        {
          "output_type": "display_data",
          "data": {
            "text/plain": [
              "<bound method DataFrame.value_counts of       Loan Amount  ... Completed Other loan?_Yes\n",
              "0          2116.0  ...                         0\n",
              "1          2438.0  ...                         0\n",
              "2          2144.0  ...                         0\n",
              "3          2073.0  ...                         1\n",
              "4          1276.0  ...                         0\n",
              "...           ...  ...                       ...\n",
              "999        3602.0  ...                         0\n",
              "1000       4473.0  ...                         0\n",
              "1001      12759.0  ...                         0\n",
              "1002       2551.0  ...                         0\n",
              "1003       1587.0  ...                         0\n",
              "\n",
              "[907 rows x 48 columns]>"
            ]
          },
          "metadata": {}
        },
        {
          "output_type": "stream",
          "name": "stdout",
          "text": [
            "~~~~~~~~~~~~~~~~~~~~~~~~~~~~~~~~~~~~~~~~~~~~~~~~~~~~~~~~~~~~~~~~~~~~~~~~~~~~~~~~~~~~~~~~~~~~~~~~~~~~\n"
          ]
        },
        {
          "output_type": "display_data",
          "data": {
            "text/plain": [
              "<bound method DataFrame.value_counts of      Loan Amount  ... Completed Other loan?_Yes\n",
              "10        1421.0  ...                         0\n",
              "54        2351.0  ...                         0\n",
              "87        5968.0  ...                         0\n",
              "88        2790.0  ...                         0\n",
              "94        1867.0  ...                         0\n",
              "..           ...  ...                       ...\n",
              "944       1894.0  ...                         0\n",
              "948       1194.0  ...                         0\n",
              "949       7302.0  ...                         0\n",
              "957        791.0  ...                         0\n",
              "997       7827.0  ...                         0\n",
              "\n",
              "[93 rows x 48 columns]>"
            ]
          },
          "metadata": {}
        }
      ]
    },
    {
      "cell_type": "code",
      "source": [
        "df[df['Good Loan'] == 1]"
      ],
      "metadata": {
        "colab": {
          "base_uri": "https://localhost:8080/",
          "height": 557
        },
        "id": "2sX6CwA6qWf4",
        "outputId": "9e6495a9-be37-40bf-9061-ecf947ef8160"
      },
      "execution_count": 38,
      "outputs": [
        {
          "output_type": "execute_result",
          "data": {
            "text/html": [
              "\n",
              "  <div id=\"df-e51a3c01-81aa-4756-9052-20cd4be89f5e\">\n",
              "    <div class=\"colab-df-container\">\n",
              "      <div>\n",
              "<style scoped>\n",
              "    .dataframe tbody tr th:only-of-type {\n",
              "        vertical-align: middle;\n",
              "    }\n",
              "\n",
              "    .dataframe tbody tr th {\n",
              "        vertical-align: top;\n",
              "    }\n",
              "\n",
              "    .dataframe thead th {\n",
              "        text-align: right;\n",
              "    }\n",
              "</style>\n",
              "<table border=\"1\" class=\"dataframe\">\n",
              "  <thead>\n",
              "    <tr style=\"text-align: right;\">\n",
              "      <th></th>\n",
              "      <th>Loan Amount</th>\n",
              "      <th>Other Loans</th>\n",
              "      <th>Age</th>\n",
              "      <th>Good Loan</th>\n",
              "      <th>Type of Account_No Data</th>\n",
              "      <th>Type of Account_Type A</th>\n",
              "      <th>Type of Account_Type B</th>\n",
              "      <th>Type of Account_Type C</th>\n",
              "      <th>Account History_Average (known delays)</th>\n",
              "      <th>Account History_Good</th>\n",
              "      <th>Account History_critical</th>\n",
              "      <th>Reason for the Loan_Advance Edu/training</th>\n",
              "      <th>Reason for the Loan_All other</th>\n",
              "      <th>Reason for the Loan_Buying a New Car</th>\n",
              "      <th>Reason for the Loan_Buying a Used Car</th>\n",
              "      <th>Reason for the Loan_Home Devices</th>\n",
              "      <th>Reason for the Loan_Home furniture</th>\n",
              "      <th>Reason for the Loan_Learning / Edu purposes</th>\n",
              "      <th>Reason for the Loan_Renovation</th>\n",
              "      <th>Reason for the Loan_Support for Business</th>\n",
              "      <th>Reason for the Loan_TV</th>\n",
              "      <th>Account Savings_0-200</th>\n",
              "      <th>Account Savings_1000+</th>\n",
              "      <th>Account Savings_200-500</th>\n",
              "      <th>Account Savings_500-1000</th>\n",
              "      <th>Account Savings_No Data</th>\n",
              "      <th>Employment History_0-2 Years</th>\n",
              "      <th>Employment History_2-5 Years</th>\n",
              "      <th>Employment History_5-7 Years</th>\n",
              "      <th>Employment History_7+ Years</th>\n",
              "      <th>Employment History_Unemployed</th>\n",
              "      <th>Individual Status_Divorced</th>\n",
              "      <th>Individual Status_Female</th>\n",
              "      <th>Individual Status_Male</th>\n",
              "      <th>Individual Status_Married</th>\n",
              "      <th>Security / Collateral_No Security</th>\n",
              "      <th>Security / Collateral_Property - Real Estate</th>\n",
              "      <th>Security / Collateral_Savings Account</th>\n",
              "      <th>Security / Collateral_Vehicle</th>\n",
              "      <th>Residence Status_Free</th>\n",
              "      <th>Residence Status_House Owner</th>\n",
              "      <th>Residence Status_Renting</th>\n",
              "      <th>Job_Not Employed</th>\n",
              "      <th>Job_Professional / Management</th>\n",
              "      <th>Job_Services</th>\n",
              "      <th>Job_Skilled Labor</th>\n",
              "      <th>Completed Other loan?_No</th>\n",
              "      <th>Completed Other loan?_Yes</th>\n",
              "    </tr>\n",
              "  </thead>\n",
              "  <tbody>\n",
              "    <tr>\n",
              "      <th>15</th>\n",
              "      <td>3579.0</td>\n",
              "      <td>0</td>\n",
              "      <td>45.0</td>\n",
              "      <td>1</td>\n",
              "      <td>1</td>\n",
              "      <td>0</td>\n",
              "      <td>0</td>\n",
              "      <td>0</td>\n",
              "      <td>0</td>\n",
              "      <td>0</td>\n",
              "      <td>1</td>\n",
              "      <td>0</td>\n",
              "      <td>0</td>\n",
              "      <td>0</td>\n",
              "      <td>0</td>\n",
              "      <td>0</td>\n",
              "      <td>0</td>\n",
              "      <td>0</td>\n",
              "      <td>0</td>\n",
              "      <td>0</td>\n",
              "      <td>1</td>\n",
              "      <td>0</td>\n",
              "      <td>0</td>\n",
              "      <td>0</td>\n",
              "      <td>0</td>\n",
              "      <td>1</td>\n",
              "      <td>0</td>\n",
              "      <td>0</td>\n",
              "      <td>0</td>\n",
              "      <td>1</td>\n",
              "      <td>0</td>\n",
              "      <td>0</td>\n",
              "      <td>0</td>\n",
              "      <td>1</td>\n",
              "      <td>0</td>\n",
              "      <td>0</td>\n",
              "      <td>1</td>\n",
              "      <td>0</td>\n",
              "      <td>0</td>\n",
              "      <td>0</td>\n",
              "      <td>1</td>\n",
              "      <td>0</td>\n",
              "      <td>0</td>\n",
              "      <td>0</td>\n",
              "      <td>0</td>\n",
              "      <td>1</td>\n",
              "      <td>1</td>\n",
              "      <td>0</td>\n",
              "    </tr>\n",
              "    <tr>\n",
              "      <th>17</th>\n",
              "      <td>1259.0</td>\n",
              "      <td>0</td>\n",
              "      <td>38.0</td>\n",
              "      <td>1</td>\n",
              "      <td>1</td>\n",
              "      <td>0</td>\n",
              "      <td>0</td>\n",
              "      <td>0</td>\n",
              "      <td>0</td>\n",
              "      <td>0</td>\n",
              "      <td>1</td>\n",
              "      <td>0</td>\n",
              "      <td>0</td>\n",
              "      <td>0</td>\n",
              "      <td>0</td>\n",
              "      <td>0</td>\n",
              "      <td>0</td>\n",
              "      <td>0</td>\n",
              "      <td>0</td>\n",
              "      <td>0</td>\n",
              "      <td>1</td>\n",
              "      <td>0</td>\n",
              "      <td>0</td>\n",
              "      <td>0</td>\n",
              "      <td>0</td>\n",
              "      <td>1</td>\n",
              "      <td>0</td>\n",
              "      <td>0</td>\n",
              "      <td>0</td>\n",
              "      <td>1</td>\n",
              "      <td>0</td>\n",
              "      <td>0</td>\n",
              "      <td>1</td>\n",
              "      <td>0</td>\n",
              "      <td>0</td>\n",
              "      <td>0</td>\n",
              "      <td>1</td>\n",
              "      <td>0</td>\n",
              "      <td>0</td>\n",
              "      <td>0</td>\n",
              "      <td>1</td>\n",
              "      <td>0</td>\n",
              "      <td>0</td>\n",
              "      <td>0</td>\n",
              "      <td>0</td>\n",
              "      <td>1</td>\n",
              "      <td>1</td>\n",
              "      <td>0</td>\n",
              "    </tr>\n",
              "    <tr>\n",
              "      <th>19</th>\n",
              "      <td>699.0</td>\n",
              "      <td>0</td>\n",
              "      <td>50.0</td>\n",
              "      <td>1</td>\n",
              "      <td>1</td>\n",
              "      <td>0</td>\n",
              "      <td>0</td>\n",
              "      <td>0</td>\n",
              "      <td>0</td>\n",
              "      <td>0</td>\n",
              "      <td>1</td>\n",
              "      <td>0</td>\n",
              "      <td>0</td>\n",
              "      <td>1</td>\n",
              "      <td>0</td>\n",
              "      <td>0</td>\n",
              "      <td>0</td>\n",
              "      <td>0</td>\n",
              "      <td>0</td>\n",
              "      <td>0</td>\n",
              "      <td>0</td>\n",
              "      <td>0</td>\n",
              "      <td>0</td>\n",
              "      <td>1</td>\n",
              "      <td>0</td>\n",
              "      <td>0</td>\n",
              "      <td>0</td>\n",
              "      <td>0</td>\n",
              "      <td>1</td>\n",
              "      <td>0</td>\n",
              "      <td>0</td>\n",
              "      <td>0</td>\n",
              "      <td>1</td>\n",
              "      <td>0</td>\n",
              "      <td>0</td>\n",
              "      <td>0</td>\n",
              "      <td>0</td>\n",
              "      <td>0</td>\n",
              "      <td>1</td>\n",
              "      <td>0</td>\n",
              "      <td>1</td>\n",
              "      <td>0</td>\n",
              "      <td>0</td>\n",
              "      <td>0</td>\n",
              "      <td>0</td>\n",
              "      <td>1</td>\n",
              "      <td>1</td>\n",
              "      <td>0</td>\n",
              "    </tr>\n",
              "    <tr>\n",
              "      <th>20</th>\n",
              "      <td>1595.0</td>\n",
              "      <td>0</td>\n",
              "      <td>46.0</td>\n",
              "      <td>1</td>\n",
              "      <td>1</td>\n",
              "      <td>0</td>\n",
              "      <td>0</td>\n",
              "      <td>0</td>\n",
              "      <td>0</td>\n",
              "      <td>0</td>\n",
              "      <td>1</td>\n",
              "      <td>0</td>\n",
              "      <td>0</td>\n",
              "      <td>0</td>\n",
              "      <td>0</td>\n",
              "      <td>0</td>\n",
              "      <td>0</td>\n",
              "      <td>0</td>\n",
              "      <td>0</td>\n",
              "      <td>0</td>\n",
              "      <td>1</td>\n",
              "      <td>0</td>\n",
              "      <td>1</td>\n",
              "      <td>0</td>\n",
              "      <td>0</td>\n",
              "      <td>0</td>\n",
              "      <td>0</td>\n",
              "      <td>0</td>\n",
              "      <td>0</td>\n",
              "      <td>1</td>\n",
              "      <td>0</td>\n",
              "      <td>0</td>\n",
              "      <td>0</td>\n",
              "      <td>1</td>\n",
              "      <td>0</td>\n",
              "      <td>0</td>\n",
              "      <td>0</td>\n",
              "      <td>0</td>\n",
              "      <td>1</td>\n",
              "      <td>0</td>\n",
              "      <td>1</td>\n",
              "      <td>0</td>\n",
              "      <td>0</td>\n",
              "      <td>0</td>\n",
              "      <td>0</td>\n",
              "      <td>1</td>\n",
              "      <td>1</td>\n",
              "      <td>0</td>\n",
              "    </tr>\n",
              "    <tr>\n",
              "      <th>21</th>\n",
              "      <td>1917.0</td>\n",
              "      <td>0</td>\n",
              "      <td>34.0</td>\n",
              "      <td>1</td>\n",
              "      <td>1</td>\n",
              "      <td>0</td>\n",
              "      <td>0</td>\n",
              "      <td>0</td>\n",
              "      <td>0</td>\n",
              "      <td>0</td>\n",
              "      <td>1</td>\n",
              "      <td>0</td>\n",
              "      <td>0</td>\n",
              "      <td>0</td>\n",
              "      <td>0</td>\n",
              "      <td>0</td>\n",
              "      <td>0</td>\n",
              "      <td>0</td>\n",
              "      <td>0</td>\n",
              "      <td>0</td>\n",
              "      <td>1</td>\n",
              "      <td>0</td>\n",
              "      <td>0</td>\n",
              "      <td>0</td>\n",
              "      <td>0</td>\n",
              "      <td>1</td>\n",
              "      <td>0</td>\n",
              "      <td>1</td>\n",
              "      <td>0</td>\n",
              "      <td>0</td>\n",
              "      <td>0</td>\n",
              "      <td>0</td>\n",
              "      <td>0</td>\n",
              "      <td>1</td>\n",
              "      <td>0</td>\n",
              "      <td>0</td>\n",
              "      <td>1</td>\n",
              "      <td>0</td>\n",
              "      <td>0</td>\n",
              "      <td>0</td>\n",
              "      <td>1</td>\n",
              "      <td>0</td>\n",
              "      <td>0</td>\n",
              "      <td>0</td>\n",
              "      <td>1</td>\n",
              "      <td>0</td>\n",
              "      <td>1</td>\n",
              "      <td>0</td>\n",
              "    </tr>\n",
              "    <tr>\n",
              "      <th>...</th>\n",
              "      <td>...</td>\n",
              "      <td>...</td>\n",
              "      <td>...</td>\n",
              "      <td>...</td>\n",
              "      <td>...</td>\n",
              "      <td>...</td>\n",
              "      <td>...</td>\n",
              "      <td>...</td>\n",
              "      <td>...</td>\n",
              "      <td>...</td>\n",
              "      <td>...</td>\n",
              "      <td>...</td>\n",
              "      <td>...</td>\n",
              "      <td>...</td>\n",
              "      <td>...</td>\n",
              "      <td>...</td>\n",
              "      <td>...</td>\n",
              "      <td>...</td>\n",
              "      <td>...</td>\n",
              "      <td>...</td>\n",
              "      <td>...</td>\n",
              "      <td>...</td>\n",
              "      <td>...</td>\n",
              "      <td>...</td>\n",
              "      <td>...</td>\n",
              "      <td>...</td>\n",
              "      <td>...</td>\n",
              "      <td>...</td>\n",
              "      <td>...</td>\n",
              "      <td>...</td>\n",
              "      <td>...</td>\n",
              "      <td>...</td>\n",
              "      <td>...</td>\n",
              "      <td>...</td>\n",
              "      <td>...</td>\n",
              "      <td>...</td>\n",
              "      <td>...</td>\n",
              "      <td>...</td>\n",
              "      <td>...</td>\n",
              "      <td>...</td>\n",
              "      <td>...</td>\n",
              "      <td>...</td>\n",
              "      <td>...</td>\n",
              "      <td>...</td>\n",
              "      <td>...</td>\n",
              "      <td>...</td>\n",
              "      <td>...</td>\n",
              "      <td>...</td>\n",
              "    </tr>\n",
              "    <tr>\n",
              "      <th>996</th>\n",
              "      <td>7686.0</td>\n",
              "      <td>0</td>\n",
              "      <td>42.0</td>\n",
              "      <td>1</td>\n",
              "      <td>0</td>\n",
              "      <td>0</td>\n",
              "      <td>0</td>\n",
              "      <td>1</td>\n",
              "      <td>1</td>\n",
              "      <td>0</td>\n",
              "      <td>0</td>\n",
              "      <td>0</td>\n",
              "      <td>0</td>\n",
              "      <td>0</td>\n",
              "      <td>0</td>\n",
              "      <td>0</td>\n",
              "      <td>1</td>\n",
              "      <td>0</td>\n",
              "      <td>0</td>\n",
              "      <td>0</td>\n",
              "      <td>0</td>\n",
              "      <td>0</td>\n",
              "      <td>0</td>\n",
              "      <td>0</td>\n",
              "      <td>1</td>\n",
              "      <td>0</td>\n",
              "      <td>0</td>\n",
              "      <td>0</td>\n",
              "      <td>1</td>\n",
              "      <td>0</td>\n",
              "      <td>0</td>\n",
              "      <td>0</td>\n",
              "      <td>1</td>\n",
              "      <td>0</td>\n",
              "      <td>0</td>\n",
              "      <td>0</td>\n",
              "      <td>0</td>\n",
              "      <td>0</td>\n",
              "      <td>1</td>\n",
              "      <td>0</td>\n",
              "      <td>1</td>\n",
              "      <td>0</td>\n",
              "      <td>0</td>\n",
              "      <td>0</td>\n",
              "      <td>0</td>\n",
              "      <td>1</td>\n",
              "      <td>1</td>\n",
              "      <td>0</td>\n",
              "    </tr>\n",
              "    <tr>\n",
              "      <th>997</th>\n",
              "      <td>7827.0</td>\n",
              "      <td>1</td>\n",
              "      <td>41.0</td>\n",
              "      <td>1</td>\n",
              "      <td>0</td>\n",
              "      <td>0</td>\n",
              "      <td>0</td>\n",
              "      <td>1</td>\n",
              "      <td>1</td>\n",
              "      <td>0</td>\n",
              "      <td>0</td>\n",
              "      <td>0</td>\n",
              "      <td>0</td>\n",
              "      <td>0</td>\n",
              "      <td>1</td>\n",
              "      <td>0</td>\n",
              "      <td>0</td>\n",
              "      <td>0</td>\n",
              "      <td>0</td>\n",
              "      <td>0</td>\n",
              "      <td>0</td>\n",
              "      <td>0</td>\n",
              "      <td>0</td>\n",
              "      <td>0</td>\n",
              "      <td>0</td>\n",
              "      <td>1</td>\n",
              "      <td>1</td>\n",
              "      <td>0</td>\n",
              "      <td>0</td>\n",
              "      <td>0</td>\n",
              "      <td>0</td>\n",
              "      <td>0</td>\n",
              "      <td>0</td>\n",
              "      <td>1</td>\n",
              "      <td>0</td>\n",
              "      <td>0</td>\n",
              "      <td>1</td>\n",
              "      <td>0</td>\n",
              "      <td>0</td>\n",
              "      <td>0</td>\n",
              "      <td>0</td>\n",
              "      <td>1</td>\n",
              "      <td>0</td>\n",
              "      <td>0</td>\n",
              "      <td>0</td>\n",
              "      <td>1</td>\n",
              "      <td>1</td>\n",
              "      <td>0</td>\n",
              "    </tr>\n",
              "    <tr>\n",
              "      <th>998</th>\n",
              "      <td>8950.0</td>\n",
              "      <td>0</td>\n",
              "      <td>32.0</td>\n",
              "      <td>1</td>\n",
              "      <td>0</td>\n",
              "      <td>0</td>\n",
              "      <td>0</td>\n",
              "      <td>1</td>\n",
              "      <td>1</td>\n",
              "      <td>0</td>\n",
              "      <td>0</td>\n",
              "      <td>0</td>\n",
              "      <td>0</td>\n",
              "      <td>0</td>\n",
              "      <td>1</td>\n",
              "      <td>0</td>\n",
              "      <td>0</td>\n",
              "      <td>0</td>\n",
              "      <td>0</td>\n",
              "      <td>0</td>\n",
              "      <td>0</td>\n",
              "      <td>0</td>\n",
              "      <td>0</td>\n",
              "      <td>0</td>\n",
              "      <td>0</td>\n",
              "      <td>1</td>\n",
              "      <td>0</td>\n",
              "      <td>0</td>\n",
              "      <td>1</td>\n",
              "      <td>0</td>\n",
              "      <td>0</td>\n",
              "      <td>0</td>\n",
              "      <td>0</td>\n",
              "      <td>1</td>\n",
              "      <td>0</td>\n",
              "      <td>0</td>\n",
              "      <td>0</td>\n",
              "      <td>0</td>\n",
              "      <td>1</td>\n",
              "      <td>0</td>\n",
              "      <td>1</td>\n",
              "      <td>0</td>\n",
              "      <td>0</td>\n",
              "      <td>1</td>\n",
              "      <td>0</td>\n",
              "      <td>0</td>\n",
              "      <td>1</td>\n",
              "      <td>0</td>\n",
              "    </tr>\n",
              "    <tr>\n",
              "      <th>1001</th>\n",
              "      <td>12759.0</td>\n",
              "      <td>0</td>\n",
              "      <td>38.0</td>\n",
              "      <td>1</td>\n",
              "      <td>0</td>\n",
              "      <td>0</td>\n",
              "      <td>0</td>\n",
              "      <td>1</td>\n",
              "      <td>1</td>\n",
              "      <td>0</td>\n",
              "      <td>0</td>\n",
              "      <td>0</td>\n",
              "      <td>0</td>\n",
              "      <td>0</td>\n",
              "      <td>0</td>\n",
              "      <td>0</td>\n",
              "      <td>0</td>\n",
              "      <td>0</td>\n",
              "      <td>0</td>\n",
              "      <td>0</td>\n",
              "      <td>1</td>\n",
              "      <td>0</td>\n",
              "      <td>0</td>\n",
              "      <td>0</td>\n",
              "      <td>1</td>\n",
              "      <td>0</td>\n",
              "      <td>0</td>\n",
              "      <td>0</td>\n",
              "      <td>1</td>\n",
              "      <td>0</td>\n",
              "      <td>0</td>\n",
              "      <td>0</td>\n",
              "      <td>0</td>\n",
              "      <td>1</td>\n",
              "      <td>0</td>\n",
              "      <td>0</td>\n",
              "      <td>0</td>\n",
              "      <td>0</td>\n",
              "      <td>1</td>\n",
              "      <td>0</td>\n",
              "      <td>1</td>\n",
              "      <td>0</td>\n",
              "      <td>0</td>\n",
              "      <td>1</td>\n",
              "      <td>0</td>\n",
              "      <td>0</td>\n",
              "      <td>1</td>\n",
              "      <td>0</td>\n",
              "    </tr>\n",
              "    <tr>\n",
              "      <th>1003</th>\n",
              "      <td>1587.0</td>\n",
              "      <td>0</td>\n",
              "      <td>35.0</td>\n",
              "      <td>1</td>\n",
              "      <td>0</td>\n",
              "      <td>0</td>\n",
              "      <td>0</td>\n",
              "      <td>1</td>\n",
              "      <td>1</td>\n",
              "      <td>0</td>\n",
              "      <td>0</td>\n",
              "      <td>0</td>\n",
              "      <td>0</td>\n",
              "      <td>0</td>\n",
              "      <td>0</td>\n",
              "      <td>0</td>\n",
              "      <td>0</td>\n",
              "      <td>0</td>\n",
              "      <td>0</td>\n",
              "      <td>0</td>\n",
              "      <td>1</td>\n",
              "      <td>0</td>\n",
              "      <td>0</td>\n",
              "      <td>1</td>\n",
              "      <td>0</td>\n",
              "      <td>0</td>\n",
              "      <td>0</td>\n",
              "      <td>0</td>\n",
              "      <td>0</td>\n",
              "      <td>1</td>\n",
              "      <td>0</td>\n",
              "      <td>0</td>\n",
              "      <td>0</td>\n",
              "      <td>1</td>\n",
              "      <td>0</td>\n",
              "      <td>0</td>\n",
              "      <td>0</td>\n",
              "      <td>0</td>\n",
              "      <td>1</td>\n",
              "      <td>0</td>\n",
              "      <td>1</td>\n",
              "      <td>0</td>\n",
              "      <td>0</td>\n",
              "      <td>0</td>\n",
              "      <td>1</td>\n",
              "      <td>0</td>\n",
              "      <td>1</td>\n",
              "      <td>0</td>\n",
              "    </tr>\n",
              "  </tbody>\n",
              "</table>\n",
              "<p>464 rows × 48 columns</p>\n",
              "</div>\n",
              "      <button class=\"colab-df-convert\" onclick=\"convertToInteractive('df-e51a3c01-81aa-4756-9052-20cd4be89f5e')\"\n",
              "              title=\"Convert this dataframe to an interactive table.\"\n",
              "              style=\"display:none;\">\n",
              "        \n",
              "  <svg xmlns=\"http://www.w3.org/2000/svg\" height=\"24px\"viewBox=\"0 0 24 24\"\n",
              "       width=\"24px\">\n",
              "    <path d=\"M0 0h24v24H0V0z\" fill=\"none\"/>\n",
              "    <path d=\"M18.56 5.44l.94 2.06.94-2.06 2.06-.94-2.06-.94-.94-2.06-.94 2.06-2.06.94zm-11 1L8.5 8.5l.94-2.06 2.06-.94-2.06-.94L8.5 2.5l-.94 2.06-2.06.94zm10 10l.94 2.06.94-2.06 2.06-.94-2.06-.94-.94-2.06-.94 2.06-2.06.94z\"/><path d=\"M17.41 7.96l-1.37-1.37c-.4-.4-.92-.59-1.43-.59-.52 0-1.04.2-1.43.59L10.3 9.45l-7.72 7.72c-.78.78-.78 2.05 0 2.83L4 21.41c.39.39.9.59 1.41.59.51 0 1.02-.2 1.41-.59l7.78-7.78 2.81-2.81c.8-.78.8-2.07 0-2.86zM5.41 20L4 18.59l7.72-7.72 1.47 1.35L5.41 20z\"/>\n",
              "  </svg>\n",
              "      </button>\n",
              "      \n",
              "  <style>\n",
              "    .colab-df-container {\n",
              "      display:flex;\n",
              "      flex-wrap:wrap;\n",
              "      gap: 12px;\n",
              "    }\n",
              "\n",
              "    .colab-df-convert {\n",
              "      background-color: #E8F0FE;\n",
              "      border: none;\n",
              "      border-radius: 50%;\n",
              "      cursor: pointer;\n",
              "      display: none;\n",
              "      fill: #1967D2;\n",
              "      height: 32px;\n",
              "      padding: 0 0 0 0;\n",
              "      width: 32px;\n",
              "    }\n",
              "\n",
              "    .colab-df-convert:hover {\n",
              "      background-color: #E2EBFA;\n",
              "      box-shadow: 0px 1px 2px rgba(60, 64, 67, 0.3), 0px 1px 3px 1px rgba(60, 64, 67, 0.15);\n",
              "      fill: #174EA6;\n",
              "    }\n",
              "\n",
              "    [theme=dark] .colab-df-convert {\n",
              "      background-color: #3B4455;\n",
              "      fill: #D2E3FC;\n",
              "    }\n",
              "\n",
              "    [theme=dark] .colab-df-convert:hover {\n",
              "      background-color: #434B5C;\n",
              "      box-shadow: 0px 1px 3px 1px rgba(0, 0, 0, 0.15);\n",
              "      filter: drop-shadow(0px 1px 2px rgba(0, 0, 0, 0.3));\n",
              "      fill: #FFFFFF;\n",
              "    }\n",
              "  </style>\n",
              "\n",
              "      <script>\n",
              "        const buttonEl =\n",
              "          document.querySelector('#df-e51a3c01-81aa-4756-9052-20cd4be89f5e button.colab-df-convert');\n",
              "        buttonEl.style.display =\n",
              "          google.colab.kernel.accessAllowed ? 'block' : 'none';\n",
              "\n",
              "        async function convertToInteractive(key) {\n",
              "          const element = document.querySelector('#df-e51a3c01-81aa-4756-9052-20cd4be89f5e');\n",
              "          const dataTable =\n",
              "            await google.colab.kernel.invokeFunction('convertToInteractive',\n",
              "                                                     [key], {});\n",
              "          if (!dataTable) return;\n",
              "\n",
              "          const docLinkHtml = 'Like what you see? Visit the ' +\n",
              "            '<a target=\"_blank\" href=https://colab.research.google.com/notebooks/data_table.ipynb>data table notebook</a>'\n",
              "            + ' to learn more about interactive tables.';\n",
              "          element.innerHTML = '';\n",
              "          dataTable['output_type'] = 'display_data';\n",
              "          await google.colab.output.renderOutput(dataTable, element);\n",
              "          const docLink = document.createElement('div');\n",
              "          docLink.innerHTML = docLinkHtml;\n",
              "          element.appendChild(docLink);\n",
              "        }\n",
              "      </script>\n",
              "    </div>\n",
              "  </div>\n",
              "  "
            ],
            "text/plain": [
              "      Loan Amount  ... Completed Other loan?_Yes\n",
              "15         3579.0  ...                         0\n",
              "17         1259.0  ...                         0\n",
              "19          699.0  ...                         0\n",
              "20         1595.0  ...                         0\n",
              "21         1917.0  ...                         0\n",
              "...           ...  ...                       ...\n",
              "996        7686.0  ...                         0\n",
              "997        7827.0  ...                         0\n",
              "998        8950.0  ...                         0\n",
              "1001      12759.0  ...                         0\n",
              "1003       1587.0  ...                         0\n",
              "\n",
              "[464 rows x 48 columns]"
            ]
          },
          "metadata": {},
          "execution_count": 38
        }
      ]
    },
    {
      "cell_type": "code",
      "source": [
        "df['Good Loan'][df['Good Loan'] == 1]"
      ],
      "metadata": {
        "colab": {
          "base_uri": "https://localhost:8080/"
        },
        "id": "rcdQiAd9ZbXq",
        "outputId": "e51e4295-e33b-4660-da1b-d023cedd313f"
      },
      "execution_count": 45,
      "outputs": [
        {
          "output_type": "execute_result",
          "data": {
            "text/plain": [
              "15      1\n",
              "17      1\n",
              "19      1\n",
              "20      1\n",
              "21      1\n",
              "       ..\n",
              "996     1\n",
              "997     1\n",
              "998     1\n",
              "1001    1\n",
              "1003    1\n",
              "Name: Good Loan, Length: 464, dtype: object"
            ]
          },
          "metadata": {},
          "execution_count": 45
        }
      ]
    },
    {
      "cell_type": "markdown",
      "source": [
        "#### **Step 4 : Features Selection** "
      ],
      "metadata": {
        "id": "sCk16Sjv-0-9"
      }
    },
    {
      "cell_type": "markdown",
      "source": [
        "Step of Running feature selection:\n",
        "- Split the Data into X & y.\n",
        "- Run a Tree-based estimator (i.g Decision Tree, Random Forest).\n",
        "- Run feature importance."
      ],
      "metadata": {
        "id": "1DxAOnG6_F49"
      }
    },
    {
      "cell_type": "code",
      "source": [
        "# Split the data into X & y\n",
        "\n",
        "colummns_to_drop = ['Good Loan', 'Age', 'Loan Amount', \"Other Loans\"]\n",
        "\n",
        "X = df.drop(colummns_to_drop, axis = 1).values\n",
        "y = df['Good Loan']\n",
        "\n",
        "y = y.astype(int)\n",
        "\n",
        "print(X.shape)\n",
        "print(y.shape)"
      ],
      "metadata": {
        "id": "R5HqBZyYqWje",
        "colab": {
          "base_uri": "https://localhost:8080/"
        },
        "outputId": "3ccc2555-4c69-4491-b64c-588b32f127fe"
      },
      "execution_count": 46,
      "outputs": [
        {
          "output_type": "stream",
          "name": "stdout",
          "text": [
            "(1000, 44)\n",
            "(1000,)\n"
          ]
        }
      ]
    },
    {
      "cell_type": "markdown",
      "source": [
        "Running Decision Tree Classifier "
      ],
      "metadata": {
        "id": "8Wq_Bm_pYVfe"
      }
    },
    {
      "cell_type": "code",
      "source": [
        "# Creating the Based Tree Model (In our case we choose the Decision Tree Model)\n",
        "decision_tree = DecisionTreeClassifier(random_state=15, criterion = 'entropy', max_depth = 10)"
      ],
      "metadata": {
        "id": "zyKtq25p-z9P"
      },
      "execution_count": 47,
      "outputs": []
    },
    {
      "cell_type": "code",
      "source": [
        "decision_tree.fit(X, y)"
      ],
      "metadata": {
        "id": "v8xx0_qi-0Ad",
        "colab": {
          "base_uri": "https://localhost:8080/"
        },
        "outputId": "c6bcccb1-7af2-4605-bb67-c572245b89a8"
      },
      "execution_count": 48,
      "outputs": [
        {
          "output_type": "execute_result",
          "data": {
            "text/plain": [
              "DecisionTreeClassifier(criterion='entropy', max_depth=10, random_state=15)"
            ]
          },
          "metadata": {},
          "execution_count": 48
        }
      ]
    },
    {
      "cell_type": "code",
      "source": [
        "fi_col = []\n",
        "fi = []\n",
        "\n",
        "# Looking for features importance\n",
        "for i, column in enumerate(df.drop(colummns_to_drop, axis = 1)):\n",
        "  print(\"The Feature Imortance of the '{}' ---:--- {}\".format(column, decision_tree.feature_importances_[i]))\n",
        "\n",
        "  fi_col.append(column)\n",
        "  fi.append(decision_tree.feature_importances_[i])"
      ],
      "metadata": {
        "id": "kSR-tddb-0DX",
        "colab": {
          "base_uri": "https://localhost:8080/"
        },
        "outputId": "e2ab2ee4-f0fb-4281-93b9-bec51e0eab0b"
      },
      "execution_count": 50,
      "outputs": [
        {
          "output_type": "stream",
          "name": "stdout",
          "text": [
            "The Feature Imortance of the 'Type of Account_No Data' ---:--- 0.05575424226747407\n",
            "The Feature Imortance of the 'Type of Account_Type A' ---:--- 0.057752422842833856\n",
            "The Feature Imortance of the 'Type of Account_Type B' ---:--- 0.0028666449108544515\n",
            "The Feature Imortance of the 'Type of Account_Type C' ---:--- 0.01903926385386251\n",
            "The Feature Imortance of the 'Account History_Average (known delays)' ---:--- 0.002695312207388197\n",
            "The Feature Imortance of the 'Account History_Good' ---:--- 0.19667072582184286\n",
            "The Feature Imortance of the 'Account History_critical' ---:--- 0.0\n",
            "The Feature Imortance of the 'Reason for the Loan_Advance Edu/training' ---:--- 0.0\n",
            "The Feature Imortance of the 'Reason for the Loan_All other' ---:--- 0.003708833866517835\n",
            "The Feature Imortance of the 'Reason for the Loan_Buying a New Car' ---:--- 0.02515766654444707\n",
            "The Feature Imortance of the 'Reason for the Loan_Buying a Used Car' ---:--- 0.010661657256378356\n",
            "The Feature Imortance of the 'Reason for the Loan_Home Devices' ---:--- 0.0015341080393208473\n",
            "The Feature Imortance of the 'Reason for the Loan_Home furniture' ---:--- 0.011448180789397059\n",
            "The Feature Imortance of the 'Reason for the Loan_Learning / Edu purposes' ---:--- 0.012566118743713776\n",
            "The Feature Imortance of the 'Reason for the Loan_Renovation' ---:--- 0.003571006400468346\n",
            "The Feature Imortance of the 'Reason for the Loan_Support for Business' ---:--- 0.018926880100481113\n",
            "The Feature Imortance of the 'Reason for the Loan_TV' ---:--- 0.004703289025811612\n",
            "The Feature Imortance of the 'Account Savings_0-200' ---:--- 0.20984077486371114\n",
            "The Feature Imortance of the 'Account Savings_1000+' ---:--- 0.012009339695399015\n",
            "The Feature Imortance of the 'Account Savings_200-500' ---:--- 0.016683696757954353\n",
            "The Feature Imortance of the 'Account Savings_500-1000' ---:--- 0.006246558782603675\n",
            "The Feature Imortance of the 'Account Savings_No Data' ---:--- 0.03356189394411057\n",
            "The Feature Imortance of the 'Employment History_0-2 Years' ---:--- 0.017517910973804517\n",
            "The Feature Imortance of the 'Employment History_2-5 Years' ---:--- 0.019203320162719358\n",
            "The Feature Imortance of the 'Employment History_5-7 Years' ---:--- 0.017566477644640484\n",
            "The Feature Imortance of the 'Employment History_7+ Years' ---:--- 0.02694972140914089\n",
            "The Feature Imortance of the 'Employment History_Unemployed' ---:--- 0.015139475484199527\n",
            "The Feature Imortance of the 'Individual Status_Divorced' ---:--- 0.002391331542076756\n",
            "The Feature Imortance of the 'Individual Status_Female' ---:--- 0.01785107831595606\n",
            "The Feature Imortance of the 'Individual Status_Male' ---:--- 0.017249922040321865\n",
            "The Feature Imortance of the 'Individual Status_Married' ---:--- 0.004422948442206609\n",
            "The Feature Imortance of the 'Security / Collateral_No Security' ---:--- 0.012603839717203117\n",
            "The Feature Imortance of the 'Security / Collateral_Property - Real Estate' ---:--- 0.026602956512795616\n",
            "The Feature Imortance of the 'Security / Collateral_Savings Account' ---:--- 0.02257199501603454\n",
            "The Feature Imortance of the 'Security / Collateral_Vehicle' ---:--- 0.01817574826020658\n",
            "The Feature Imortance of the 'Residence Status_Free' ---:--- 0.0022465372689573744\n",
            "The Feature Imortance of the 'Residence Status_House Owner' ---:--- 0.020681403140874768\n",
            "The Feature Imortance of the 'Residence Status_Renting' ---:--- 0.008220520932506444\n",
            "The Feature Imortance of the 'Job_Not Employed' ---:--- 0.0\n",
            "The Feature Imortance of the 'Job_Professional / Management' ---:--- 0.01332049633691355\n",
            "The Feature Imortance of the 'Job_Services' ---:--- 0.015964223659116077\n",
            "The Feature Imortance of the 'Job_Skilled Labor' ---:--- 0.006990735366318058\n",
            "The Feature Imortance of the 'Completed Other loan?_No' ---:--- 0.0036747009550024646\n",
            "The Feature Imortance of the 'Completed Other loan?_Yes' ---:--- 0.005256040104434539\n"
          ]
        }
      ]
    },
    {
      "cell_type": "markdown",
      "source": [
        "For more visuality we will create a DataFrame, and we will put the the Feature importance on it."
      ],
      "metadata": {
        "id": "3yvtGAp3mHtP"
      }
    },
    {
      "cell_type": "code",
      "source": [
        "# Create a DatFrame\n",
        "fi_df = zip(fi_col, fi)\n",
        "\n",
        "# Creating a Pandas DataFrame\n",
        "fi_df = pd.DataFrame(fi_df, columns = ['Feature','Feature Importance'])\n",
        "fi_df"
      ],
      "metadata": {
        "id": "9PKhxhDn-0Ga",
        "colab": {
          "base_uri": "https://localhost:8080/",
          "height": 1000
        },
        "outputId": "e1f63e2b-5646-49b6-fd9a-1aa50b4f0c2c"
      },
      "execution_count": 51,
      "outputs": [
        {
          "output_type": "execute_result",
          "data": {
            "text/html": [
              "\n",
              "  <div id=\"df-6ec089c6-1869-4478-a262-58b0d5274fa6\">\n",
              "    <div class=\"colab-df-container\">\n",
              "      <div>\n",
              "<style scoped>\n",
              "    .dataframe tbody tr th:only-of-type {\n",
              "        vertical-align: middle;\n",
              "    }\n",
              "\n",
              "    .dataframe tbody tr th {\n",
              "        vertical-align: top;\n",
              "    }\n",
              "\n",
              "    .dataframe thead th {\n",
              "        text-align: right;\n",
              "    }\n",
              "</style>\n",
              "<table border=\"1\" class=\"dataframe\">\n",
              "  <thead>\n",
              "    <tr style=\"text-align: right;\">\n",
              "      <th></th>\n",
              "      <th>Feature</th>\n",
              "      <th>Feature Importance</th>\n",
              "    </tr>\n",
              "  </thead>\n",
              "  <tbody>\n",
              "    <tr>\n",
              "      <th>0</th>\n",
              "      <td>Type of Account_No Data</td>\n",
              "      <td>0.055754</td>\n",
              "    </tr>\n",
              "    <tr>\n",
              "      <th>1</th>\n",
              "      <td>Type of Account_Type A</td>\n",
              "      <td>0.057752</td>\n",
              "    </tr>\n",
              "    <tr>\n",
              "      <th>2</th>\n",
              "      <td>Type of Account_Type B</td>\n",
              "      <td>0.002867</td>\n",
              "    </tr>\n",
              "    <tr>\n",
              "      <th>3</th>\n",
              "      <td>Type of Account_Type C</td>\n",
              "      <td>0.019039</td>\n",
              "    </tr>\n",
              "    <tr>\n",
              "      <th>4</th>\n",
              "      <td>Account History_Average (known delays)</td>\n",
              "      <td>0.002695</td>\n",
              "    </tr>\n",
              "    <tr>\n",
              "      <th>5</th>\n",
              "      <td>Account History_Good</td>\n",
              "      <td>0.196671</td>\n",
              "    </tr>\n",
              "    <tr>\n",
              "      <th>6</th>\n",
              "      <td>Account History_critical</td>\n",
              "      <td>0.000000</td>\n",
              "    </tr>\n",
              "    <tr>\n",
              "      <th>7</th>\n",
              "      <td>Reason for the Loan_Advance Edu/training</td>\n",
              "      <td>0.000000</td>\n",
              "    </tr>\n",
              "    <tr>\n",
              "      <th>8</th>\n",
              "      <td>Reason for the Loan_All other</td>\n",
              "      <td>0.003709</td>\n",
              "    </tr>\n",
              "    <tr>\n",
              "      <th>9</th>\n",
              "      <td>Reason for the Loan_Buying a New Car</td>\n",
              "      <td>0.025158</td>\n",
              "    </tr>\n",
              "    <tr>\n",
              "      <th>10</th>\n",
              "      <td>Reason for the Loan_Buying a Used Car</td>\n",
              "      <td>0.010662</td>\n",
              "    </tr>\n",
              "    <tr>\n",
              "      <th>11</th>\n",
              "      <td>Reason for the Loan_Home Devices</td>\n",
              "      <td>0.001534</td>\n",
              "    </tr>\n",
              "    <tr>\n",
              "      <th>12</th>\n",
              "      <td>Reason for the Loan_Home furniture</td>\n",
              "      <td>0.011448</td>\n",
              "    </tr>\n",
              "    <tr>\n",
              "      <th>13</th>\n",
              "      <td>Reason for the Loan_Learning / Edu purposes</td>\n",
              "      <td>0.012566</td>\n",
              "    </tr>\n",
              "    <tr>\n",
              "      <th>14</th>\n",
              "      <td>Reason for the Loan_Renovation</td>\n",
              "      <td>0.003571</td>\n",
              "    </tr>\n",
              "    <tr>\n",
              "      <th>15</th>\n",
              "      <td>Reason for the Loan_Support for Business</td>\n",
              "      <td>0.018927</td>\n",
              "    </tr>\n",
              "    <tr>\n",
              "      <th>16</th>\n",
              "      <td>Reason for the Loan_TV</td>\n",
              "      <td>0.004703</td>\n",
              "    </tr>\n",
              "    <tr>\n",
              "      <th>17</th>\n",
              "      <td>Account Savings_0-200</td>\n",
              "      <td>0.209841</td>\n",
              "    </tr>\n",
              "    <tr>\n",
              "      <th>18</th>\n",
              "      <td>Account Savings_1000+</td>\n",
              "      <td>0.012009</td>\n",
              "    </tr>\n",
              "    <tr>\n",
              "      <th>19</th>\n",
              "      <td>Account Savings_200-500</td>\n",
              "      <td>0.016684</td>\n",
              "    </tr>\n",
              "    <tr>\n",
              "      <th>20</th>\n",
              "      <td>Account Savings_500-1000</td>\n",
              "      <td>0.006247</td>\n",
              "    </tr>\n",
              "    <tr>\n",
              "      <th>21</th>\n",
              "      <td>Account Savings_No Data</td>\n",
              "      <td>0.033562</td>\n",
              "    </tr>\n",
              "    <tr>\n",
              "      <th>22</th>\n",
              "      <td>Employment History_0-2 Years</td>\n",
              "      <td>0.017518</td>\n",
              "    </tr>\n",
              "    <tr>\n",
              "      <th>23</th>\n",
              "      <td>Employment History_2-5 Years</td>\n",
              "      <td>0.019203</td>\n",
              "    </tr>\n",
              "    <tr>\n",
              "      <th>24</th>\n",
              "      <td>Employment History_5-7 Years</td>\n",
              "      <td>0.017566</td>\n",
              "    </tr>\n",
              "    <tr>\n",
              "      <th>25</th>\n",
              "      <td>Employment History_7+ Years</td>\n",
              "      <td>0.026950</td>\n",
              "    </tr>\n",
              "    <tr>\n",
              "      <th>26</th>\n",
              "      <td>Employment History_Unemployed</td>\n",
              "      <td>0.015139</td>\n",
              "    </tr>\n",
              "    <tr>\n",
              "      <th>27</th>\n",
              "      <td>Individual Status_Divorced</td>\n",
              "      <td>0.002391</td>\n",
              "    </tr>\n",
              "    <tr>\n",
              "      <th>28</th>\n",
              "      <td>Individual Status_Female</td>\n",
              "      <td>0.017851</td>\n",
              "    </tr>\n",
              "    <tr>\n",
              "      <th>29</th>\n",
              "      <td>Individual Status_Male</td>\n",
              "      <td>0.017250</td>\n",
              "    </tr>\n",
              "    <tr>\n",
              "      <th>30</th>\n",
              "      <td>Individual Status_Married</td>\n",
              "      <td>0.004423</td>\n",
              "    </tr>\n",
              "    <tr>\n",
              "      <th>31</th>\n",
              "      <td>Security / Collateral_No Security</td>\n",
              "      <td>0.012604</td>\n",
              "    </tr>\n",
              "    <tr>\n",
              "      <th>32</th>\n",
              "      <td>Security / Collateral_Property - Real Estate</td>\n",
              "      <td>0.026603</td>\n",
              "    </tr>\n",
              "    <tr>\n",
              "      <th>33</th>\n",
              "      <td>Security / Collateral_Savings Account</td>\n",
              "      <td>0.022572</td>\n",
              "    </tr>\n",
              "    <tr>\n",
              "      <th>34</th>\n",
              "      <td>Security / Collateral_Vehicle</td>\n",
              "      <td>0.018176</td>\n",
              "    </tr>\n",
              "    <tr>\n",
              "      <th>35</th>\n",
              "      <td>Residence Status_Free</td>\n",
              "      <td>0.002247</td>\n",
              "    </tr>\n",
              "    <tr>\n",
              "      <th>36</th>\n",
              "      <td>Residence Status_House Owner</td>\n",
              "      <td>0.020681</td>\n",
              "    </tr>\n",
              "    <tr>\n",
              "      <th>37</th>\n",
              "      <td>Residence Status_Renting</td>\n",
              "      <td>0.008221</td>\n",
              "    </tr>\n",
              "    <tr>\n",
              "      <th>38</th>\n",
              "      <td>Job_Not Employed</td>\n",
              "      <td>0.000000</td>\n",
              "    </tr>\n",
              "    <tr>\n",
              "      <th>39</th>\n",
              "      <td>Job_Professional / Management</td>\n",
              "      <td>0.013320</td>\n",
              "    </tr>\n",
              "    <tr>\n",
              "      <th>40</th>\n",
              "      <td>Job_Services</td>\n",
              "      <td>0.015964</td>\n",
              "    </tr>\n",
              "    <tr>\n",
              "      <th>41</th>\n",
              "      <td>Job_Skilled Labor</td>\n",
              "      <td>0.006991</td>\n",
              "    </tr>\n",
              "    <tr>\n",
              "      <th>42</th>\n",
              "      <td>Completed Other loan?_No</td>\n",
              "      <td>0.003675</td>\n",
              "    </tr>\n",
              "    <tr>\n",
              "      <th>43</th>\n",
              "      <td>Completed Other loan?_Yes</td>\n",
              "      <td>0.005256</td>\n",
              "    </tr>\n",
              "  </tbody>\n",
              "</table>\n",
              "</div>\n",
              "      <button class=\"colab-df-convert\" onclick=\"convertToInteractive('df-6ec089c6-1869-4478-a262-58b0d5274fa6')\"\n",
              "              title=\"Convert this dataframe to an interactive table.\"\n",
              "              style=\"display:none;\">\n",
              "        \n",
              "  <svg xmlns=\"http://www.w3.org/2000/svg\" height=\"24px\"viewBox=\"0 0 24 24\"\n",
              "       width=\"24px\">\n",
              "    <path d=\"M0 0h24v24H0V0z\" fill=\"none\"/>\n",
              "    <path d=\"M18.56 5.44l.94 2.06.94-2.06 2.06-.94-2.06-.94-.94-2.06-.94 2.06-2.06.94zm-11 1L8.5 8.5l.94-2.06 2.06-.94-2.06-.94L8.5 2.5l-.94 2.06-2.06.94zm10 10l.94 2.06.94-2.06 2.06-.94-2.06-.94-.94-2.06-.94 2.06-2.06.94z\"/><path d=\"M17.41 7.96l-1.37-1.37c-.4-.4-.92-.59-1.43-.59-.52 0-1.04.2-1.43.59L10.3 9.45l-7.72 7.72c-.78.78-.78 2.05 0 2.83L4 21.41c.39.39.9.59 1.41.59.51 0 1.02-.2 1.41-.59l7.78-7.78 2.81-2.81c.8-.78.8-2.07 0-2.86zM5.41 20L4 18.59l7.72-7.72 1.47 1.35L5.41 20z\"/>\n",
              "  </svg>\n",
              "      </button>\n",
              "      \n",
              "  <style>\n",
              "    .colab-df-container {\n",
              "      display:flex;\n",
              "      flex-wrap:wrap;\n",
              "      gap: 12px;\n",
              "    }\n",
              "\n",
              "    .colab-df-convert {\n",
              "      background-color: #E8F0FE;\n",
              "      border: none;\n",
              "      border-radius: 50%;\n",
              "      cursor: pointer;\n",
              "      display: none;\n",
              "      fill: #1967D2;\n",
              "      height: 32px;\n",
              "      padding: 0 0 0 0;\n",
              "      width: 32px;\n",
              "    }\n",
              "\n",
              "    .colab-df-convert:hover {\n",
              "      background-color: #E2EBFA;\n",
              "      box-shadow: 0px 1px 2px rgba(60, 64, 67, 0.3), 0px 1px 3px 1px rgba(60, 64, 67, 0.15);\n",
              "      fill: #174EA6;\n",
              "    }\n",
              "\n",
              "    [theme=dark] .colab-df-convert {\n",
              "      background-color: #3B4455;\n",
              "      fill: #D2E3FC;\n",
              "    }\n",
              "\n",
              "    [theme=dark] .colab-df-convert:hover {\n",
              "      background-color: #434B5C;\n",
              "      box-shadow: 0px 1px 3px 1px rgba(0, 0, 0, 0.15);\n",
              "      filter: drop-shadow(0px 1px 2px rgba(0, 0, 0, 0.3));\n",
              "      fill: #FFFFFF;\n",
              "    }\n",
              "  </style>\n",
              "\n",
              "      <script>\n",
              "        const buttonEl =\n",
              "          document.querySelector('#df-6ec089c6-1869-4478-a262-58b0d5274fa6 button.colab-df-convert');\n",
              "        buttonEl.style.display =\n",
              "          google.colab.kernel.accessAllowed ? 'block' : 'none';\n",
              "\n",
              "        async function convertToInteractive(key) {\n",
              "          const element = document.querySelector('#df-6ec089c6-1869-4478-a262-58b0d5274fa6');\n",
              "          const dataTable =\n",
              "            await google.colab.kernel.invokeFunction('convertToInteractive',\n",
              "                                                     [key], {});\n",
              "          if (!dataTable) return;\n",
              "\n",
              "          const docLinkHtml = 'Like what you see? Visit the ' +\n",
              "            '<a target=\"_blank\" href=https://colab.research.google.com/notebooks/data_table.ipynb>data table notebook</a>'\n",
              "            + ' to learn more about interactive tables.';\n",
              "          element.innerHTML = '';\n",
              "          dataTable['output_type'] = 'display_data';\n",
              "          await google.colab.output.renderOutput(dataTable, element);\n",
              "          const docLink = document.createElement('div');\n",
              "          docLink.innerHTML = docLinkHtml;\n",
              "          element.appendChild(docLink);\n",
              "        }\n",
              "      </script>\n",
              "    </div>\n",
              "  </div>\n",
              "  "
            ],
            "text/plain": [
              "                                         Feature  Feature Importance\n",
              "0                        Type of Account_No Data            0.055754\n",
              "1                         Type of Account_Type A            0.057752\n",
              "2                         Type of Account_Type B            0.002867\n",
              "3                         Type of Account_Type C            0.019039\n",
              "4         Account History_Average (known delays)            0.002695\n",
              "5                           Account History_Good            0.196671\n",
              "6                       Account History_critical            0.000000\n",
              "7       Reason for the Loan_Advance Edu/training            0.000000\n",
              "8                  Reason for the Loan_All other            0.003709\n",
              "9           Reason for the Loan_Buying a New Car            0.025158\n",
              "10         Reason for the Loan_Buying a Used Car            0.010662\n",
              "11              Reason for the Loan_Home Devices            0.001534\n",
              "12            Reason for the Loan_Home furniture            0.011448\n",
              "13   Reason for the Loan_Learning / Edu purposes            0.012566\n",
              "14                Reason for the Loan_Renovation            0.003571\n",
              "15      Reason for the Loan_Support for Business            0.018927\n",
              "16                        Reason for the Loan_TV            0.004703\n",
              "17                         Account Savings_0-200            0.209841\n",
              "18                         Account Savings_1000+            0.012009\n",
              "19                       Account Savings_200-500            0.016684\n",
              "20                      Account Savings_500-1000            0.006247\n",
              "21                       Account Savings_No Data            0.033562\n",
              "22                  Employment History_0-2 Years            0.017518\n",
              "23                  Employment History_2-5 Years            0.019203\n",
              "24                  Employment History_5-7 Years            0.017566\n",
              "25                   Employment History_7+ Years            0.026950\n",
              "26                 Employment History_Unemployed            0.015139\n",
              "27                    Individual Status_Divorced            0.002391\n",
              "28                      Individual Status_Female            0.017851\n",
              "29                        Individual Status_Male            0.017250\n",
              "30                     Individual Status_Married            0.004423\n",
              "31             Security / Collateral_No Security            0.012604\n",
              "32  Security / Collateral_Property - Real Estate            0.026603\n",
              "33         Security / Collateral_Savings Account            0.022572\n",
              "34                 Security / Collateral_Vehicle            0.018176\n",
              "35                         Residence Status_Free            0.002247\n",
              "36                  Residence Status_House Owner            0.020681\n",
              "37                      Residence Status_Renting            0.008221\n",
              "38                              Job_Not Employed            0.000000\n",
              "39                 Job_Professional / Management            0.013320\n",
              "40                                  Job_Services            0.015964\n",
              "41                             Job_Skilled Labor            0.006991\n",
              "42                      Completed Other loan?_No            0.003675\n",
              "43                     Completed Other loan?_Yes            0.005256"
            ]
          },
          "metadata": {},
          "execution_count": 51
        }
      ]
    },
    {
      "cell_type": "code",
      "source": [
        "###  Ordering the Data\n",
        "\n",
        "fi_df = fi_df.sort_values('Feature Importance', ascending = False).reset_index()\n",
        "\n",
        "\n",
        "# fi_df.drop(\"level_0\", axis = 1, inplace = True)\n",
        "\n",
        "fi_df\n"
      ],
      "metadata": {
        "id": "UOLMmaQB-0JV",
        "colab": {
          "base_uri": "https://localhost:8080/",
          "height": 1000
        },
        "outputId": "f00ffa2c-ee63-47a8-8ca9-845cdd4cf589"
      },
      "execution_count": 55,
      "outputs": [
        {
          "output_type": "execute_result",
          "data": {
            "text/html": [
              "\n",
              "  <div id=\"df-f96587d8-1e1e-4387-86d4-63c2f5ce9e43\">\n",
              "    <div class=\"colab-df-container\">\n",
              "      <div>\n",
              "<style scoped>\n",
              "    .dataframe tbody tr th:only-of-type {\n",
              "        vertical-align: middle;\n",
              "    }\n",
              "\n",
              "    .dataframe tbody tr th {\n",
              "        vertical-align: top;\n",
              "    }\n",
              "\n",
              "    .dataframe thead th {\n",
              "        text-align: right;\n",
              "    }\n",
              "</style>\n",
              "<table border=\"1\" class=\"dataframe\">\n",
              "  <thead>\n",
              "    <tr style=\"text-align: right;\">\n",
              "      <th></th>\n",
              "      <th>index</th>\n",
              "      <th>Feature</th>\n",
              "      <th>Feature Importance</th>\n",
              "    </tr>\n",
              "  </thead>\n",
              "  <tbody>\n",
              "    <tr>\n",
              "      <th>0</th>\n",
              "      <td>17</td>\n",
              "      <td>Account Savings_0-200</td>\n",
              "      <td>0.209841</td>\n",
              "    </tr>\n",
              "    <tr>\n",
              "      <th>1</th>\n",
              "      <td>5</td>\n",
              "      <td>Account History_Good</td>\n",
              "      <td>0.196671</td>\n",
              "    </tr>\n",
              "    <tr>\n",
              "      <th>2</th>\n",
              "      <td>1</td>\n",
              "      <td>Type of Account_Type A</td>\n",
              "      <td>0.057752</td>\n",
              "    </tr>\n",
              "    <tr>\n",
              "      <th>3</th>\n",
              "      <td>0</td>\n",
              "      <td>Type of Account_No Data</td>\n",
              "      <td>0.055754</td>\n",
              "    </tr>\n",
              "    <tr>\n",
              "      <th>4</th>\n",
              "      <td>21</td>\n",
              "      <td>Account Savings_No Data</td>\n",
              "      <td>0.033562</td>\n",
              "    </tr>\n",
              "    <tr>\n",
              "      <th>5</th>\n",
              "      <td>25</td>\n",
              "      <td>Employment History_7+ Years</td>\n",
              "      <td>0.026950</td>\n",
              "    </tr>\n",
              "    <tr>\n",
              "      <th>6</th>\n",
              "      <td>32</td>\n",
              "      <td>Security / Collateral_Property - Real Estate</td>\n",
              "      <td>0.026603</td>\n",
              "    </tr>\n",
              "    <tr>\n",
              "      <th>7</th>\n",
              "      <td>9</td>\n",
              "      <td>Reason for the Loan_Buying a New Car</td>\n",
              "      <td>0.025158</td>\n",
              "    </tr>\n",
              "    <tr>\n",
              "      <th>8</th>\n",
              "      <td>33</td>\n",
              "      <td>Security / Collateral_Savings Account</td>\n",
              "      <td>0.022572</td>\n",
              "    </tr>\n",
              "    <tr>\n",
              "      <th>9</th>\n",
              "      <td>36</td>\n",
              "      <td>Residence Status_House Owner</td>\n",
              "      <td>0.020681</td>\n",
              "    </tr>\n",
              "    <tr>\n",
              "      <th>10</th>\n",
              "      <td>23</td>\n",
              "      <td>Employment History_2-5 Years</td>\n",
              "      <td>0.019203</td>\n",
              "    </tr>\n",
              "    <tr>\n",
              "      <th>11</th>\n",
              "      <td>3</td>\n",
              "      <td>Type of Account_Type C</td>\n",
              "      <td>0.019039</td>\n",
              "    </tr>\n",
              "    <tr>\n",
              "      <th>12</th>\n",
              "      <td>15</td>\n",
              "      <td>Reason for the Loan_Support for Business</td>\n",
              "      <td>0.018927</td>\n",
              "    </tr>\n",
              "    <tr>\n",
              "      <th>13</th>\n",
              "      <td>34</td>\n",
              "      <td>Security / Collateral_Vehicle</td>\n",
              "      <td>0.018176</td>\n",
              "    </tr>\n",
              "    <tr>\n",
              "      <th>14</th>\n",
              "      <td>28</td>\n",
              "      <td>Individual Status_Female</td>\n",
              "      <td>0.017851</td>\n",
              "    </tr>\n",
              "    <tr>\n",
              "      <th>15</th>\n",
              "      <td>24</td>\n",
              "      <td>Employment History_5-7 Years</td>\n",
              "      <td>0.017566</td>\n",
              "    </tr>\n",
              "    <tr>\n",
              "      <th>16</th>\n",
              "      <td>22</td>\n",
              "      <td>Employment History_0-2 Years</td>\n",
              "      <td>0.017518</td>\n",
              "    </tr>\n",
              "    <tr>\n",
              "      <th>17</th>\n",
              "      <td>29</td>\n",
              "      <td>Individual Status_Male</td>\n",
              "      <td>0.017250</td>\n",
              "    </tr>\n",
              "    <tr>\n",
              "      <th>18</th>\n",
              "      <td>19</td>\n",
              "      <td>Account Savings_200-500</td>\n",
              "      <td>0.016684</td>\n",
              "    </tr>\n",
              "    <tr>\n",
              "      <th>19</th>\n",
              "      <td>40</td>\n",
              "      <td>Job_Services</td>\n",
              "      <td>0.015964</td>\n",
              "    </tr>\n",
              "    <tr>\n",
              "      <th>20</th>\n",
              "      <td>26</td>\n",
              "      <td>Employment History_Unemployed</td>\n",
              "      <td>0.015139</td>\n",
              "    </tr>\n",
              "    <tr>\n",
              "      <th>21</th>\n",
              "      <td>39</td>\n",
              "      <td>Job_Professional / Management</td>\n",
              "      <td>0.013320</td>\n",
              "    </tr>\n",
              "    <tr>\n",
              "      <th>22</th>\n",
              "      <td>31</td>\n",
              "      <td>Security / Collateral_No Security</td>\n",
              "      <td>0.012604</td>\n",
              "    </tr>\n",
              "    <tr>\n",
              "      <th>23</th>\n",
              "      <td>13</td>\n",
              "      <td>Reason for the Loan_Learning / Edu purposes</td>\n",
              "      <td>0.012566</td>\n",
              "    </tr>\n",
              "    <tr>\n",
              "      <th>24</th>\n",
              "      <td>18</td>\n",
              "      <td>Account Savings_1000+</td>\n",
              "      <td>0.012009</td>\n",
              "    </tr>\n",
              "    <tr>\n",
              "      <th>25</th>\n",
              "      <td>12</td>\n",
              "      <td>Reason for the Loan_Home furniture</td>\n",
              "      <td>0.011448</td>\n",
              "    </tr>\n",
              "    <tr>\n",
              "      <th>26</th>\n",
              "      <td>10</td>\n",
              "      <td>Reason for the Loan_Buying a Used Car</td>\n",
              "      <td>0.010662</td>\n",
              "    </tr>\n",
              "    <tr>\n",
              "      <th>27</th>\n",
              "      <td>37</td>\n",
              "      <td>Residence Status_Renting</td>\n",
              "      <td>0.008221</td>\n",
              "    </tr>\n",
              "    <tr>\n",
              "      <th>28</th>\n",
              "      <td>20</td>\n",
              "      <td>Account Savings_500-1000</td>\n",
              "      <td>0.006247</td>\n",
              "    </tr>\n",
              "    <tr>\n",
              "      <th>29</th>\n",
              "      <td>16</td>\n",
              "      <td>Reason for the Loan_TV</td>\n",
              "      <td>0.004703</td>\n",
              "    </tr>\n",
              "    <tr>\n",
              "      <th>30</th>\n",
              "      <td>30</td>\n",
              "      <td>Individual Status_Married</td>\n",
              "      <td>0.004423</td>\n",
              "    </tr>\n",
              "    <tr>\n",
              "      <th>31</th>\n",
              "      <td>8</td>\n",
              "      <td>Reason for the Loan_All other</td>\n",
              "      <td>0.003709</td>\n",
              "    </tr>\n",
              "    <tr>\n",
              "      <th>32</th>\n",
              "      <td>14</td>\n",
              "      <td>Reason for the Loan_Renovation</td>\n",
              "      <td>0.003571</td>\n",
              "    </tr>\n",
              "    <tr>\n",
              "      <th>33</th>\n",
              "      <td>2</td>\n",
              "      <td>Type of Account_Type B</td>\n",
              "      <td>0.002867</td>\n",
              "    </tr>\n",
              "    <tr>\n",
              "      <th>34</th>\n",
              "      <td>4</td>\n",
              "      <td>Account History_Average (known delays)</td>\n",
              "      <td>0.002695</td>\n",
              "    </tr>\n",
              "    <tr>\n",
              "      <th>35</th>\n",
              "      <td>27</td>\n",
              "      <td>Individual Status_Divorced</td>\n",
              "      <td>0.002391</td>\n",
              "    </tr>\n",
              "    <tr>\n",
              "      <th>36</th>\n",
              "      <td>35</td>\n",
              "      <td>Residence Status_Free</td>\n",
              "      <td>0.002247</td>\n",
              "    </tr>\n",
              "    <tr>\n",
              "      <th>37</th>\n",
              "      <td>11</td>\n",
              "      <td>Reason for the Loan_Home Devices</td>\n",
              "      <td>0.001534</td>\n",
              "    </tr>\n",
              "    <tr>\n",
              "      <th>38</th>\n",
              "      <td>7</td>\n",
              "      <td>Reason for the Loan_Advance Edu/training</td>\n",
              "      <td>0.000000</td>\n",
              "    </tr>\n",
              "    <tr>\n",
              "      <th>39</th>\n",
              "      <td>6</td>\n",
              "      <td>Account History_critical</td>\n",
              "      <td>0.000000</td>\n",
              "    </tr>\n",
              "    <tr>\n",
              "      <th>40</th>\n",
              "      <td>38</td>\n",
              "      <td>Job_Not Employed</td>\n",
              "      <td>0.000000</td>\n",
              "    </tr>\n",
              "  </tbody>\n",
              "</table>\n",
              "</div>\n",
              "      <button class=\"colab-df-convert\" onclick=\"convertToInteractive('df-f96587d8-1e1e-4387-86d4-63c2f5ce9e43')\"\n",
              "              title=\"Convert this dataframe to an interactive table.\"\n",
              "              style=\"display:none;\">\n",
              "        \n",
              "  <svg xmlns=\"http://www.w3.org/2000/svg\" height=\"24px\"viewBox=\"0 0 24 24\"\n",
              "       width=\"24px\">\n",
              "    <path d=\"M0 0h24v24H0V0z\" fill=\"none\"/>\n",
              "    <path d=\"M18.56 5.44l.94 2.06.94-2.06 2.06-.94-2.06-.94-.94-2.06-.94 2.06-2.06.94zm-11 1L8.5 8.5l.94-2.06 2.06-.94-2.06-.94L8.5 2.5l-.94 2.06-2.06.94zm10 10l.94 2.06.94-2.06 2.06-.94-2.06-.94-.94-2.06-.94 2.06-2.06.94z\"/><path d=\"M17.41 7.96l-1.37-1.37c-.4-.4-.92-.59-1.43-.59-.52 0-1.04.2-1.43.59L10.3 9.45l-7.72 7.72c-.78.78-.78 2.05 0 2.83L4 21.41c.39.39.9.59 1.41.59.51 0 1.02-.2 1.41-.59l7.78-7.78 2.81-2.81c.8-.78.8-2.07 0-2.86zM5.41 20L4 18.59l7.72-7.72 1.47 1.35L5.41 20z\"/>\n",
              "  </svg>\n",
              "      </button>\n",
              "      \n",
              "  <style>\n",
              "    .colab-df-container {\n",
              "      display:flex;\n",
              "      flex-wrap:wrap;\n",
              "      gap: 12px;\n",
              "    }\n",
              "\n",
              "    .colab-df-convert {\n",
              "      background-color: #E8F0FE;\n",
              "      border: none;\n",
              "      border-radius: 50%;\n",
              "      cursor: pointer;\n",
              "      display: none;\n",
              "      fill: #1967D2;\n",
              "      height: 32px;\n",
              "      padding: 0 0 0 0;\n",
              "      width: 32px;\n",
              "    }\n",
              "\n",
              "    .colab-df-convert:hover {\n",
              "      background-color: #E2EBFA;\n",
              "      box-shadow: 0px 1px 2px rgba(60, 64, 67, 0.3), 0px 1px 3px 1px rgba(60, 64, 67, 0.15);\n",
              "      fill: #174EA6;\n",
              "    }\n",
              "\n",
              "    [theme=dark] .colab-df-convert {\n",
              "      background-color: #3B4455;\n",
              "      fill: #D2E3FC;\n",
              "    }\n",
              "\n",
              "    [theme=dark] .colab-df-convert:hover {\n",
              "      background-color: #434B5C;\n",
              "      box-shadow: 0px 1px 3px 1px rgba(0, 0, 0, 0.15);\n",
              "      filter: drop-shadow(0px 1px 2px rgba(0, 0, 0, 0.3));\n",
              "      fill: #FFFFFF;\n",
              "    }\n",
              "  </style>\n",
              "\n",
              "      <script>\n",
              "        const buttonEl =\n",
              "          document.querySelector('#df-f96587d8-1e1e-4387-86d4-63c2f5ce9e43 button.colab-df-convert');\n",
              "        buttonEl.style.display =\n",
              "          google.colab.kernel.accessAllowed ? 'block' : 'none';\n",
              "\n",
              "        async function convertToInteractive(key) {\n",
              "          const element = document.querySelector('#df-f96587d8-1e1e-4387-86d4-63c2f5ce9e43');\n",
              "          const dataTable =\n",
              "            await google.colab.kernel.invokeFunction('convertToInteractive',\n",
              "                                                     [key], {});\n",
              "          if (!dataTable) return;\n",
              "\n",
              "          const docLinkHtml = 'Like what you see? Visit the ' +\n",
              "            '<a target=\"_blank\" href=https://colab.research.google.com/notebooks/data_table.ipynb>data table notebook</a>'\n",
              "            + ' to learn more about interactive tables.';\n",
              "          element.innerHTML = '';\n",
              "          dataTable['output_type'] = 'display_data';\n",
              "          await google.colab.output.renderOutput(dataTable, element);\n",
              "          const docLink = document.createElement('div');\n",
              "          docLink.innerHTML = docLinkHtml;\n",
              "          element.appendChild(docLink);\n",
              "        }\n",
              "      </script>\n",
              "    </div>\n",
              "  </div>\n",
              "  "
            ],
            "text/plain": [
              "    index                                       Feature  Feature Importance\n",
              "0      17                         Account Savings_0-200            0.209841\n",
              "1       5                          Account History_Good            0.196671\n",
              "2       1                        Type of Account_Type A            0.057752\n",
              "3       0                       Type of Account_No Data            0.055754\n",
              "4      21                       Account Savings_No Data            0.033562\n",
              "5      25                   Employment History_7+ Years            0.026950\n",
              "6      32  Security / Collateral_Property - Real Estate            0.026603\n",
              "7       9          Reason for the Loan_Buying a New Car            0.025158\n",
              "8      33         Security / Collateral_Savings Account            0.022572\n",
              "9      36                  Residence Status_House Owner            0.020681\n",
              "10     23                  Employment History_2-5 Years            0.019203\n",
              "11      3                        Type of Account_Type C            0.019039\n",
              "12     15      Reason for the Loan_Support for Business            0.018927\n",
              "13     34                 Security / Collateral_Vehicle            0.018176\n",
              "14     28                      Individual Status_Female            0.017851\n",
              "15     24                  Employment History_5-7 Years            0.017566\n",
              "16     22                  Employment History_0-2 Years            0.017518\n",
              "17     29                        Individual Status_Male            0.017250\n",
              "18     19                       Account Savings_200-500            0.016684\n",
              "19     40                                  Job_Services            0.015964\n",
              "20     26                 Employment History_Unemployed            0.015139\n",
              "21     39                 Job_Professional / Management            0.013320\n",
              "22     31             Security / Collateral_No Security            0.012604\n",
              "23     13   Reason for the Loan_Learning / Edu purposes            0.012566\n",
              "24     18                         Account Savings_1000+            0.012009\n",
              "25     12            Reason for the Loan_Home furniture            0.011448\n",
              "26     10         Reason for the Loan_Buying a Used Car            0.010662\n",
              "27     37                      Residence Status_Renting            0.008221\n",
              "28     20                      Account Savings_500-1000            0.006247\n",
              "29     16                        Reason for the Loan_TV            0.004703\n",
              "30     30                     Individual Status_Married            0.004423\n",
              "31      8                 Reason for the Loan_All other            0.003709\n",
              "32     14                Reason for the Loan_Renovation            0.003571\n",
              "33      2                        Type of Account_Type B            0.002867\n",
              "34      4        Account History_Average (known delays)            0.002695\n",
              "35     27                    Individual Status_Divorced            0.002391\n",
              "36     35                         Residence Status_Free            0.002247\n",
              "37     11              Reason for the Loan_Home Devices            0.001534\n",
              "38      7      Reason for the Loan_Advance Edu/training            0.000000\n",
              "39      6                      Account History_critical            0.000000\n",
              "40     38                              Job_Not Employed            0.000000"
            ]
          },
          "metadata": {},
          "execution_count": 55
        }
      ]
    },
    {
      "cell_type": "markdown",
      "source": [
        "Based on the DataFrame above, we will remove from now on the columns with the column importance of **ZERO**, to be able to build our Logistic Regression Model."
      ],
      "metadata": {
        "id": "yy3LvSMLp_jM"
      }
    },
    {
      "cell_type": "code",
      "source": [
        "# Selecting the Data that we will be keeping \n",
        "fi_df = fi_df[0:41]"
      ],
      "metadata": {
        "id": "BGN0wf8Q-0Mq"
      },
      "execution_count": 54,
      "outputs": []
    },
    {
      "cell_type": "code",
      "source": [
        "fi_df"
      ],
      "metadata": {
        "id": "gmW-MpYl-0QA",
        "colab": {
          "base_uri": "https://localhost:8080/",
          "height": 1000
        },
        "outputId": "57aa8fd9-ec32-49b9-9247-efdff0f8ba4a"
      },
      "execution_count": 56,
      "outputs": [
        {
          "output_type": "execute_result",
          "data": {
            "text/html": [
              "\n",
              "  <div id=\"df-73429523-11ed-4f8a-b8f5-ec7b6ca818bd\">\n",
              "    <div class=\"colab-df-container\">\n",
              "      <div>\n",
              "<style scoped>\n",
              "    .dataframe tbody tr th:only-of-type {\n",
              "        vertical-align: middle;\n",
              "    }\n",
              "\n",
              "    .dataframe tbody tr th {\n",
              "        vertical-align: top;\n",
              "    }\n",
              "\n",
              "    .dataframe thead th {\n",
              "        text-align: right;\n",
              "    }\n",
              "</style>\n",
              "<table border=\"1\" class=\"dataframe\">\n",
              "  <thead>\n",
              "    <tr style=\"text-align: right;\">\n",
              "      <th></th>\n",
              "      <th>index</th>\n",
              "      <th>Feature</th>\n",
              "      <th>Feature Importance</th>\n",
              "    </tr>\n",
              "  </thead>\n",
              "  <tbody>\n",
              "    <tr>\n",
              "      <th>0</th>\n",
              "      <td>17</td>\n",
              "      <td>Account Savings_0-200</td>\n",
              "      <td>0.209841</td>\n",
              "    </tr>\n",
              "    <tr>\n",
              "      <th>1</th>\n",
              "      <td>5</td>\n",
              "      <td>Account History_Good</td>\n",
              "      <td>0.196671</td>\n",
              "    </tr>\n",
              "    <tr>\n",
              "      <th>2</th>\n",
              "      <td>1</td>\n",
              "      <td>Type of Account_Type A</td>\n",
              "      <td>0.057752</td>\n",
              "    </tr>\n",
              "    <tr>\n",
              "      <th>3</th>\n",
              "      <td>0</td>\n",
              "      <td>Type of Account_No Data</td>\n",
              "      <td>0.055754</td>\n",
              "    </tr>\n",
              "    <tr>\n",
              "      <th>4</th>\n",
              "      <td>21</td>\n",
              "      <td>Account Savings_No Data</td>\n",
              "      <td>0.033562</td>\n",
              "    </tr>\n",
              "    <tr>\n",
              "      <th>5</th>\n",
              "      <td>25</td>\n",
              "      <td>Employment History_7+ Years</td>\n",
              "      <td>0.026950</td>\n",
              "    </tr>\n",
              "    <tr>\n",
              "      <th>6</th>\n",
              "      <td>32</td>\n",
              "      <td>Security / Collateral_Property - Real Estate</td>\n",
              "      <td>0.026603</td>\n",
              "    </tr>\n",
              "    <tr>\n",
              "      <th>7</th>\n",
              "      <td>9</td>\n",
              "      <td>Reason for the Loan_Buying a New Car</td>\n",
              "      <td>0.025158</td>\n",
              "    </tr>\n",
              "    <tr>\n",
              "      <th>8</th>\n",
              "      <td>33</td>\n",
              "      <td>Security / Collateral_Savings Account</td>\n",
              "      <td>0.022572</td>\n",
              "    </tr>\n",
              "    <tr>\n",
              "      <th>9</th>\n",
              "      <td>36</td>\n",
              "      <td>Residence Status_House Owner</td>\n",
              "      <td>0.020681</td>\n",
              "    </tr>\n",
              "    <tr>\n",
              "      <th>10</th>\n",
              "      <td>23</td>\n",
              "      <td>Employment History_2-5 Years</td>\n",
              "      <td>0.019203</td>\n",
              "    </tr>\n",
              "    <tr>\n",
              "      <th>11</th>\n",
              "      <td>3</td>\n",
              "      <td>Type of Account_Type C</td>\n",
              "      <td>0.019039</td>\n",
              "    </tr>\n",
              "    <tr>\n",
              "      <th>12</th>\n",
              "      <td>15</td>\n",
              "      <td>Reason for the Loan_Support for Business</td>\n",
              "      <td>0.018927</td>\n",
              "    </tr>\n",
              "    <tr>\n",
              "      <th>13</th>\n",
              "      <td>34</td>\n",
              "      <td>Security / Collateral_Vehicle</td>\n",
              "      <td>0.018176</td>\n",
              "    </tr>\n",
              "    <tr>\n",
              "      <th>14</th>\n",
              "      <td>28</td>\n",
              "      <td>Individual Status_Female</td>\n",
              "      <td>0.017851</td>\n",
              "    </tr>\n",
              "    <tr>\n",
              "      <th>15</th>\n",
              "      <td>24</td>\n",
              "      <td>Employment History_5-7 Years</td>\n",
              "      <td>0.017566</td>\n",
              "    </tr>\n",
              "    <tr>\n",
              "      <th>16</th>\n",
              "      <td>22</td>\n",
              "      <td>Employment History_0-2 Years</td>\n",
              "      <td>0.017518</td>\n",
              "    </tr>\n",
              "    <tr>\n",
              "      <th>17</th>\n",
              "      <td>29</td>\n",
              "      <td>Individual Status_Male</td>\n",
              "      <td>0.017250</td>\n",
              "    </tr>\n",
              "    <tr>\n",
              "      <th>18</th>\n",
              "      <td>19</td>\n",
              "      <td>Account Savings_200-500</td>\n",
              "      <td>0.016684</td>\n",
              "    </tr>\n",
              "    <tr>\n",
              "      <th>19</th>\n",
              "      <td>40</td>\n",
              "      <td>Job_Services</td>\n",
              "      <td>0.015964</td>\n",
              "    </tr>\n",
              "    <tr>\n",
              "      <th>20</th>\n",
              "      <td>26</td>\n",
              "      <td>Employment History_Unemployed</td>\n",
              "      <td>0.015139</td>\n",
              "    </tr>\n",
              "    <tr>\n",
              "      <th>21</th>\n",
              "      <td>39</td>\n",
              "      <td>Job_Professional / Management</td>\n",
              "      <td>0.013320</td>\n",
              "    </tr>\n",
              "    <tr>\n",
              "      <th>22</th>\n",
              "      <td>31</td>\n",
              "      <td>Security / Collateral_No Security</td>\n",
              "      <td>0.012604</td>\n",
              "    </tr>\n",
              "    <tr>\n",
              "      <th>23</th>\n",
              "      <td>13</td>\n",
              "      <td>Reason for the Loan_Learning / Edu purposes</td>\n",
              "      <td>0.012566</td>\n",
              "    </tr>\n",
              "    <tr>\n",
              "      <th>24</th>\n",
              "      <td>18</td>\n",
              "      <td>Account Savings_1000+</td>\n",
              "      <td>0.012009</td>\n",
              "    </tr>\n",
              "    <tr>\n",
              "      <th>25</th>\n",
              "      <td>12</td>\n",
              "      <td>Reason for the Loan_Home furniture</td>\n",
              "      <td>0.011448</td>\n",
              "    </tr>\n",
              "    <tr>\n",
              "      <th>26</th>\n",
              "      <td>10</td>\n",
              "      <td>Reason for the Loan_Buying a Used Car</td>\n",
              "      <td>0.010662</td>\n",
              "    </tr>\n",
              "    <tr>\n",
              "      <th>27</th>\n",
              "      <td>37</td>\n",
              "      <td>Residence Status_Renting</td>\n",
              "      <td>0.008221</td>\n",
              "    </tr>\n",
              "    <tr>\n",
              "      <th>28</th>\n",
              "      <td>20</td>\n",
              "      <td>Account Savings_500-1000</td>\n",
              "      <td>0.006247</td>\n",
              "    </tr>\n",
              "    <tr>\n",
              "      <th>29</th>\n",
              "      <td>16</td>\n",
              "      <td>Reason for the Loan_TV</td>\n",
              "      <td>0.004703</td>\n",
              "    </tr>\n",
              "    <tr>\n",
              "      <th>30</th>\n",
              "      <td>30</td>\n",
              "      <td>Individual Status_Married</td>\n",
              "      <td>0.004423</td>\n",
              "    </tr>\n",
              "    <tr>\n",
              "      <th>31</th>\n",
              "      <td>8</td>\n",
              "      <td>Reason for the Loan_All other</td>\n",
              "      <td>0.003709</td>\n",
              "    </tr>\n",
              "    <tr>\n",
              "      <th>32</th>\n",
              "      <td>14</td>\n",
              "      <td>Reason for the Loan_Renovation</td>\n",
              "      <td>0.003571</td>\n",
              "    </tr>\n",
              "    <tr>\n",
              "      <th>33</th>\n",
              "      <td>2</td>\n",
              "      <td>Type of Account_Type B</td>\n",
              "      <td>0.002867</td>\n",
              "    </tr>\n",
              "    <tr>\n",
              "      <th>34</th>\n",
              "      <td>4</td>\n",
              "      <td>Account History_Average (known delays)</td>\n",
              "      <td>0.002695</td>\n",
              "    </tr>\n",
              "    <tr>\n",
              "      <th>35</th>\n",
              "      <td>27</td>\n",
              "      <td>Individual Status_Divorced</td>\n",
              "      <td>0.002391</td>\n",
              "    </tr>\n",
              "    <tr>\n",
              "      <th>36</th>\n",
              "      <td>35</td>\n",
              "      <td>Residence Status_Free</td>\n",
              "      <td>0.002247</td>\n",
              "    </tr>\n",
              "    <tr>\n",
              "      <th>37</th>\n",
              "      <td>11</td>\n",
              "      <td>Reason for the Loan_Home Devices</td>\n",
              "      <td>0.001534</td>\n",
              "    </tr>\n",
              "    <tr>\n",
              "      <th>38</th>\n",
              "      <td>7</td>\n",
              "      <td>Reason for the Loan_Advance Edu/training</td>\n",
              "      <td>0.000000</td>\n",
              "    </tr>\n",
              "    <tr>\n",
              "      <th>39</th>\n",
              "      <td>6</td>\n",
              "      <td>Account History_critical</td>\n",
              "      <td>0.000000</td>\n",
              "    </tr>\n",
              "    <tr>\n",
              "      <th>40</th>\n",
              "      <td>38</td>\n",
              "      <td>Job_Not Employed</td>\n",
              "      <td>0.000000</td>\n",
              "    </tr>\n",
              "  </tbody>\n",
              "</table>\n",
              "</div>\n",
              "      <button class=\"colab-df-convert\" onclick=\"convertToInteractive('df-73429523-11ed-4f8a-b8f5-ec7b6ca818bd')\"\n",
              "              title=\"Convert this dataframe to an interactive table.\"\n",
              "              style=\"display:none;\">\n",
              "        \n",
              "  <svg xmlns=\"http://www.w3.org/2000/svg\" height=\"24px\"viewBox=\"0 0 24 24\"\n",
              "       width=\"24px\">\n",
              "    <path d=\"M0 0h24v24H0V0z\" fill=\"none\"/>\n",
              "    <path d=\"M18.56 5.44l.94 2.06.94-2.06 2.06-.94-2.06-.94-.94-2.06-.94 2.06-2.06.94zm-11 1L8.5 8.5l.94-2.06 2.06-.94-2.06-.94L8.5 2.5l-.94 2.06-2.06.94zm10 10l.94 2.06.94-2.06 2.06-.94-2.06-.94-.94-2.06-.94 2.06-2.06.94z\"/><path d=\"M17.41 7.96l-1.37-1.37c-.4-.4-.92-.59-1.43-.59-.52 0-1.04.2-1.43.59L10.3 9.45l-7.72 7.72c-.78.78-.78 2.05 0 2.83L4 21.41c.39.39.9.59 1.41.59.51 0 1.02-.2 1.41-.59l7.78-7.78 2.81-2.81c.8-.78.8-2.07 0-2.86zM5.41 20L4 18.59l7.72-7.72 1.47 1.35L5.41 20z\"/>\n",
              "  </svg>\n",
              "      </button>\n",
              "      \n",
              "  <style>\n",
              "    .colab-df-container {\n",
              "      display:flex;\n",
              "      flex-wrap:wrap;\n",
              "      gap: 12px;\n",
              "    }\n",
              "\n",
              "    .colab-df-convert {\n",
              "      background-color: #E8F0FE;\n",
              "      border: none;\n",
              "      border-radius: 50%;\n",
              "      cursor: pointer;\n",
              "      display: none;\n",
              "      fill: #1967D2;\n",
              "      height: 32px;\n",
              "      padding: 0 0 0 0;\n",
              "      width: 32px;\n",
              "    }\n",
              "\n",
              "    .colab-df-convert:hover {\n",
              "      background-color: #E2EBFA;\n",
              "      box-shadow: 0px 1px 2px rgba(60, 64, 67, 0.3), 0px 1px 3px 1px rgba(60, 64, 67, 0.15);\n",
              "      fill: #174EA6;\n",
              "    }\n",
              "\n",
              "    [theme=dark] .colab-df-convert {\n",
              "      background-color: #3B4455;\n",
              "      fill: #D2E3FC;\n",
              "    }\n",
              "\n",
              "    [theme=dark] .colab-df-convert:hover {\n",
              "      background-color: #434B5C;\n",
              "      box-shadow: 0px 1px 3px 1px rgba(0, 0, 0, 0.15);\n",
              "      filter: drop-shadow(0px 1px 2px rgba(0, 0, 0, 0.3));\n",
              "      fill: #FFFFFF;\n",
              "    }\n",
              "  </style>\n",
              "\n",
              "      <script>\n",
              "        const buttonEl =\n",
              "          document.querySelector('#df-73429523-11ed-4f8a-b8f5-ec7b6ca818bd button.colab-df-convert');\n",
              "        buttonEl.style.display =\n",
              "          google.colab.kernel.accessAllowed ? 'block' : 'none';\n",
              "\n",
              "        async function convertToInteractive(key) {\n",
              "          const element = document.querySelector('#df-73429523-11ed-4f8a-b8f5-ec7b6ca818bd');\n",
              "          const dataTable =\n",
              "            await google.colab.kernel.invokeFunction('convertToInteractive',\n",
              "                                                     [key], {});\n",
              "          if (!dataTable) return;\n",
              "\n",
              "          const docLinkHtml = 'Like what you see? Visit the ' +\n",
              "            '<a target=\"_blank\" href=https://colab.research.google.com/notebooks/data_table.ipynb>data table notebook</a>'\n",
              "            + ' to learn more about interactive tables.';\n",
              "          element.innerHTML = '';\n",
              "          dataTable['output_type'] = 'display_data';\n",
              "          await google.colab.output.renderOutput(dataTable, element);\n",
              "          const docLink = document.createElement('div');\n",
              "          docLink.innerHTML = docLinkHtml;\n",
              "          element.appendChild(docLink);\n",
              "        }\n",
              "      </script>\n",
              "    </div>\n",
              "  </div>\n",
              "  "
            ],
            "text/plain": [
              "    index                                       Feature  Feature Importance\n",
              "0      17                         Account Savings_0-200            0.209841\n",
              "1       5                          Account History_Good            0.196671\n",
              "2       1                        Type of Account_Type A            0.057752\n",
              "3       0                       Type of Account_No Data            0.055754\n",
              "4      21                       Account Savings_No Data            0.033562\n",
              "5      25                   Employment History_7+ Years            0.026950\n",
              "6      32  Security / Collateral_Property - Real Estate            0.026603\n",
              "7       9          Reason for the Loan_Buying a New Car            0.025158\n",
              "8      33         Security / Collateral_Savings Account            0.022572\n",
              "9      36                  Residence Status_House Owner            0.020681\n",
              "10     23                  Employment History_2-5 Years            0.019203\n",
              "11      3                        Type of Account_Type C            0.019039\n",
              "12     15      Reason for the Loan_Support for Business            0.018927\n",
              "13     34                 Security / Collateral_Vehicle            0.018176\n",
              "14     28                      Individual Status_Female            0.017851\n",
              "15     24                  Employment History_5-7 Years            0.017566\n",
              "16     22                  Employment History_0-2 Years            0.017518\n",
              "17     29                        Individual Status_Male            0.017250\n",
              "18     19                       Account Savings_200-500            0.016684\n",
              "19     40                                  Job_Services            0.015964\n",
              "20     26                 Employment History_Unemployed            0.015139\n",
              "21     39                 Job_Professional / Management            0.013320\n",
              "22     31             Security / Collateral_No Security            0.012604\n",
              "23     13   Reason for the Loan_Learning / Edu purposes            0.012566\n",
              "24     18                         Account Savings_1000+            0.012009\n",
              "25     12            Reason for the Loan_Home furniture            0.011448\n",
              "26     10         Reason for the Loan_Buying a Used Car            0.010662\n",
              "27     37                      Residence Status_Renting            0.008221\n",
              "28     20                      Account Savings_500-1000            0.006247\n",
              "29     16                        Reason for the Loan_TV            0.004703\n",
              "30     30                     Individual Status_Married            0.004423\n",
              "31      8                 Reason for the Loan_All other            0.003709\n",
              "32     14                Reason for the Loan_Renovation            0.003571\n",
              "33      2                        Type of Account_Type B            0.002867\n",
              "34      4        Account History_Average (known delays)            0.002695\n",
              "35     27                    Individual Status_Divorced            0.002391\n",
              "36     35                         Residence Status_Free            0.002247\n",
              "37     11              Reason for the Loan_Home Devices            0.001534\n",
              "38      7      Reason for the Loan_Advance Edu/training            0.000000\n",
              "39      6                      Account History_critical            0.000000\n",
              "40     38                              Job_Not Employed            0.000000"
            ]
          },
          "metadata": {},
          "execution_count": 56
        }
      ]
    },
    {
      "cell_type": "code",
      "source": [
        "# The Columns to keep in the analysis\n",
        "columns_to_keep = fi_df['Feature'][0:41]\n",
        "\n",
        "# Print them to check\n",
        "columns_to_keep\n"
      ],
      "metadata": {
        "id": "ZUff2gsV-0S8",
        "colab": {
          "base_uri": "https://localhost:8080/"
        },
        "outputId": "11ad1af3-3bdb-4628-980d-3f788d7c2005"
      },
      "execution_count": 57,
      "outputs": [
        {
          "output_type": "execute_result",
          "data": {
            "text/plain": [
              "0                            Account Savings_0-200\n",
              "1                             Account History_Good\n",
              "2                           Type of Account_Type A\n",
              "3                          Type of Account_No Data\n",
              "4                          Account Savings_No Data\n",
              "5                      Employment History_7+ Years\n",
              "6     Security / Collateral_Property - Real Estate\n",
              "7             Reason for the Loan_Buying a New Car\n",
              "8            Security / Collateral_Savings Account\n",
              "9                     Residence Status_House Owner\n",
              "10                    Employment History_2-5 Years\n",
              "11                          Type of Account_Type C\n",
              "12        Reason for the Loan_Support for Business\n",
              "13                   Security / Collateral_Vehicle\n",
              "14                        Individual Status_Female\n",
              "15                    Employment History_5-7 Years\n",
              "16                    Employment History_0-2 Years\n",
              "17                          Individual Status_Male\n",
              "18                         Account Savings_200-500\n",
              "19                                    Job_Services\n",
              "20                   Employment History_Unemployed\n",
              "21                   Job_Professional / Management\n",
              "22               Security / Collateral_No Security\n",
              "23     Reason for the Loan_Learning / Edu purposes\n",
              "24                           Account Savings_1000+\n",
              "25              Reason for the Loan_Home furniture\n",
              "26           Reason for the Loan_Buying a Used Car\n",
              "27                        Residence Status_Renting\n",
              "28                        Account Savings_500-1000\n",
              "29                          Reason for the Loan_TV\n",
              "30                       Individual Status_Married\n",
              "31                   Reason for the Loan_All other\n",
              "32                  Reason for the Loan_Renovation\n",
              "33                          Type of Account_Type B\n",
              "34          Account History_Average (known delays)\n",
              "35                      Individual Status_Divorced\n",
              "36                           Residence Status_Free\n",
              "37                Reason for the Loan_Home Devices\n",
              "38        Reason for the Loan_Advance Edu/training\n",
              "39                        Account History_critical\n",
              "40                                Job_Not Employed\n",
              "Name: Feature, dtype: object"
            ]
          },
          "metadata": {},
          "execution_count": 57
        }
      ]
    },
    {
      "cell_type": "markdown",
      "source": [
        "#### **Step 5** : Splitting the Data, Hold-Out Validation\n",
        "\n"
      ],
      "metadata": {
        "id": "gJHcs66OxYFr"
      }
    },
    {
      "cell_type": "code",
      "source": [
        "# Defining the X & y DataSets\n",
        "X = df[columns_to_keep].values\n",
        "y = df['Good Loan']\n",
        "\n",
        "# Converting the type from Object to int\n",
        "y = y.astype(int)\n",
        "\n",
        "# Printing the Shape of X & y\n",
        "display(X.shape, y.shape)"
      ],
      "metadata": {
        "colab": {
          "base_uri": "https://localhost:8080/",
          "height": 53
        },
        "id": "SwhVc4xAvPx8",
        "outputId": "6d50b904-1b20-4eb1-9c28-d7d249031a5d"
      },
      "execution_count": 58,
      "outputs": [
        {
          "output_type": "display_data",
          "data": {
            "text/plain": [
              "(1000, 41)"
            ]
          },
          "metadata": {}
        },
        {
          "output_type": "display_data",
          "data": {
            "text/plain": [
              "(1000,)"
            ]
          },
          "metadata": {}
        }
      ]
    },
    {
      "cell_type": "code",
      "source": [
        "# Hold-Out Validation\n",
        "X_train, X_test, y_train, y_test = train_test_split(X, y, train_size = 0.8, random_state = 12)\n",
        "\n",
        "X_train, X_valid, y_train, y_valid = train_test_split(X_train, y_train, train_size = 0.9, random_state = 12)\n",
        "\n",
        "# Printing the Shape of the Multiple Sets\n",
        "display(\"The Shape of X Sets\")\n",
        "print(X_train.shape)\n",
        "print(X_test.shape)\n",
        "print(X_valid.shape)\n",
        "  \n",
        "display(\"The Shape of y Sets\")\n",
        "print(y_train.shape)\n",
        "print(y_test.shape)\n",
        "print(y_valid.shape)"
      ],
      "metadata": {
        "colab": {
          "base_uri": "https://localhost:8080/",
          "height": 164
        },
        "id": "OVJ9273lvP1K",
        "outputId": "3319880c-734f-4014-d1e6-ad18229128ff"
      },
      "execution_count": 59,
      "outputs": [
        {
          "output_type": "display_data",
          "data": {
            "application/vnd.google.colaboratory.intrinsic+json": {
              "type": "string"
            },
            "text/plain": [
              "'The Shape of X Sets'"
            ]
          },
          "metadata": {}
        },
        {
          "output_type": "stream",
          "name": "stdout",
          "text": [
            "(720, 41)\n",
            "(200, 41)\n",
            "(80, 41)\n"
          ]
        },
        {
          "output_type": "display_data",
          "data": {
            "application/vnd.google.colaboratory.intrinsic+json": {
              "type": "string"
            },
            "text/plain": [
              "'The Shape of y Sets'"
            ]
          },
          "metadata": {}
        },
        {
          "output_type": "stream",
          "name": "stdout",
          "text": [
            "(720,)\n",
            "(200,)\n",
            "(80,)\n"
          ]
        }
      ]
    },
    {
      "cell_type": "code",
      "source": [
        "# Checking for the Distribution of the ys to see if we don't have any unbalanced data\n",
        "ys = [y_train, y_test, y_valid]\n",
        "\n",
        "for y in ys:\n",
        "  plt.rcParams[\"figure.autolayout\"] = True\n",
        "  seaborn_plot = sns.countplot(x = y, palette = \"Set2\")\n",
        "  for p in seaborn_plot.patches:\n",
        "    ax.annotate(f'\\n{p.get_height()}', (p.get_x()+0.2, p.get_height()), ha='center', va='top', color='white', size=18)\n",
        "\n"
      ],
      "metadata": {
        "colab": {
          "base_uri": "https://localhost:8080/",
          "height": 437
        },
        "id": "XmGk9QUbzi06",
        "outputId": "394893b8-e6ff-47e6-9b63-9b769dde6446"
      },
      "execution_count": 60,
      "outputs": [
        {
          "output_type": "display_data",
          "data": {
            "image/png": "[encoded data removed]",
            "text/plain": [
              "<Figure size 432x432 with 1 Axes>"
            ]
          },
          "metadata": {}
        }
      ]
    },
    {
      "cell_type": "markdown",
      "source": [
        "#### **Step 6** : Building the ML Model"
      ],
      "metadata": {
        "id": "J7Z1SgCMzDSc"
      }
    },
    {
      "cell_type": "markdown",
      "source": [
        "The Comparaison between the Linear Regression and the Logistic Regression Model.\n",
        "For our case, we will be deploying a Logistic Regression Model."
      ],
      "metadata": {
        "id": "el3xkO_D1Xor"
      }
    },
    {
      "cell_type": "markdown",
      "source": [
        "![LogReg.png](data:image/png;base64,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)"
      ],
      "metadata": {
        "id": "c20pubQ51ROT"
      }
    },
    {
      "cell_type": "markdown",
      "source": [
        "Some Details:\n",
        "\n",
        "- We fit an \"S\" Shape logistic Function\n",
        "- The curve tells you the porbability if a loan is good or bad\n",
        "- If we have a high Credit score, there is a high probability that it's a good loan"
      ],
      "metadata": {
        "id": "b3ZEqTdK7TyR"
      }
    },
    {
      "cell_type": "code",
      "source": [
        "# Creating the ML Model and training it\n",
        "log_reg = LogisticRegression(random_state = 15, solver = 'lbfgs')\n",
        "\n",
        "# Training the model on the Data\n",
        "log_reg.fit(X_train, y_train)"
      ],
      "metadata": {
        "id": "buVho9IgvP2_",
        "colab": {
          "base_uri": "https://localhost:8080/"
        },
        "outputId": "add2259c-0820-4370-b21c-acaaed40d6d9"
      },
      "execution_count": 61,
      "outputs": [
        {
          "output_type": "execute_result",
          "data": {
            "text/plain": [
              "LogisticRegression(random_state=15)"
            ]
          },
          "metadata": {},
          "execution_count": 61
        }
      ]
    },
    {
      "cell_type": "code",
      "source": [
        "# Predicting the Data\n",
        "y_pred = log_reg.predict(X_train)\n",
        "\n",
        "# Displaying the Predicting Vector\n",
        "display(type(y_pred), y_pred, y_pred.shape)"
      ],
      "metadata": {
        "id": "20F87GgTvP5n",
        "colab": {
          "base_uri": "https://localhost:8080/",
          "height": 655
        },
        "outputId": "5ca15b12-44df-421c-b82c-bd328fec43a7"
      },
      "execution_count": 76,
      "outputs": [
        {
          "output_type": "display_data",
          "data": {
            "text/plain": [
              "numpy.ndarray"
            ]
          },
          "metadata": {}
        },
        {
          "output_type": "display_data",
          "data": {
            "text/plain": [
              "array([0, 0, 1, 1, 1, 0, 0, 1, 0, 0, 1, 0, 1, 1, 1, 0, 1, 0, 0, 1, 0, 1,\n",
              "       0, 1, 0, 1, 0, 0, 1, 1, 0, 0, 0, 0, 1, 0, 1, 1, 1, 0, 1, 1, 0, 0,\n",
              "       0, 0, 1, 0, 0, 1, 1, 0, 0, 1, 0, 0, 1, 1, 0, 1, 0, 0, 1, 1, 0, 0,\n",
              "       0, 0, 1, 0, 1, 1, 0, 1, 0, 0, 1, 1, 0, 0, 1, 0, 0, 0, 1, 0, 1, 1,\n",
              "       1, 0, 1, 0, 0, 1, 0, 1, 1, 0, 1, 0, 1, 0, 0, 1, 0, 1, 0, 0, 1, 0,\n",
              "       0, 0, 1, 0, 1, 1, 0, 0, 0, 1, 0, 0, 0, 0, 0, 1, 0, 0, 1, 1, 1, 1,\n",
              "       1, 1, 0, 0, 1, 1, 0, 0, 0, 1, 0, 1, 0, 0, 1, 1, 1, 0, 1, 1, 1, 0,\n",
              "       1, 0, 0, 0, 1, 0, 0, 1, 1, 0, 0, 0, 0, 1, 0, 1, 0, 0, 0, 0, 0, 0,\n",
              "       0, 1, 1, 0, 0, 0, 0, 1, 0, 0, 1, 1, 1, 0, 1, 1, 1, 1, 0, 1, 0, 0,\n",
              "       1, 0, 1, 0, 0, 1, 0, 1, 0, 0, 1, 1, 0, 0, 1, 0, 0, 0, 0, 1, 1, 0,\n",
              "       0, 1, 1, 1, 1, 1, 0, 0, 1, 1, 1, 1, 1, 1, 1, 0, 0, 0, 1, 1, 1, 0,\n",
              "       0, 0, 1, 0, 0, 0, 1, 0, 1, 0, 1, 0, 0, 0, 0, 0, 0, 0, 1, 1, 1, 0,\n",
              "       0, 0, 1, 1, 0, 0, 0, 0, 0, 1, 0, 0, 0, 1, 1, 1, 0, 1, 1, 1, 0, 1,\n",
              "       1, 0, 0, 1, 1, 0, 1, 1, 0, 1, 1, 0, 0, 0, 1, 0, 1, 0, 1, 0, 1, 1,\n",
              "       0, 0, 0, 0, 0, 1, 0, 1, 1, 1, 1, 0, 1, 1, 1, 1, 0, 0, 0, 0, 1, 0,\n",
              "       0, 1, 1, 1, 1, 0, 0, 1, 0, 0, 1, 0, 1, 1, 1, 1, 1, 0, 0, 0, 0, 0,\n",
              "       1, 0, 1, 1, 0, 0, 1, 0, 1, 1, 1, 0, 1, 0, 0, 1, 1, 0, 0, 1, 1, 0,\n",
              "       1, 0, 0, 0, 1, 0, 0, 0, 0, 1, 0, 0, 1, 1, 0, 1, 1, 1, 0, 0, 0, 0,\n",
              "       0, 0, 0, 1, 0, 1, 0, 1, 1, 0, 0, 0, 0, 0, 1, 0, 0, 0, 0, 1, 0, 0,\n",
              "       1, 0, 0, 1, 0, 0, 1, 1, 1, 0, 0, 0, 1, 1, 0, 0, 1, 1, 0, 0, 1, 1,\n",
              "       0, 0, 0, 0, 1, 1, 1, 0, 1, 0, 0, 0, 1, 0, 0, 0, 1, 1, 0, 0, 1, 0,\n",
              "       0, 1, 0, 0, 1, 1, 1, 0, 0, 1, 0, 0, 0, 0, 0, 1, 0, 0, 1, 0, 0, 1,\n",
              "       0, 1, 0, 1, 1, 0, 0, 1, 1, 0, 0, 0, 1, 1, 0, 0, 1, 0, 0, 0, 1, 0,\n",
              "       0, 1, 0, 1, 1, 1, 0, 1, 0, 0, 0, 1, 0, 1, 1, 1, 1, 0, 0, 0, 0, 1,\n",
              "       0, 1, 1, 0, 0, 0, 0, 1, 1, 0, 0, 0, 0, 1, 0, 0, 1, 0, 0, 1, 1, 1,\n",
              "       1, 1, 0, 0, 1, 1, 1, 0, 0, 0, 0, 1, 0, 1, 1, 0, 0, 0, 1, 0, 1, 0,\n",
              "       1, 0, 0, 0, 1, 1, 1, 0, 0, 1, 0, 0, 0, 0, 1, 0, 0, 1, 1, 0, 1, 0,\n",
              "       1, 0, 1, 1, 1, 0, 1, 1, 0, 1, 0, 1, 1, 0, 1, 1, 0, 0, 0, 1, 0, 1,\n",
              "       1, 0, 1, 1, 1, 0, 0, 0, 1, 1, 0, 0, 0, 1, 0, 1, 0, 1, 1, 0, 1, 1,\n",
              "       0, 1, 1, 0, 1, 1, 0, 1, 0, 0, 0, 1, 0, 1, 1, 0, 1, 1, 1, 0, 0, 1,\n",
              "       0, 0, 0, 1, 1, 1, 0, 0, 0, 0, 0, 1, 0, 1, 0, 0, 0, 0, 0, 0, 1, 0,\n",
              "       1, 0, 0, 1, 0, 1, 0, 0, 1, 0, 1, 1, 1, 0, 0, 0, 0, 0, 1, 0, 0, 0,\n",
              "       1, 1, 1, 1, 1, 0, 0, 0, 0, 1, 0, 1, 1, 1, 1, 1])"
            ]
          },
          "metadata": {}
        },
        {
          "output_type": "display_data",
          "data": {
            "text/plain": [
              "(720,)"
            ]
          },
          "metadata": {}
        }
      ]
    },
    {
      "cell_type": "code",
      "source": [
        "# Predicting the Density of Probability\n",
        "prob_y_pred = log_reg.predict_proba(X_train)\n",
        "\n",
        "# Displaying the Matrix of Probabilities Predictions\n",
        "display(type(prob_y_pred), prob_y_pred, prob_y_pred.shape)"
      ],
      "metadata": {
        "colab": {
          "base_uri": "https://localhost:8080/",
          "height": 181
        },
        "id": "XeSeUz6rFMwB",
        "outputId": "184700d2-40f5-4795-a9ee-fd1293a31667"
      },
      "execution_count": 75,
      "outputs": [
        {
          "output_type": "display_data",
          "data": {
            "text/plain": [
              "numpy.ndarray"
            ]
          },
          "metadata": {}
        },
        {
          "output_type": "display_data",
          "data": {
            "text/plain": [
              "array([[0.62607402, 0.37392598],\n",
              "       [0.87076182, 0.12923818],\n",
              "       [0.08629877, 0.91370123],\n",
              "       ...,\n",
              "       [0.16621582, 0.83378418],\n",
              "       [0.22931747, 0.77068253],\n",
              "       [0.22204398, 0.77795602]])"
            ]
          },
          "metadata": {}
        },
        {
          "output_type": "display_data",
          "data": {
            "text/plain": [
              "(720, 2)"
            ]
          },
          "metadata": {}
        }
      ]
    },
    {
      "cell_type": "code",
      "source": [
        "# Predict logarithm of probability estimates\n",
        "log_prob_y_pred = log_reg.predict_log_proba(X_train)\n",
        "\n",
        "# Displaying the Matrix of Probabilities Predictions\n",
        "display(type(log_prob_y_pred), log_prob_y_pred, log_prob_y_pred.shape)"
      ],
      "metadata": {
        "colab": {
          "base_uri": "https://localhost:8080/",
          "height": 181
        },
        "id": "_Akx4AskGUXr",
        "outputId": "9cb3c6f4-5ed6-4f03-bc8b-8dace1768205"
      },
      "execution_count": 78,
      "outputs": [
        {
          "output_type": "display_data",
          "data": {
            "text/plain": [
              "numpy.ndarray"
            ]
          },
          "metadata": {}
        },
        {
          "output_type": "display_data",
          "data": {
            "text/plain": [
              "array([[-0.46828667, -0.98369742],\n",
              "       [-0.1383868 , -2.0460982 ],\n",
              "       [-2.44993999, -0.09025164],\n",
              "       ...,\n",
              "       [-1.7944682 , -0.18178069],\n",
              "       [-1.4726479 , -0.26047875],\n",
              "       [-1.50487979, -0.25108529]])"
            ]
          },
          "metadata": {}
        },
        {
          "output_type": "display_data",
          "data": {
            "text/plain": [
              "(720, 2)"
            ]
          },
          "metadata": {}
        }
      ]
    },
    {
      "cell_type": "code",
      "source": [
        "# Coefficients of the feature\n",
        "log_reg.coef_"
      ],
      "metadata": {
        "colab": {
          "base_uri": "https://localhost:8080/"
        },
        "id": "ojHJmnWOGr9m",
        "outputId": "e24e8657-3f4e-487a-aae2-d02f5987c866"
      },
      "execution_count": 82,
      "outputs": [
        {
          "output_type": "execute_result",
          "data": {
            "text/plain": [
              "array([[-1.46622764,  1.16025256,  0.97053806, -1.10599056,  0.21802189,\n",
              "         0.15514386,  0.56151322, -0.52346499, -0.07948359,  0.12391951,\n",
              "        -0.2189164 , -0.15293422,  0.17929   , -0.10062944, -0.13101603,\n",
              "         0.47702074, -0.37478387,  0.0785181 ,  0.08321841, -0.03457264,\n",
              "        -0.03873716, -0.21901401, -0.38167303, -0.38504044,  0.44403762,\n",
              "         0.08472715,  0.675408  , -0.14525487,  0.72067689,  0.05489069,\n",
              "         0.14075955,  0.1214819 , -0.33511274,  0.28811388, -0.19254796,\n",
              "        -0.08853446,  0.02106252, -0.3802238 ,  0.50777139, -0.96797744,\n",
              "        -0.13033765]])"
            ]
          },
          "metadata": {},
          "execution_count": 82
        }
      ]
    },
    {
      "cell_type": "code",
      "source": [
        "# Inspecting the shape of the Data\n",
        "log_reg.predict(X_train).shape"
      ],
      "metadata": {
        "id": "n_RCZvFZvP8J",
        "colab": {
          "base_uri": "https://localhost:8080/"
        },
        "outputId": "5003af4c-4f2e-4787-ece2-36cc02fea740"
      },
      "execution_count": 68,
      "outputs": [
        {
          "output_type": "execute_result",
          "data": {
            "text/plain": [
              "(720,)"
            ]
          },
          "metadata": {},
          "execution_count": 68
        }
      ]
    },
    {
      "cell_type": "markdown",
      "source": [
        "#### Step 7 : Evaluating the Model"
      ],
      "metadata": {
        "id": "uqHKTFnrIYG0"
      }
    },
    {
      "cell_type": "code",
      "source": [
        "# Scoring the Training Data\n",
        "print(\"The Training Accuracy : \", log_reg.score(X_train, y_train))\n",
        "\n",
        "# Scoring the Testing Data\n",
        "print(\"The Testing Accuracy : \", log_reg.score(X_test, y_test))\n",
        "\n",
        "# Classification Report\n",
        "print(classification_report(y_train, y_pred))"
      ],
      "metadata": {
        "colab": {
          "base_uri": "https://localhost:8080/"
        },
        "id": "XKspLup2IXld",
        "outputId": "41a014cc-e3f7-482f-ae01-f4aa43267616"
      },
      "execution_count": 86,
      "outputs": [
        {
          "output_type": "stream",
          "name": "stdout",
          "text": [
            "The Training Accuracy :  0.7583333333333333\n",
            "The Testing Accuracy :  0.805\n",
            "              precision    recall  f1-score   support\n",
            "\n",
            "           0       0.77      0.78      0.78       391\n",
            "           1       0.74      0.73      0.73       329\n",
            "\n",
            "    accuracy                           0.76       720\n",
            "   macro avg       0.76      0.76      0.76       720\n",
            "weighted avg       0.76      0.76      0.76       720\n",
            "\n"
          ]
        }
      ]
    },
    {
      "cell_type": "markdown",
      "source": [
        "**Defining the Confusion Matrix Function**"
      ],
      "metadata": {
        "id": "_51JfZG4Ka_l"
      }
    },
    {
      "cell_type": "code",
      "source": [
        "def plot_confusion_matrix(cm, classes = None, title = 'Confusion Matrix'):\n",
        "  if classes is not None:\n",
        "    sns.heatmap(cm, cmap = 'BuPu', xticklabels=classes, yticklabels=classes, vmin=0., vmax=1., annot=True, annot_kws={'size':50})\n",
        "  else:\n",
        "    sns.heatmap(cm, vmin = 0, vmax = 1)\n",
        "  plt.title(title)\n",
        "  plt.ylabel('True Labels')\n",
        "  plt.xlabel(\"Predicted Labels\")"
      ],
      "metadata": {
        "id": "uTrXsxjrvP-6"
      },
      "execution_count": 93,
      "outputs": []
    },
    {
      "cell_type": "code",
      "source": [
        "# Visualizing cm\n",
        "\n",
        "cm = confusion_matrix(y_train, y_pred)\n",
        "cm_norm = cm / cm.sum(axis=1).reshape(-1,1)\n",
        "\n",
        "plot_confusion_matrix(cm_norm, classes = log_reg.classes_, title='Confusion matrix')"
      ],
      "metadata": {
        "id": "18TTpGSovQEr",
        "colab": {
          "base_uri": "https://localhost:8080/",
          "height": 437
        },
        "outputId": "b5afd8ba-5135-45ad-c96e-1048ea331270"
      },
      "execution_count": 94,
      "outputs": [
        {
          "output_type": "display_data",
          "data": {
            "image/png": "[encoded data removed]",
            "text/plain": [
              "<Figure size 432x432 with 2 Axes>"
            ]
          },
          "metadata": {}
        }
      ]
    },
    {
      "cell_type": "code",
      "source": [
        "# Calculating False Positives (FP), False Negatives (FN), True Positives (TP) & True Negatives (TN)\n",
        "\n",
        "FP = cm.sum(axis=0) - np.diag(cm)\n",
        "FN = cm.sum(axis=1) - np.diag(cm)\n",
        "TP = np.diag(cm)\n",
        "TN = cm.sum() - (FP + FN + TP)\n",
        "\n",
        "\n",
        "# Sensitivity, hit rate, recall, or true positive rate\n",
        "TPR = TP / (TP + FN)\n",
        "print(\"The True Positive Rate is:\", TPR)\n",
        "\n",
        "# Precision or positive predictive value\n",
        "PPV = TP / (TP + FP)\n",
        "print(\"The Precision is:\", PPV)\n",
        "\n",
        "# False positive rate or False alarm rate\n",
        "FPR = FP / (FP + TN)\n",
        "print(\"The False positive rate is:\", FPR)\n",
        "\n",
        "\n",
        "# False negative rate or Miss Rate\n",
        "FNR = FN / (FN + TP)\n",
        "print(\"The False Negative Rate is: \", FNR)\n",
        "\n",
        "\n",
        "\n",
        "##Total averages :\n",
        "print(\"\")\n",
        "print(\"The average TPR is:\", TPR.sum()/2)\n",
        "print(\"The average Precision is:\", PPV.sum()/2)\n",
        "print(\"The average False positive rate is:\", FPR.sum()/2)\n",
        "print(\"The average False Negative Rate is:\", FNR.sum()/2)"
      ],
      "metadata": {
        "id": "tTRsHv-ZvQHp",
        "colab": {
          "base_uri": "https://localhost:8080/"
        },
        "outputId": "b491da20-dc00-4b72-9954-da38ba2644c6"
      },
      "execution_count": 95,
      "outputs": [
        {
          "output_type": "stream",
          "name": "stdout",
          "text": [
            "The True Positive Rate is: [0.7826087  0.72948328]\n",
            "The Precision is: [0.77468354 0.73846154]\n",
            "The False positive rate is: [0.27051672 0.2173913 ]\n",
            "The False Negative Rate is:  [0.2173913  0.27051672]\n",
            "\n",
            "The average TPR is: 0.756045989163473\n",
            "The average Precision is: 0.756572541382668\n",
            "The average False positive rate is: 0.243954010836527\n",
            "The average False Negative Rate is: 0.243954010836527\n"
          ]
        }
      ]
    },
    {
      "cell_type": "code",
      "source": [
        "from sklearn.metrics import plot_confusion_matrix\n",
        "\n",
        "cm_plotting = plot_confusion_matrix(log_reg, X_test, y_test, cmap = 'Blues', values_format = '.3g')"
      ],
      "metadata": {
        "id": "qADUpWbOvQKt",
        "colab": {
          "base_uri": "https://localhost:8080/",
          "height": 494
        },
        "outputId": "a0c14f74-f2cb-4130-e203-a4f708f6a288"
      },
      "execution_count": 99,
      "outputs": [
        {
          "output_type": "stream",
          "name": "stderr",
          "text": [
            "/usr/local/lib/python3.7/dist-packages/sklearn/utils/deprecation.py:87: FutureWarning: Function plot_confusion_matrix is deprecated; Function `plot_confusion_matrix` is deprecated in 1.0 and will be removed in 1.2. Use one of the class methods: ConfusionMatrixDisplay.from_predictions or ConfusionMatrixDisplay.from_estimator.\n",
            "  warnings.warn(msg, category=FutureWarning)\n"
          ]
        },
        {
          "output_type": "display_data",
          "data": {
            "image/png": "[encoded data removed]",
            "text/plain": [
              "<Figure size 432x432 with 2 Axes>"
            ]
          },
          "metadata": {}
        }
      ]
    },
    {
      "cell_type": "code",
      "source": [
        "cm_plotting.confusion_matrix"
      ],
      "metadata": {
        "id": "tpSACX3rvQNn",
        "colab": {
          "base_uri": "https://localhost:8080/"
        },
        "outputId": "4051f748-9514-4766-9b7f-8f0e575ce1a0"
      },
      "execution_count": 100,
      "outputs": [
        {
          "output_type": "execute_result",
          "data": {
            "text/plain": [
              "array([[85, 16],\n",
              "       [23, 76]])"
            ]
          },
          "metadata": {},
          "execution_count": 100
        }
      ]
    },
    {
      "cell_type": "code",
      "source": [
        ""
      ],
      "metadata": {
        "id": "TyQcFMys-0WI"
      },
      "execution_count": null,
      "outputs": []
    },
    {
      "cell_type": "code",
      "source": [
        ""
      ],
      "metadata": {
        "id": "pLtsXlZFZesD"
      },
      "execution_count": null,
      "outputs": []
    },
    {
      "cell_type": "code",
      "source": [
        ""
      ],
      "metadata": {
        "id": "NCQod1T7Zeun"
      },
      "execution_count": null,
      "outputs": []
    },
    {
      "cell_type": "code",
      "source": [
        ""
      ],
      "metadata": {
        "id": "QpHUtP43ZexK"
      },
      "execution_count": null,
      "outputs": []
    }
  ]
}